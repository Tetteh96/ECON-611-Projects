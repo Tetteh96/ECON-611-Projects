{
 "cells": [
  {
   "cell_type": "code",
   "execution_count": 6,
   "metadata": {},
   "outputs": [],
   "source": [
    "import numpy as np\n",
    "import pandas as pd\n",
    "import geopandas\n",
    "import matplotlib.pyplot as plt\n",
    "import datetime"
   ]
  },
  {
   "cell_type": "code",
   "execution_count": 2,
   "metadata": {},
   "outputs": [],
   "source": [
    "# filename = \"countiesWithStatesAndPopulation.shp\"\n",
    "# index_col = \"FIPS\"\n",
    "# map_data = geopandas.read_file(filename = filename).set_index([\"State\", \n",
    "#                                                                \"NAME\"])\n",
    "# map_plot_data = map_data.loc[[\"North Dakota\", \n",
    "#                             \"South Dakota\", \n",
    "#                             \"Minnesota\"]]\n",
    "\n",
    "# map_plot_data.plot(column = \"Population\", \n",
    "#                    cmap = \"viridis\",\n",
    "#                    alpha = 1,\n",
    "#                    edgecolor = \"k\")"
   ]
  },
  {
   "cell_type": "code",
   "execution_count": 3,
   "metadata": {},
   "outputs": [],
   "source": [
    "# filename = \"countiesWithStatesAndPopulation.shp\"\n",
    "# index_col = \"FIPS\"\n",
    "\n",
    "# map_data = geopandas.read_file(filename = filename).set_index([\"State\", \n",
    "#                                                                \"NAME\"])\n",
    "# map_data.info()"
   ]
  },
  {
   "cell_type": "code",
   "execution_count": 4,
   "metadata": {},
   "outputs": [],
   "source": [
    "# for key in map_data.keys():\n",
    "#     map_data[key] = pd.to_numeric(map_data[key], errors = \"coerce\")\n",
    "# map_data.dtypes"
   ]
  },
  {
   "cell_type": "code",
   "execution_count": 7,
   "metadata": {},
   "outputs": [],
   "source": [
    "plt.rcParams.update({'font.size': 32})\n",
    "filename = \"countiesWithStatesAndPopulation.shp\"\n",
    "index_col = \"FIPS\"\n",
    "map_data = geopandas.read_file(filename = filename).set_index([\"State\", \n",
    "                                                               \"NAME\"])\n",
    "states = [\"North Dakota\", \n",
    "          \"South Dakota\", \n",
    "          \"Minnesota\"]\n",
    "map_plot_data = map_data.loc[states]\n",
    "state_df = map_plot_data.dissolve(by=[\"State\"], aggfunc = \"median\")\n",
    "\n",
    "fig, ax = plt.subplots(figsize = (30,15))\n",
    "map_plot_data.plot(column = \"Population\", \n",
    "                   cmap = \"viridis\",\n",
    "                   alpha = 1, \n",
    "                   edgecolor = \"k\",\n",
    "                  ax = ax)\n",
    "state_df.plot(color = \"None\", \n",
    "                  alpha = 1,\n",
    "                  edgecolor = \"k\",\n",
    "                  linewidth = 8,\n",
    "                          ax = ax)\n"
   ]
  },
  {
   "cell_type": "code",
   "execution_count": 8,
   "metadata": {},
   "outputs": [],
   "source": [
    "def import_geo_data(filename, FIPS_name = \"FIPS\"):\n",
    "    map_data = geopandas.read_file(filename = filename).rename(\n",
    "        columns = {\"State\":\"state\"})\n",
    "    map_data[FIPS_name] = map_data[\"STATEFP\"].astype(str) +\\\n",
    "        map_data[\"COUNTYFP\"].astype(str)\n",
    "    map_data[FIPS_name] = map_data[FIPS_name].astype(np.int64)\n",
    "    map_data.set_index(FIPS_name, inplace = True)\n",
    "    \n",
    "    return map_data\n",
    "map_data = import_geo_data(filename = filename, FIPS_name = index_col)\n",
    "map_data"
   ]
  },
  {
   "cell_type": "code",
   "execution_count": null,
   "metadata": {},
   "outputs": [],
   "source": [
    "# plot only counties not in Hawaii or Alaska\n",
    "map_data[~map_data[\"state\"].isin(\n",
    "    [\"Hawaii\", \"Alaska\"])].plot(column = \"Population\")"
   ]
  },
  {
   "cell_type": "code",
   "execution_count": null,
   "metadata": {},
   "outputs": [],
   "source": [
    "u_data = pd.read_csv(\"countyUnemploymentData.csv\",\n",
    "                    encoding = \"latin1\",\n",
    "                    parse_dates = True,\n",
    "                    index_col = [\"date\", \"fips_code\"])\n",
    "u_data = u_data[list(u_data.keys())[-4:]]\n",
    "u_data.dtypes"
   ]
  },
  {
   "cell_type": "code",
   "execution_count": null,
   "metadata": {},
   "outputs": [],
   "source": [
    "for key in u_data.keys():\n",
    "    u_data[key] = pd.to_numeric(u_data[key], errors = \"coerce\")\n",
    "u_data.dtypes"
   ]
  },
  {
   "cell_type": "code",
   "execution_count": null,
   "metadata": {},
   "outputs": [],
   "source": [
    "import copy as copy\n",
    "def create_merged_geo_dataframe(data, map_data):\n",
    "    data_frame_initialized = False\n",
    "    matching_gpd = {} \n",
    "    counties = data.groupby(\"fips_code\").mean().index.unique()\n",
    "    dates = data.groupby(\"date\").mean().index.unique()\n",
    "    for key, val in data.items():\n",
    "        matching_gpd[key] = copy.copy(\n",
    "            map_data[map_data.index.isin(counties)])\n",
    "        for date in dates:\n",
    "            val_slice = val.loc[date]\n",
    "            val_slice.reset_index().set_index(\"fips_code\")\n",
    "            matching_gpd[key][date] = val_slice\n",
    "    return matching_gpd\n",
    "dates = u_data.groupby(\"date\").mean().index.unique()\n",
    "u_data = create_merged_geo_dataframe(u_data, map_data)"
   ]
  },
  {
   "cell_type": "code",
   "execution_count": null,
   "metadata": {},
   "outputs": [],
   "source": [
    "plot_data = u_data['Unemployment Rate'].copy()\n",
    "plot_data = plot_data[~plot_data['state'].isin(['Hawaii', 'Alaska'])]\n",
    "for date in dates:\n",
    "    plot_data.plot(column=date)\n",
    "    plt.title(str(date)[:10] + '\\nUnemployment Rate')"
   ]
  },
  {
   "cell_type": "code",
   "execution_count": null,
   "metadata": {},
   "outputs": [],
   "source": [
    "# for date in dates:\n",
    "#     plot_data.plot(column=date)"
   ]
  },
  {
   "cell_type": "code",
   "execution_count": null,
   "metadata": {},
   "outputs": [],
   "source": [
    "u_data['Unemployment Rate']"
   ]
  },
  {
   "cell_type": "code",
   "execution_count": null,
   "metadata": {},
   "outputs": [],
   "source": []
  }
 ],
 "metadata": {
  "kernelspec": {
   "display_name": "Python 3 (ipykernel)",
   "language": "python",
   "name": "python3"
  },
  "language_info": {
   "codemirror_mode": {
    "name": "ipython",
    "version": 3
   },
   "file_extension": ".py",
   "mimetype": "text/x-python",
   "name": "python",
   "nbconvert_exporter": "python",
   "pygments_lexer": "ipython3",
   "version": "3.10.11"
  }
 },
 "nbformat": 4,
 "nbformat_minor": 2
}
