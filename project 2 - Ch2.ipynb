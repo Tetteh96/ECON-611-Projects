{
 "cells": [
  {
   "attachments": {},
   "cell_type": "markdown",
   "metadata": {},
   "source": [
    "## Working with Lists\n",
    "\n",
    "\n",
    "|New Concepts | Description|\n",
    "| --- | --- |\n",
    "| Dynamic List | A dynamic list is encapsulated by brackets _([])_. A list is mutable. Elements can be added to or deleted from a list on the fly.|\n",
    "| List Concatenation | Two lists can be joined together in the same manner that strings are concatenated. |\n",
    "| List Indexing | Lists are indexed with the first element being indexed as zero and the last element as the length of (number of elements in) the list less one. Indexes are called using brackets – i.e., _lst[0]_ calls the 0th element in the list. |\n"
   ]
  },
  {
   "cell_type": "code",
   "execution_count": 1,
   "metadata": {},
   "outputs": [
    {
     "data": {
      "text/plain": [
       "([], list)"
      ]
     },
     "execution_count": 1,
     "metadata": {},
     "output_type": "execute_result"
    }
   ],
   "source": [
    "# create an empty list\n",
    "empty_list = []\n",
    "empty_list, type(empty_list)"
   ]
  },
  {
   "cell_type": "code",
   "execution_count": 2,
   "metadata": {},
   "outputs": [
    {
     "data": {
      "text/plain": [
       "([1, 2, 3, 4, 5], list)"
      ]
     },
     "execution_count": 2,
     "metadata": {},
     "output_type": "execute_result"
    }
   ],
   "source": [
    "# create a list containing integers\n",
    "int_list = [1,2,3,4,5]\n",
    "int_list, type(int_list)"
   ]
  },
  {
   "cell_type": "code",
   "execution_count": 3,
   "metadata": {},
   "outputs": [
    {
     "data": {
      "text/plain": [
       "([1.0, 2.0, 3.0, 4.0, 5.0], list)"
      ]
     },
     "execution_count": 3,
     "metadata": {},
     "output_type": "execute_result"
    }
   ],
   "source": [
    "# create a list containing floats\n",
    "float_list = [1.0,2.0,3.0,4.0,5.0]\n",
    "float_list, type(float_list)"
   ]
  },
  {
   "cell_type": "code",
   "execution_count": 4,
   "metadata": {},
   "outputs": [
    {
     "data": {
      "text/plain": [
       "(['Many words', 'impoverished meaning'], list)"
      ]
     },
     "execution_count": 4,
     "metadata": {},
     "output_type": "execute_result"
    }
   ],
   "source": [
    "# create a string list\n",
    "string_list = [\"Many words\", \"impoverished meaning\"]\n",
    "string_list, type(string_list)"
   ]
  },
  {
   "cell_type": "code",
   "execution_count": 5,
   "metadata": {},
   "outputs": [
    {
     "data": {
      "text/plain": [
       "([1, 2.0, 'Mix it up'], list)"
      ]
     },
     "execution_count": 5,
     "metadata": {},
     "output_type": "execute_result"
    }
   ],
   "source": [
    "# create a mixed list\n",
    "mixed_list = [1,2.0, \"Mix it up\"]\n",
    "mixed_list, type(string_list)"
   ]
  },
  {
   "attachments": {},
   "cell_type": "markdown",
   "metadata": {},
   "source": [
    "## Concatenation: Lists"
   ]
  },
  {
   "cell_type": "code",
   "execution_count": 6,
   "metadata": {},
   "outputs": [
    {
     "data": {
      "text/plain": [
       "[1, 2]"
      ]
     },
     "execution_count": 6,
     "metadata": {},
     "output_type": "execute_result"
    }
   ],
   "source": [
    "# contenate two list\n",
    "\n",
    "list1 = [1]\n",
    "list2 = [2]\n",
    "join_lists = list1 + list2\n",
    "join_lists"
   ]
  },
  {
   "cell_type": "code",
   "execution_count": 7,
   "metadata": {},
   "outputs": [
    {
     "data": {
      "text/plain": [
       "'12'"
      ]
     },
     "execution_count": 7,
     "metadata": {},
     "output_type": "execute_result"
    }
   ],
   "source": [
    "# similar to concatenating strings\n",
    "str1 = '1'\n",
    "str2 = '2'\n",
    "join_strs = str1 + str2\n",
    "join_strs"
   ]
  },
  {
   "attachments": {},
   "cell_type": "markdown",
   "metadata": {},
   "source": [
    "## for loop using in range will cycle through variable i from j to k - 1 by increments of l for i in range (j, k, l)"
   ]
  },
  {
   "cell_type": "code",
   "execution_count": 8,
   "metadata": {},
   "outputs": [
    {
     "name": "stdout",
     "output_type": "stream",
     "text": [
      "1\n",
      "2\n",
      "3\n",
      "4\n",
      "5\n",
      "6\n",
      "7\n",
      "8\n",
      "9\n",
      "10\n"
     ]
    }
   ],
   "source": [
    "for i in range (1, 11):\n",
    "    print(i)"
   ]
  },
  {
   "cell_type": "code",
   "execution_count": 9,
   "metadata": {},
   "outputs": [
    {
     "name": "stdout",
     "output_type": "stream",
     "text": [
      "1\n",
      "3\n",
      "6\n",
      "10\n",
      "15\n",
      "21\n",
      "28\n",
      "36\n",
      "45\n",
      "55\n",
      "66\n",
      "78\n",
      "91\n",
      "105\n",
      "120\n",
      "136\n",
      "153\n",
      "171\n",
      "190\n",
      "210\n",
      "231\n",
      "253\n",
      "276\n",
      "300\n",
      "325\n",
      "351\n",
      "378\n",
      "406\n",
      "435\n",
      "465\n",
      "496\n",
      "528\n",
      "561\n",
      "595\n",
      "630\n",
      "666\n",
      "703\n",
      "741\n",
      "780\n",
      "820\n",
      "861\n",
      "903\n",
      "946\n",
      "990\n",
      "1035\n",
      "1081\n",
      "1128\n",
      "1176\n",
      "1225\n",
      "1275\n",
      "1326\n",
      "1378\n",
      "1431\n",
      "1485\n",
      "1540\n",
      "1596\n",
      "1653\n",
      "1711\n",
      "1770\n",
      "1830\n",
      "1891\n",
      "1953\n",
      "2016\n",
      "2080\n",
      "2145\n",
      "2211\n",
      "2278\n",
      "2346\n",
      "2415\n",
      "2485\n",
      "2556\n",
      "2628\n",
      "2701\n",
      "2775\n",
      "2850\n",
      "2926\n",
      "3003\n",
      "3081\n",
      "3160\n",
      "3240\n",
      "3321\n",
      "3403\n",
      "3486\n",
      "3570\n",
      "3655\n",
      "3741\n",
      "3828\n",
      "3916\n",
      "4005\n",
      "4095\n",
      "4186\n",
      "4278\n",
      "4371\n",
      "4465\n",
      "4560\n",
      "4656\n",
      "4753\n",
      "4851\n",
      "4950\n",
      "5050\n",
      "\n",
      "5050\n"
     ]
    }
   ],
   "source": [
    "total = 0\n",
    "for i in range (1, 101):\n",
    "    total = total + i\n",
    "    print(total) # printing within the loop prints the numbers\n",
    "print()\n",
    "print(total) # printing outside the loop prints the total value"
   ]
  },
  {
   "cell_type": "code",
   "execution_count": 10,
   "metadata": {},
   "outputs": [
    {
     "name": "stdout",
     "output_type": "stream",
     "text": [
      "1\n",
      "4\n",
      "9\n",
      "16\n",
      "25\n",
      "36\n",
      "49\n",
      "64\n",
      "81\n",
      "100\n",
      "121\n",
      "144\n",
      "169\n",
      "196\n",
      "225\n",
      "256\n",
      "289\n",
      "324\n",
      "361\n",
      "400\n",
      "441\n",
      "484\n",
      "529\n",
      "576\n",
      "625\n",
      "676\n",
      "729\n",
      "784\n",
      "841\n",
      "900\n",
      "961\n",
      "1024\n",
      "1089\n",
      "1156\n",
      "1225\n",
      "1296\n",
      "1369\n",
      "1444\n",
      "1521\n",
      "1600\n",
      "1681\n",
      "1764\n",
      "1849\n",
      "1936\n",
      "2025\n",
      "2116\n",
      "2209\n",
      "2304\n",
      "2401\n",
      "2500\n"
     ]
    }
   ],
   "source": [
    "# count by 2\n",
    "total = 0\n",
    "for i in range (1, 101, 2):\n",
    "    total = total + i\n",
    "    print(total)"
   ]
  },
  {
   "cell_type": "code",
   "execution_count": 11,
   "metadata": {},
   "outputs": [
    {
     "name": "stdout",
     "output_type": "stream",
     "text": [
      "1 1\n",
      "2 3\n",
      "3 6\n",
      "4 10\n",
      "5 15\n",
      "6 21\n",
      "7 28\n",
      "8 36\n",
      "9 45\n",
      "10 55\n",
      "11 66\n",
      "12 78\n",
      "13 91\n",
      "14 105\n",
      "15 120\n",
      "16 136\n",
      "17 153\n",
      "18 171\n",
      "19 190\n",
      "20 210\n",
      "21 231\n",
      "22 253\n",
      "23 276\n",
      "24 300\n",
      "25 325\n",
      "26 351\n",
      "27 378\n",
      "28 406\n",
      "29 435\n",
      "30 465\n",
      "31 496\n",
      "32 528\n",
      "33 561\n",
      "34 595\n",
      "35 630\n",
      "36 666\n",
      "37 703\n",
      "38 741\n",
      "39 780\n",
      "40 820\n",
      "41 861\n",
      "42 903\n",
      "43 946\n",
      "44 990\n",
      "45 1035\n",
      "46 1081\n",
      "47 1128\n",
      "48 1176\n",
      "49 1225\n",
      "50 1275\n",
      "51 1326\n",
      "52 1378\n",
      "53 1431\n",
      "54 1485\n",
      "55 1540\n",
      "56 1596\n",
      "57 1653\n",
      "58 1711\n",
      "59 1770\n",
      "60 1830\n",
      "61 1891\n",
      "62 1953\n",
      "63 2016\n",
      "64 2080\n",
      "65 2145\n",
      "66 2211\n",
      "67 2278\n",
      "68 2346\n",
      "69 2415\n",
      "70 2485\n",
      "71 2556\n",
      "72 2628\n",
      "73 2701\n",
      "74 2775\n",
      "75 2850\n",
      "76 2926\n",
      "77 3003\n",
      "78 3081\n",
      "79 3160\n",
      "80 3240\n",
      "81 3321\n",
      "82 3403\n",
      "83 3486\n",
      "84 3570\n",
      "85 3655\n",
      "86 3741\n",
      "87 3828\n",
      "88 3916\n",
      "89 4005\n",
      "90 4095\n",
      "91 4186\n",
      "92 4278\n",
      "93 4371\n",
      "94 4465\n",
      "95 4560\n",
      "96 4656\n",
      "97 4753\n",
      "98 4851\n",
      "99 4950\n",
      "100 5050\n"
     ]
    }
   ],
   "source": [
    "total = 0\n",
    "for i in range (1, 101):\n",
    "    total = total + i\n",
    "    print(i, total)"
   ]
  },
  {
   "cell_type": "code",
   "execution_count": 26,
   "metadata": {},
   "outputs": [
    {
     "name": "stdout",
     "output_type": "stream",
     "text": [
      "1 1\n",
      "3 4\n",
      "5 9\n",
      "7 16\n",
      "9 25\n",
      "11 36\n",
      "13 49\n",
      "15 64\n",
      "17 81\n",
      "19 100\n",
      "21 121\n",
      "23 144\n",
      "25 169\n",
      "27 196\n",
      "29 225\n",
      "31 256\n",
      "33 289\n",
      "35 324\n",
      "37 361\n",
      "39 400\n",
      "41 441\n",
      "43 484\n",
      "45 529\n",
      "47 576\n",
      "49 625\n",
      "51 676\n",
      "53 729\n",
      "55 784\n",
      "57 841\n",
      "59 900\n",
      "61 961\n",
      "63 1024\n",
      "65 1089\n",
      "67 1156\n",
      "69 1225\n",
      "71 1296\n",
      "73 1369\n",
      "75 1444\n",
      "77 1521\n",
      "79 1600\n",
      "81 1681\n",
      "83 1764\n",
      "85 1849\n",
      "87 1936\n",
      "89 2025\n",
      "91 2116\n",
      "93 2209\n",
      "95 2304\n",
      "97 2401\n",
      "99 2500\n"
     ]
    }
   ],
   "source": [
    "total = 0\n",
    "for i in range (1, 101, 2):\n",
    "    total = total + i\n",
    "    print(i, total)"
   ]
  },
  {
   "cell_type": "code",
   "execution_count": 12,
   "metadata": {},
   "outputs": [
    {
     "name": "stdout",
     "output_type": "stream",
     "text": [
      "543\n",
      "342\n",
      "6\n",
      "435\n",
      "543\n",
      "\n",
      "j\n",
      "h\n",
      "t\n",
      "i\n",
      "4\n",
      "k\n",
      "3\n",
      "h\n",
      "2\n",
      "3\n",
      "i\n",
      "\n",
      "j False\n",
      "h False\n",
      "t False\n",
      "i False\n",
      "4 False\n",
      "k True\n",
      "3 False\n",
      "h False\n",
      "2 False\n",
      "3 False\n",
      "i False\n"
     ]
    }
   ],
   "source": [
    "lst1 = [543, 342, 6, 435, 543]\n",
    "string1 = 'jhti4k3h23i'\n",
    "\n",
    "for val in lst1:\n",
    "    print(val)\n",
    "print()\n",
    "\n",
    "for letter in string1:\n",
    "    print(letter)\n",
    "print()\n",
    "\n",
    "\n",
    "\n",
    "for letter in string1:\n",
    "    print(letter, letter == 'k') # find letter 'k'"
   ]
  },
  {
   "cell_type": "code",
   "execution_count": 13,
   "metadata": {},
   "outputs": [
    {
     "name": "stdout",
     "output_type": "stream",
     "text": [
      "0 Is the word The 'ate'?: False\n",
      "1 Is the word dog 'ate'?: False\n",
      "2 Is the word ate 'ate'?: True\n",
      "3 Is the word the 'ate'?: False\n",
      "4 Is the word snow 'ate'?: False\n",
      "5 Is the word and 'ate'?: False\n",
      "6 Is the word ate 'ate'?: True\n",
      "7 Is the word his 'ate'?: False\n",
      "8 Is the word dog 'ate'?: False\n",
      "9 Is the word food 'ate'?: False\n"
     ]
    },
    {
     "data": {
      "text/plain": [
       "[2, 6]"
      ]
     },
     "execution_count": 13,
     "metadata": {},
     "output_type": "execute_result"
    }
   ],
   "source": [
    "words = ['The', 'dog', 'ate', 'the', 'snow', 'and', 'ate', 'his', 'dog', 'food']\n",
    "# does the word 'ate appear in the list? If so, where?\n",
    "ate_index_list = []\n",
    "\n",
    "num_words = len(words)\n",
    "for i in range (num_words):\n",
    "    # save the string at index i as word\n",
    "    word = words[i]\n",
    "    # is_ate \n",
    "    is_ate = word == 'ate'\n",
    "    print(i, 'Is the word', word, '\\'ate\\'?:', is_ate)\n",
    "\n",
    "    if is_ate:\n",
    "        ate_index_list.append(i)\n",
    "ate_index_list"
   ]
  },
  {
   "cell_type": "code",
   "execution_count": 14,
   "metadata": {},
   "outputs": [
    {
     "name": "stdout",
     "output_type": "stream",
     "text": [
      "1 is not greater than 10\n",
      "6 is not greater than 10\n",
      "23 is greater than 10\n",
      "765432 is greater than 10\n",
      "432 is greater than 10\n",
      "1 is not greater than 10\n",
      "34 is greater than 10\n",
      "43 is greater than 10\n",
      "5 is not greater than 10\n",
      "7 is not greater than 10\n",
      "4 is not greater than 10\n"
     ]
    }
   ],
   "source": [
    "random_numbers = [1, 6, 23, 765432, 432, 1, 34, 43, 5, 7, 4]\n",
    "\n",
    "# is the number greater than 10\n",
    "not_greater_than_10 = []\n",
    "greater_than_10 = []\n",
    "for number in random_numbers:\n",
    "    if number > 10:\n",
    "        print(number, 'is greater than 10')\n",
    "        greater_than_10.append(number)\n",
    "    else:\n",
    "        print(number, 'is not greater than 10')\n",
    "        not_greater_than_10.append(number)\n"
   ]
  },
  {
   "cell_type": "code",
   "execution_count": 15,
   "metadata": {},
   "outputs": [
    {
     "name": "stdout",
     "output_type": "stream",
     "text": [
      "1 is the domain of 0 and 10\n",
      "6 is the domain of 0 and 10\n",
      "23 is greater than 10\n",
      "765432 is greater than 10\n",
      "432 is greater than 10\n",
      "1 is the domain of 0 and 10\n",
      "34 is greater than 10\n",
      "43 is greater than 10\n",
      "5 is the domain of 0 and 10\n",
      "7 is the domain of 0 and 10\n",
      "4 is the domain of 0 and 10\n"
     ]
    }
   ],
   "source": [
    "random_numbers = [1, 6, 23, 765432, 432, 1, 34, 43, 5, 7, 4]\n",
    "\n",
    "# is the number greater than 10\n",
    "not_greater_than_10 = []\n",
    "zero_to_10 =[]\n",
    "negative_numbers = []\n",
    "for number in random_numbers:\n",
    "    if number > 10:\n",
    "        print(number, 'is greater than 10')\n",
    "        greater_than_10.append(number)\n",
    "    elif number >= 0:\n",
    "        print(number, 'is the domain of 0 and 10')\n",
    "        zero_to_10.append(number)\n",
    "    else:\n",
    "        print(number, 'is negative')\n",
    "        negative_numbers.append(number)\n"
   ]
  },
  {
   "cell_type": "code",
   "execution_count": 16,
   "metadata": {},
   "outputs": [
    {
     "data": {
      "text/plain": [
       "([23, 765432, 432, 34, 43, 23, 765432, 432, 34, 43], [1, 6, 1, 5, 7, 4], [])"
      ]
     },
     "execution_count": 16,
     "metadata": {},
     "output_type": "execute_result"
    }
   ],
   "source": [
    "greater_than_10, zero_to_10, negative_numbers"
   ]
  },
  {
   "cell_type": "code",
   "execution_count": 17,
   "metadata": {},
   "outputs": [
    {
     "name": "stdout",
     "output_type": "stream",
     "text": [
      "1 is the domain of 0 and 10\n",
      "6 is the domain of 0 and 10\n",
      "23 is greater than 10\n",
      "765432 is greater than 10\n",
      "432 is greater than 10\n",
      "1 is the domain of 0 and 10\n",
      "34 is greater than 10\n",
      "43 is greater than 10\n",
      "5 is the domain of 0 and 10\n",
      "7 is the domain of 0 and 10\n",
      "4 is the domain of 0 and 10\n",
      "-1 is negative\n",
      "-45 is negative\n"
     ]
    }
   ],
   "source": [
    "random_numbers = [1, 6, 23, 765432, 432, 1, 34, 43, 5, 7, 4, -1, -45]\n",
    "\n",
    "# is the number greater than 10\n",
    "not_greater_than_10 = []\n",
    "zero_to_10 =[]\n",
    "negative_numbers = []\n",
    "for number in random_numbers:\n",
    "    if number > 10:\n",
    "        print(number, 'is greater than 10')\n",
    "        greater_than_10.append(number)\n",
    "    elif number >= 0:\n",
    "        print(number, 'is the domain of 0 and 10')\n",
    "        zero_to_10.append(number)\n",
    "    else:\n",
    "        print(number, 'is negative')\n",
    "        negative_numbers.append(number)\n"
   ]
  },
  {
   "cell_type": "code",
   "execution_count": 18,
   "metadata": {},
   "outputs": [
    {
     "data": {
      "text/plain": [
       "([23, 765432, 432, 34, 43, 23, 765432, 432, 34, 43, 23, 765432, 432, 34, 43],\n",
       " [1, 6, 1, 5, 7, 4],\n",
       " [-1, -45])"
      ]
     },
     "execution_count": 18,
     "metadata": {},
     "output_type": "execute_result"
    }
   ],
   "source": [
    "greater_than_10, zero_to_10, negative_numbers"
   ]
  },
  {
   "attachments": {},
   "cell_type": "markdown",
   "metadata": {},
   "source": [
    "## use del lst[i]"
   ]
  },
  {
   "cell_type": "code",
   "execution_count": 19,
   "metadata": {},
   "outputs": [
    {
     "data": {
      "text/plain": [
       "([23, 432, 34, 43, 23, 765432, 432, 34, 43, 23, 765432, 432, 34, 43],\n",
       " [1, 1, 5, 7, 4],\n",
       " [-1])"
      ]
     },
     "execution_count": 19,
     "metadata": {},
     "output_type": "execute_result"
    }
   ],
   "source": [
    "del greater_than_10[1]\n",
    "del zero_to_10[1]\n",
    "del negative_numbers[1]\n",
    "greater_than_10, zero_to_10, negative_numbers"
   ]
  },
  {
   "cell_type": "code",
   "execution_count": 20,
   "metadata": {},
   "outputs": [
    {
     "data": {
      "text/plain": [
       "([23, 432, 34, 43, 23, 765432, 432, 34, 43, 23, 765432, 432, 34],\n",
       " [1, 1, 5, 7],\n",
       " [])"
      ]
     },
     "execution_count": 20,
     "metadata": {},
     "output_type": "execute_result"
    }
   ],
   "source": [
    "del greater_than_10[-1]\n",
    "del zero_to_10[-1]\n",
    "del negative_numbers[-1]\n",
    "greater_than_10, zero_to_10, negative_numbers"
   ]
  },
  {
   "cell_type": "code",
   "execution_count": 21,
   "metadata": {},
   "outputs": [
    {
     "data": {
      "text/plain": [
       "([432, 34, 43, 23, 765432, 432, 34, 43, 23, 765432, 432, 34], [1, 5, 7])"
      ]
     },
     "execution_count": 21,
     "metadata": {},
     "output_type": "execute_result"
    }
   ],
   "source": [
    "greater_than_10.remove(23)\n",
    "\n",
    "zero_to_10.remove(1)\n",
    "greater_than_10, zero_to_10"
   ]
  },
  {
   "attachments": {},
   "cell_type": "markdown",
   "metadata": {},
   "source": [
    "## use lst.pop()"
   ]
  },
  {
   "cell_type": "code",
   "execution_count": 22,
   "metadata": {},
   "outputs": [
    {
     "data": {
      "text/plain": [
       "([432, 34, 43, 23, 765432, 432, 34, 43, 23, 765432, 432], 34)"
      ]
     },
     "execution_count": 22,
     "metadata": {},
     "output_type": "execute_result"
    }
   ],
   "source": [
    "last_val_in_list = greater_than_10.pop()\n",
    "greater_than_10, last_val_in_list"
   ]
  },
  {
   "attachments": {},
   "cell_type": "markdown",
   "metadata": {},
   "source": [
    "## sorting lists"
   ]
  },
  {
   "cell_type": "code",
   "execution_count": 23,
   "metadata": {},
   "outputs": [
    {
     "data": {
      "text/plain": [
       "([1, 4, 2, 5, 543, 22], [1, 2, 4, 5, 22, 543], [1, 4, 2, 5, 543, 22])"
      ]
     },
     "execution_count": 23,
     "metadata": {},
     "output_type": "execute_result"
    }
   ],
   "source": [
    "num_list = [1, 4, 2, 5, 543, 22]\n",
    "num_list, sorted(num_list), num_list"
   ]
  },
  {
   "cell_type": "code",
   "execution_count": 24,
   "metadata": {},
   "outputs": [
    {
     "data": {
      "text/plain": [
       "(['A', 'list', 'of', 'strings', 'is', 'in', 'string_list'],\n",
       " ['A', 'in', 'is', 'list', 'of', 'string_list', 'strings'])"
      ]
     },
     "execution_count": 24,
     "metadata": {},
     "output_type": "execute_result"
    }
   ],
   "source": [
    "string_list = ['A', 'list', 'of', 'strings', 'is', 'in', 'string_list']\n",
    "string_list, sorted(string_list)"
   ]
  },
  {
   "cell_type": "code",
   "execution_count": 25,
   "metadata": {},
   "outputs": [
    {
     "ename": "TypeError",
     "evalue": "'<' not supported between instances of 'str' and 'int'",
     "output_type": "error",
     "traceback": [
      "\u001b[1;31m---------------------------------------------------------------------------\u001b[0m",
      "\u001b[1;31mTypeError\u001b[0m                                 Traceback (most recent call last)",
      "Cell \u001b[1;32mIn[25], line 3\u001b[0m\n\u001b[0;32m      1\u001b[0m \u001b[39m# sorting mixed types will generate an error\u001b[39;00m\n\u001b[0;32m      2\u001b[0m \u001b[39m# you cannot compare strings and numerical values\u001b[39;00m\n\u001b[1;32m----> 3\u001b[0m \u001b[39msorted\u001b[39;49m(num_list \u001b[39m+\u001b[39;49m string_list)\n",
      "\u001b[1;31mTypeError\u001b[0m: '<' not supported between instances of 'str' and 'int'"
     ]
    }
   ],
   "source": [
    "# sorting mixed types will generate an error\n",
    "# you cannot compare strings and numerical values\n",
    "sorted(num_list + string_list)"
   ]
  },
  {
   "attachments": {},
   "cell_type": "markdown",
   "metadata": {},
   "source": [
    "## list slices"
   ]
  },
  {
   "cell_type": "code",
   "execution_count": null,
   "metadata": {},
   "outputs": [
    {
     "data": {
      "text/plain": [
       "([1, 2, 3, 4, 5, 6, 6, 7], [3, 4, 5])"
      ]
     },
     "execution_count": 14,
     "metadata": {},
     "output_type": "execute_result"
    }
   ],
   "source": [
    "# a sliced list takes a subset of values from a list\n",
    "lst = [1, 2, 3, 4, 5, 6, 6, 7]\n",
    "\n",
    "# compare full list and sliced list\n",
    "lst, lst[2:5]"
   ]
  },
  {
   "cell_type": "code",
   "execution_count": null,
   "metadata": {},
   "outputs": [
    {
     "data": {
      "text/plain": [
       "([1, 2, 3, 4, 5, 6, 6, 7], [1, 3, 5, 6])"
      ]
     },
     "execution_count": 15,
     "metadata": {},
     "output_type": "execute_result"
    }
   ],
   "source": [
    "lst, lst[0:-1:2]"
   ]
  },
  {
   "cell_type": "code",
   "execution_count": null,
   "metadata": {},
   "outputs": [
    {
     "data": {
      "text/plain": [
       "([1, 2, 3, 4, 5, 6, 6, 7], [1, 3, 5, 6])"
      ]
     },
     "execution_count": 16,
     "metadata": {},
     "output_type": "execute_result"
    }
   ],
   "source": [
    "lst, lst[::2]"
   ]
  },
  {
   "attachments": {},
   "cell_type": "markdown",
   "metadata": {},
   "source": [
    "## lists and generator functions"
   ]
  },
  {
   "cell_type": "code",
   "execution_count": null,
   "metadata": {},
   "outputs": [
    {
     "data": {
      "text/plain": [
       "<generator object <genexpr> at 0x000001E0C6427BC0>"
      ]
     },
     "execution_count": 17,
     "metadata": {},
     "output_type": "execute_result"
    }
   ],
   "source": [
    "generator = (i for i in range(20))\n",
    "generator"
   ]
  },
  {
   "cell_type": "code",
   "execution_count": null,
   "metadata": {},
   "outputs": [
    {
     "data": {
      "text/plain": [
       "[0, 1, 2, 3, 4, 5, 6, 7, 8, 9, 10, 11, 12, 13, 14, 15, 16, 17, 18, 19]"
      ]
     },
     "execution_count": 18,
     "metadata": {},
     "output_type": "execute_result"
    }
   ],
   "source": [
    "list1 = list(generator)\n",
    "list1"
   ]
  }
 ],
 "metadata": {
  "kernelspec": {
   "display_name": "Python 3",
   "language": "python",
   "name": "python3"
  },
  "language_info": {
   "codemirror_mode": {
    "name": "ipython",
    "version": 3
   },
   "file_extension": ".py",
   "mimetype": "text/x-python",
   "name": "python",
   "nbconvert_exporter": "python",
   "pygments_lexer": "ipython3",
   "version": "3.10.9 (tags/v3.10.9:1dd9be6, Dec  6 2022, 20:01:21) [MSC v.1934 64 bit (AMD64)]"
  },
  "orig_nbformat": 4,
  "vscode": {
   "interpreter": {
    "hash": "2dc4c6a692b63101f011a0aa102be2339a2da38695e31b8e74f44edafe8bbd18"
   }
  }
 },
 "nbformat": 4,
 "nbformat_minor": 2
}
