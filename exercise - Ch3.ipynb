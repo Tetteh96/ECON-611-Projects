{
 "cells": [
  {
   "cell_type": "code",
   "execution_count": 1,
   "metadata": {},
   "outputs": [],
   "source": [
    "# import the pandas library\n",
    "import pandas as pd\n",
    "from IPython.display import HTML # to create clickable links in the dataframe"
   ]
  },
  {
   "cell_type": "code",
   "execution_count": 2,
   "metadata": {},
   "outputs": [
    {
     "data": {
      "text/plain": [
       "{'Bernard Kwoku, Avle': {'Area of Expertise': 'Broadcast Journalist',\n",
       "  'Biograpyh': 'Bernard is the host of The Point of View on Citi TV. He is also the host of the Citi Breakfast Show on Citi FM. He is a passionate Ghanaian who believes in Africa. Off-air, he is the General Manager of Citi TV and Citi 97.3 FM. He has won numerous awards including the Ghana Journalist Awards; Journalist of the Year 2017.',\n",
       "  'Website/Social Media': 'https://twitter.com/benkoku'},\n",
       " 'Selorm Adadevoh': {'Area of Expertise': 'Business and Technology Executive',\n",
       "  'Biograpyh': 'Selorm Adadevoh is Chief Executive Officer & Executive Director at Scancom Plc. Mr. Adadevoh is also Member of African Leadership Network and on the board of 5 other companies. In his past career he was Head-Mobile Financial Services at Millicom Ghana Ltd. and Chief Executive & Operations Officer at Digicel Foundation. Mr. Adadevoh received an MBA from The Wharton School of the University of Pennsylvania and an undergraduate degree from Kwame Nkrumah University of Science & Technology.',\n",
       "  'Website/Social Media': 'https://www.linkedin.com/in/selorm-adadevoh-43b648/?originalSubdomain=gh'},\n",
       " 'Samuel Esson Jonah': {'Area of Expertise': 'Businessman/Investor',\n",
       "  'Biograpyh': 'Samuel Esson Jonah (born 19 November 1949) is a Ghanaian businessman and the current chancellor of the University of Cape Coast. He is the executive chairman of Jonah Capital, an equity fund based in Johannesburg, South Africa. Jonah was previously president of AngloGold Ashanti and shared the strategic leadership of the company with its CEO, Bobby Godsell.',\n",
       "  'Website/Social Media': 'https://www.linkedin.com/in/sam-jonah-821a2266/'},\n",
       " 'Lionel Messi': {'Area of Expertise': 'Football',\n",
       "  'Biograpyh': \"Messi is the captain of Argentina national team and currently plays as a forward for Ligue 1 club Paris Saint-Germain, after ending his long career with FC Barcelona last year. He is a seven-time Ballon D'or winner. He recently captained Argentina to win the just ended 2022 FIFA Quatar World Cup.\",\n",
       "  'Website/Social Media': 'https://messi.com/en/'},\n",
       " 'Lebron James': {'Area of Expertise': 'Basketball',\n",
       "  'Biograpyh': \"LeBron James was born on December 30, 1984, in Akron, Ohio, and is widely considered the finest basketball player in the world. In the fifth grade, he began playing organized basketball. His freshman year of high school began with him joining the varsity basketball team at St. Vincent-St. Mary's. However, James was a multi-talented athlete who excelled in sports other than basketball. His efforts as an advocate for children from his hometown of Akron have impacted people's lives around the nation.\",\n",
       "  'Website/Social Media': 'https://www.lebronjames.com/'},\n",
       " 'Warren Buffett': {'Area of Expertise': 'Businessman',\n",
       "  'Biograpyh': \"Warren Buffett demonstrated keen business abilities at a young age. He formed Buffett Partnership Ltd. in 1956, and by 1965 he had assumed control of Berkshire Hathaway. Overseeing the growth of a conglomerate with holdings in the media, insurance, energy and food and beverage industries, Buffett became one of the world's richest men and a celebrated philanthropist.\",\n",
       "  'Website/Social Media': 'https://buffett.cnbc.com/'},\n",
       " 'Jack Ma': {'Area of Expertise': 'Businessman',\n",
       "  'Biograpyh': \"Jack Ma was born on September 10, 1964, in Hangzhou, Zhejiang, China. He is a Chinese business magnate who is the founder and executive chairman of Alibaba Group, a family of successful Internet-based businesses. He is one of the world's greatest living examples of entrepreneurship today. Once a poor lad who survived by guiding tourists, Ma left no stone unturned to rise above his humble condition and achieve success. One of the first steps he took in this regard was to improve his communication skills by learning English. Jack was one of the first few individuals who saw Internet as a business opportunity even at a time when the rest of the world didn't believe in his thoughts. After starting his first venture using a mere $20000, the entrepreneur earned around $800,000 in a matter of just three years.\",\n",
       "  'Website/Social Media': 'https://www.jackmafoundation.org.cn/'},\n",
       " 'Christiano Ronaldo': {'Area of Expertise': 'Football',\n",
       "  'Biograpyh': \"Portuguese footballer Cristiano Ronaldo is often regarded as one of the best footballers to have ever played the game and his performances over the better part of a decade have only helped in reinforcing that belief among football fans. Ronaldo grew up in Madeira, Portugal but after graduating from the youth set up at Sporting CP he was immediately snapped up by English club Manchester United after his talent as a winger was spotted by their legendary manager Sir Alex Ferguson. Ronaldo spent six years at Manchester United and that was where he developed his game as a skillful, quick, lethal winger who could score goals and create opportunities for his team mates. He won plenty of trophies for Manchester United and also shone for the Portugual before he moved to Real Madrid as the world's most expensive player. At Real Madrid he has broken some of the most important goal scoring record that had stood for many years and also led the club to important trophies. Ronaldo is also the captain of the Portuguese national team and led them to victory in Euro 2016—their first-ever triumph in a major tournament. He has also won several individual awards that have further cemented his status as one of the world's premier footballers. With over 415 million followers, Cristiano Ronaldo is the most-followed individual on Instagram.\",\n",
       "  'Website/Social Media': 'https://www.cristianoronaldo.com/#cr7'},\n",
       " 'Apostle Eric Nyamekye': {'Area of Expertise': 'Thoelogy',\n",
       "  'Biograpyh': 'Apostle Eric Nyamekye (born October 21, 1965) is a Ghanaian Pentecostal televangelist, an apostle and the 6th Chairman of The Church of Pentecost (COP), the largest Pentecostal denomination in West Africa. He is the second vice president of the Ghana Pentecostal and Charismatic Council and the Chancellor of the Pentecost University. He holds a diploma in Human Resource Management from the Institute of Commercial Management, UK, a postgraduate diploma in Applied Theology from the University of Manchester, UK, and a master of Arts degree in Religious Studies from the University of Ghana, Legon.',\n",
       "  'Website/Social Media': 'https://twitter.com/Apsericnyamekye'},\n",
       " 'Asamoah Gyan': {'Area of Expertise': 'Football',\n",
       "  'Biograpyh': 'Asamoah Gyan was born in Accra, Ghana on November 22, 1985. The striker who joined Al Alin in 2012 after spending two years with Sunderland; became a member of the Ghanian national team in 2003. He was traded to Shanghai SIPG in 2015 and loaned to Al Ahli Dubai the following year. He played with the Italian club Udinese from 2003 to 2008 and was almost signed by the Russian club Lokomotiv Moscow. On Popular Bio, He is one of the successful Soccer players. He has ranked on the list of those famous people who were born on November 22, 1985. He is one of the Richest Soccer Player who was born in Ghana. He also has a position among the list of Most popular Soccer players. Asamoah Gyan is 1 of the famous people in our database with the age of 33 years old.',\n",
       "  'Website/Social Media': 'https://twitter.com/ASAMOAH_GYAN3'}}"
      ]
     },
     "execution_count": 2,
     "metadata": {},
     "output_type": "execute_result"
    }
   ],
   "source": [
    "prof_dct = {'Bernard Kwoku, Avle' : {'Area of Expertise' : 'Broadcast Journalist',\n",
    "                                    'Biograpyh' : 'Bernard is the host of The Point of View on Citi TV. He is also the host of the Citi Breakfast Show on Citi FM. He is a passionate Ghanaian who believes in Africa. Off-air, he is the General Manager of Citi TV and Citi 97.3 FM. He has won numerous awards including the Ghana Journalist Awards; Journalist of the Year 2017.',\n",
    "                                    'Website/Social Media' : 'https://twitter.com/benkoku'},\n",
    "            'Selorm Adadevoh' : {'Area of Expertise' : 'Business and Technology Executive',\n",
    "                                    'Biograpyh' : 'Selorm Adadevoh is Chief Executive Officer & Executive Director at Scancom Plc. Mr. Adadevoh is also Member of African Leadership Network and on the board of 5 other companies. In his past career he was Head-Mobile Financial Services at Millicom Ghana Ltd. and Chief Executive & Operations Officer at Digicel Foundation. Mr. Adadevoh received an MBA from The Wharton School of the University of Pennsylvania and an undergraduate degree from Kwame Nkrumah University of Science & Technology.',\n",
    "                                    'Website/Social Media' : 'https://www.linkedin.com/in/selorm-adadevoh-43b648/?originalSubdomain=gh'},\n",
    "            'Samuel Esson Jonah' : {'Area of Expertise' : 'Businessman/Investor',\n",
    "                                    'Biograpyh' : 'Samuel Esson Jonah (born 19 November 1949) is a Ghanaian businessman and the current chancellor of the University of Cape Coast. He is the executive chairman of Jonah Capital, an equity fund based in Johannesburg, South Africa. Jonah was previously president of AngloGold Ashanti and shared the strategic leadership of the company with its CEO, Bobby Godsell.',\n",
    "                                    'Website/Social Media' : 'https://www.linkedin.com/in/sam-jonah-821a2266/'},\n",
    "            'Lionel Messi' : {'Area of Expertise' : 'Football',\n",
    "                                    'Biograpyh' : 'Messi is the captain of Argentina national team and currently plays as a forward for Ligue 1 club Paris Saint-Germain, after ending his long career with FC Barcelona last year. He is a seven-time Ballon D\\'or winner. He recently captained Argentina to win the just ended 2022 FIFA Quatar World Cup.',\n",
    "                                    'Website/Social Media' : 'https://messi.com/en/'},\n",
    "            'Lebron James' : {'Area of Expertise' : 'Basketball',\n",
    "                                    'Biograpyh' : 'LeBron James was born on December 30, 1984, in Akron, Ohio, and is widely considered the finest basketball player in the world. In the fifth grade, he began playing organized basketball. His freshman year of high school began with him joining the varsity basketball team at St. Vincent-St. Mary\\'s. However, James was a multi-talented athlete who excelled in sports other than basketball. His efforts as an advocate for children from his hometown of Akron have impacted people\\'s lives around the nation.',\n",
    "                                    'Website/Social Media' : 'https://www.lebronjames.com/'},\n",
    "            'Warren Buffett' : {'Area of Expertise' : 'Businessman',\n",
    "                                    'Biograpyh' : 'Warren Buffett demonstrated keen business abilities at a young age. He formed Buffett Partnership Ltd. in 1956, and by 1965 he had assumed control of Berkshire Hathaway. Overseeing the growth of a conglomerate with holdings in the media, insurance, energy and food and beverage industries, Buffett became one of the world\\'s richest men and a celebrated philanthropist.',\n",
    "                                    'Website/Social Media' : 'https://buffett.cnbc.com/'},\n",
    "            'Jack Ma' : {'Area of Expertise' : 'Businessman',\n",
    "                                    'Biograpyh' : 'Jack Ma was born on September 10, 1964, in Hangzhou, Zhejiang, China. He is a Chinese business magnate who is the founder and executive chairman of Alibaba Group, a family of successful Internet-based businesses. He is one of the world\\'s greatest living examples of entrepreneurship today. Once a poor lad who survived by guiding tourists, Ma left no stone unturned to rise above his humble condition and achieve success. One of the first steps he took in this regard was to improve his communication skills by learning English. Jack was one of the first few individuals who saw Internet as a business opportunity even at a time when the rest of the world didn\\'t believe in his thoughts. After starting his first venture using a mere $20000, the entrepreneur earned around $800,000 in a matter of just three years.',\n",
    "                                    'Website/Social Media' : 'https://www.jackmafoundation.org.cn/'},\n",
    "            'Christiano Ronaldo' : {'Area of Expertise' : 'Football',\n",
    "                                    'Biograpyh' : 'Portuguese footballer Cristiano Ronaldo is often regarded as one of the best footballers to have ever played the game and his performances over the better part of a decade have only helped in reinforcing that belief among football fans. Ronaldo grew up in Madeira, Portugal but after graduating from the youth set up at Sporting CP he was immediately snapped up by English club Manchester United after his talent as a winger was spotted by their legendary manager Sir Alex Ferguson. Ronaldo spent six years at Manchester United and that was where he developed his game as a skillful, quick, lethal winger who could score goals and create opportunities for his team mates. He won plenty of trophies for Manchester United and also shone for the Portugual before he moved to Real Madrid as the world\\'s most expensive player. At Real Madrid he has broken some of the most important goal scoring record that had stood for many years and also led the club to important trophies. Ronaldo is also the captain of the Portuguese national team and led them to victory in Euro 2016—their first-ever triumph in a major tournament. He has also won several individual awards that have further cemented his status as one of the world\\'s premier footballers. With over 415 million followers, Cristiano Ronaldo is the most-followed individual on Instagram.',\n",
    "                                    'Website/Social Media' : 'https://www.cristianoronaldo.com/#cr7'},\n",
    "            'Apostle Eric Nyamekye' : {'Area of Expertise' : 'Thoelogy',\n",
    "                                    'Biograpyh' : 'Apostle Eric Nyamekye (born October 21, 1965) is a Ghanaian Pentecostal televangelist, an apostle and the 6th Chairman of The Church of Pentecost (COP), the largest Pentecostal denomination in West Africa. He is the second vice president of the Ghana Pentecostal and Charismatic Council and the Chancellor of the Pentecost University. He holds a diploma in Human Resource Management from the Institute of Commercial Management, UK, a postgraduate diploma in Applied Theology from the University of Manchester, UK, and a master of Arts degree in Religious Studies from the University of Ghana, Legon.',\n",
    "                                    'Website/Social Media' : 'https://twitter.com/Apsericnyamekye'},\n",
    "            'Asamoah Gyan' : {'Area of Expertise' : 'Football',\n",
    "                                    'Biograpyh' : 'Asamoah Gyan was born in Accra, Ghana on November 22, 1985. The striker who joined Al Alin in 2012 after spending two years with Sunderland; became a member of the Ghanian national team in 2003. He was traded to Shanghai SIPG in 2015 and loaned to Al Ahli Dubai the following year. He played with the Italian club Udinese from 2003 to 2008 and was almost signed by the Russian club Lokomotiv Moscow. On Popular Bio, He is one of the successful Soccer players. He has ranked on the list of those famous people who were born on November 22, 1985. He is one of the Richest Soccer Player who was born in Ghana. He also has a position among the list of Most popular Soccer players. Asamoah Gyan is 1 of the famous people in our database with the age of 33 years old.',\n",
    "                                    'Website/Social Media' : 'https://twitter.com/ASAMOAH_GYAN3'},                       \n",
    "            }\n",
    "\n",
    "prof_dct"
   ]
  },
  {
   "cell_type": "code",
   "execution_count": 3,
   "metadata": {},
   "outputs": [
    {
     "data": {
      "text/html": [
       "<table border=\"1\" class=\"dataframe\">\n",
       "  <thead>\n",
       "    <tr style=\"text-align: right;\">\n",
       "      <th></th>\n",
       "      <th>Area of Expertise</th>\n",
       "      <th>Biograpyh</th>\n",
       "      <th>Website/Social Media</th>\n",
       "    </tr>\n",
       "    <tr>\n",
       "      <th>NAME</th>\n",
       "      <th></th>\n",
       "      <th></th>\n",
       "      <th></th>\n",
       "    </tr>\n",
       "  </thead>\n",
       "  <tbody>\n",
       "    <tr>\n",
       "      <th>Bernard Kwoku, Avle</th>\n",
       "      <td>Broadcast Journalist</td>\n",
       "      <td>Bernard is the host of The Point of View on Citi TV. He is also the host of the Citi Breakfast Show on Citi FM. He is a passionate Ghanaian who believes in Africa. Off-air, he is the General Manager of Citi TV and Citi 97.3 FM. He has won numerous awards including the Ghana Journalist Awards; Journalist of the Year 2017.</td>\n",
       "      <td><a href=\"https://twitter.com/benkoku\" target=\"_blank\">https://twitter.com/benkoku</a></td>\n",
       "    </tr>\n",
       "    <tr>\n",
       "      <th>Selorm Adadevoh</th>\n",
       "      <td>Business and Technology Executive</td>\n",
       "      <td>Selorm Adadevoh is Chief Executive Officer & Executive Director at Scancom Plc. Mr. Adadevoh is also Member of African Leadership Network and on the board of 5 other companies. In his past career he was Head-Mobile Financial Services at Millicom Ghana Ltd. and Chief Executive & Operations Officer at Digicel Foundation. Mr. Adadevoh received an MBA from The Wharton School of the University of Pennsylvania and an undergraduate degree from Kwame Nkrumah University of Science & Technology.</td>\n",
       "      <td><a href=\"https://www.linkedin.com/in/selorm-adadevoh-43b648/?originalSubdomain=gh\" target=\"_blank\">https://www.linkedin.com/in/selorm-adadevoh-43b648/?originalSubdomain=gh</a></td>\n",
       "    </tr>\n",
       "    <tr>\n",
       "      <th>Samuel Esson Jonah</th>\n",
       "      <td>Businessman/Investor</td>\n",
       "      <td>Samuel Esson Jonah (born 19 November 1949) is a Ghanaian businessman and the current chancellor of the University of Cape Coast. He is the executive chairman of Jonah Capital, an equity fund based in Johannesburg, South Africa. Jonah was previously president of AngloGold Ashanti and shared the strategic leadership of the company with its CEO, Bobby Godsell.</td>\n",
       "      <td><a href=\"https://www.linkedin.com/in/sam-jonah-821a2266/\" target=\"_blank\">https://www.linkedin.com/in/sam-jonah-821a2266/</a></td>\n",
       "    </tr>\n",
       "    <tr>\n",
       "      <th>Lionel Messi</th>\n",
       "      <td>Football</td>\n",
       "      <td>Messi is the captain of Argentina national team and currently plays as a forward for Ligue 1 club Paris Saint-Germain, after ending his long career with FC Barcelona last year. He is a seven-time Ballon D'or winner. He recently captained Argentina to win the just ended 2022 FIFA Quatar World Cup.</td>\n",
       "      <td><a href=\"https://messi.com/en/\" target=\"_blank\">https://messi.com/en/</a></td>\n",
       "    </tr>\n",
       "    <tr>\n",
       "      <th>Lebron James</th>\n",
       "      <td>Basketball</td>\n",
       "      <td>LeBron James was born on December 30, 1984, in Akron, Ohio, and is widely considered the finest basketball player in the world. In the fifth grade, he began playing organized basketball. His freshman year of high school began with him joining the varsity basketball team at St. Vincent-St. Mary's. However, James was a multi-talented athlete who excelled in sports other than basketball. His efforts as an advocate for children from his hometown of Akron have impacted people's lives around the nation.</td>\n",
       "      <td><a href=\"https://www.lebronjames.com/\" target=\"_blank\">https://www.lebronjames.com/</a></td>\n",
       "    </tr>\n",
       "    <tr>\n",
       "      <th>Warren Buffett</th>\n",
       "      <td>Businessman</td>\n",
       "      <td>Warren Buffett demonstrated keen business abilities at a young age. He formed Buffett Partnership Ltd. in 1956, and by 1965 he had assumed control of Berkshire Hathaway. Overseeing the growth of a conglomerate with holdings in the media, insurance, energy and food and beverage industries, Buffett became one of the world's richest men and a celebrated philanthropist.</td>\n",
       "      <td><a href=\"https://buffett.cnbc.com/\" target=\"_blank\">https://buffett.cnbc.com/</a></td>\n",
       "    </tr>\n",
       "    <tr>\n",
       "      <th>Jack Ma</th>\n",
       "      <td>Businessman</td>\n",
       "      <td>Jack Ma was born on September 10, 1964, in Hangzhou, Zhejiang, China. He is a Chinese business magnate who is the founder and executive chairman of Alibaba Group, a family of successful Internet-based businesses. He is one of the world's greatest living examples of entrepreneurship today. Once a poor lad who survived by guiding tourists, Ma left no stone unturned to rise above his humble condition and achieve success. One of the first steps he took in this regard was to improve his communication skills by learning English. Jack was one of the first few individuals who saw Internet as a business opportunity even at a time when the rest of the world didn't believe in his thoughts. After starting his first venture using a mere $20000, the entrepreneur earned around $800,000 in a matter of just three years.</td>\n",
       "      <td><a href=\"https://www.jackmafoundation.org.cn/\" target=\"_blank\">https://www.jackmafoundation.org.cn/</a></td>\n",
       "    </tr>\n",
       "    <tr>\n",
       "      <th>Christiano Ronaldo</th>\n",
       "      <td>Football</td>\n",
       "      <td>Portuguese footballer Cristiano Ronaldo is often regarded as one of the best footballers to have ever played the game and his performances over the better part of a decade have only helped in reinforcing that belief among football fans. Ronaldo grew up in Madeira, Portugal but after graduating from the youth set up at Sporting CP he was immediately snapped up by English club Manchester United after his talent as a winger was spotted by their legendary manager Sir Alex Ferguson. Ronaldo spent six years at Manchester United and that was where he developed his game as a skillful, quick, lethal winger who could score goals and create opportunities for his team mates. He won plenty of trophies for Manchester United and also shone for the Portugual before he moved to Real Madrid as the world's most expensive player. At Real Madrid he has broken some of the most important goal scoring record that had stood for many years and also led the club to important trophies. Ronaldo is also the captain of the Portuguese national team and led them to victory in Euro 2016—their first-ever triumph in a major tournament. He has also won several individual awards that have further cemented his status as one of the world's premier footballers. With over 415 million followers, Cristiano Ronaldo is the most-followed individual on Instagram.</td>\n",
       "      <td><a href=\"https://www.cristianoronaldo.com/#cr7\" target=\"_blank\">https://www.cristianoronaldo.com/#cr7</a></td>\n",
       "    </tr>\n",
       "    <tr>\n",
       "      <th>Apostle Eric Nyamekye</th>\n",
       "      <td>Thoelogy</td>\n",
       "      <td>Apostle Eric Nyamekye (born October 21, 1965) is a Ghanaian Pentecostal televangelist, an apostle and the 6th Chairman of The Church of Pentecost (COP), the largest Pentecostal denomination in West Africa. He is the second vice president of the Ghana Pentecostal and Charismatic Council and the Chancellor of the Pentecost University. He holds a diploma in Human Resource Management from the Institute of Commercial Management, UK, a postgraduate diploma in Applied Theology from the University of Manchester, UK, and a master of Arts degree in Religious Studies from the University of Ghana, Legon.</td>\n",
       "      <td><a href=\"https://twitter.com/Apsericnyamekye\" target=\"_blank\">https://twitter.com/Apsericnyamekye</a></td>\n",
       "    </tr>\n",
       "    <tr>\n",
       "      <th>Asamoah Gyan</th>\n",
       "      <td>Football</td>\n",
       "      <td>Asamoah Gyan was born in Accra, Ghana on November 22, 1985. The striker who joined Al Alin in 2012 after spending two years with Sunderland; became a member of the Ghanian national team in 2003. He was traded to Shanghai SIPG in 2015 and loaned to Al Ahli Dubai the following year. He played with the Italian club Udinese from 2003 to 2008 and was almost signed by the Russian club Lokomotiv Moscow. On Popular Bio, He is one of the successful Soccer players. He has ranked on the list of those famous people who were born on November 22, 1985. He is one of the Richest Soccer Player who was born in Ghana. He also has a position among the list of Most popular Soccer players. Asamoah Gyan is 1 of the famous people in our database with the age of 33 years old.</td>\n",
       "      <td><a href=\"https://twitter.com/ASAMOAH_GYAN3\" target=\"_blank\">https://twitter.com/ASAMOAH_GYAN3</a></td>\n",
       "    </tr>\n",
       "  </tbody>\n",
       "</table>"
      ],
      "text/plain": [
       "<IPython.core.display.HTML object>"
      ]
     },
     "execution_count": 3,
     "metadata": {},
     "output_type": "execute_result"
    }
   ],
   "source": [
    "# convert from dictionary to dataframe\n",
    "prof_df = (pd.DataFrame(prof_dct).T)\n",
    "\n",
    "# set name as index\n",
    "prof_df.index.names = ['NAME']\n",
    "#f_df1 = prof_df.style.set_properties(**{'text-align': 'left'})\n",
    "prof_df\n",
    "\n",
    "# display cliclkable links in the datafrme\n",
    "HTML(prof_df.to_html(render_links=True, escape=False))\n"
   ]
  },
  {
   "cell_type": "code",
   "execution_count": null,
   "metadata": {},
   "outputs": [],
   "source": []
  }
 ],
 "metadata": {
  "kernelspec": {
   "display_name": "Python 3",
   "language": "python",
   "name": "python3"
  },
  "language_info": {
   "codemirror_mode": {
    "name": "ipython",
    "version": 3
   },
   "file_extension": ".py",
   "mimetype": "text/x-python",
   "name": "python",
   "nbconvert_exporter": "python",
   "pygments_lexer": "ipython3",
   "version": "3.10.9"
  },
  "orig_nbformat": 4,
  "vscode": {
   "interpreter": {
    "hash": "2dc4c6a692b63101f011a0aa102be2339a2da38695e31b8e74f44edafe8bbd18"
   }
  }
 },
 "nbformat": 4,
 "nbformat_minor": 2
}
