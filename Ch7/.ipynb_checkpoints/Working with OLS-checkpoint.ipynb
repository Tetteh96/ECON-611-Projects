{
 "cells": [
  {
   "cell_type": "markdown",
   "metadata": {},
   "source": [
    "# Project 9: Working with OLS\n",
    "\n",
    "Having built statistics functions, we are now ready to build a function for regression analysis. We will start by building the an regression. We will use linear algebra to estimate parameters that minimize the sum of the squared errors. This is an ordinary least squares regression. \n",
    "\n",
    "An OLS regression with one exogenous variable takes the form. \n",
    "\n",
    "$y = \\alpha + \\beta_1x_1 + \\mu $\n",
    "\n",
    "$\\beta_0 = \\alpha + \\mu$\n",
    "\n",
    "We merge the error term, which represents bias in the data, with alpha to yield the constant, $\\beta_0$. This is necessary since OLS assumes an unbiased estimator where:\n",
    "\n",
    "$\\sum_{i=0}^{n-1} e_{i}=0$\n",
    "\n",
    "Each estimate of a point created from a particular observation takes the form.\n",
    "\n",
    "$y_i = \\beta_0 + \\beta_1x_{1,i} + e_i$\n",
    "\n",
    "This can be generalized to include k exogenous variables:\n",
    "\n",
    "$y_i = \\beta_0 + (\\sum_{j=1}^{k} \\beta_jx_{i,j}) + e_i$\n",
    "\n",
    "Ideally, we want to form a prediction where, on average, the right-hand side of the equation  yields the correct value on the left-hand side. When we perform an OLS regression, we form a predictor that minimizes the sum of the distance between each predicted value and the observed value drawn from the data. For example, if the prediction for a particular value of y is 8, and the actual value is 10, the error of the prediction is -2 and the squared error is 4.\n",
    "\n",
    "To find the function that minimizes the sum squared errors, we will use matrix algebra, also known as linear algebra. For those unfamiliar, the next section uses the numpy library to perform matrix operations. For clarity, we will review the linear algebra functions that we will use with simple examples.\n",
    "\n",
    "## Linear Algebra for OLS\n",
    "\n",
    "We solve the following function for a vector of beta values ($\\beta$), constants whose values represent estimates of the effect of variables in the set **_X_** on the selected endogenously generate variable $y$. The matrix **_X_** also includes a vector of ones used to estimate the constant $\\beta_0$.\n",
    "\n",
    "$\\beta = (X'X)^{-1}X'Y$\n",
    "\n",
    "$Y =$ Observations for Endogenous Variable\n",
    "\n",
    "$X =$ Observations for Exogenous Variables\n",
    "\n",
    "$X' =$ $X$-transpose\n",
    "\n",
    "$(X'X)^{-1} =$ Inverse of $X'X$\n",
    "\n",
    "### Inverting a Matrix\n",
    "\n",
    "In reviewing the linear equation for estimating $\\beta$, we confront two unique operations worth understanding. Included in these are some key concepts in linear algebra, including the identity matrix $I$ and linear independence. The best way to understand these concepts is by working with some sample vectors. Consider the matrix $X$ consisting of vectors $x_0$,$x_1$,…,$x_{n-1}$,$x_n$. We must check that these vectors are linearly independent. We do this by joining $X$ with an identity matrix and thus create:\n",
    "\n",
    "$A = [XI]$\n",
    "\n",
    "We transform this to show that the product of $A$ and $X^{-1}$ is equal to the product of and an identity matrix, $I$ and $X^{-1}$\n",
    "\n",
    "$AX^{-1} = [XI]X^{-1}$\n",
    "\n",
    "$AX^{-1} = [IX^{-1}]$\n",
    "\n",
    "Let us solve for $AX^{-1}$ using the following vectors for $X$. \n",
    "\n",
    "$\\begin{equation*}\n",
    "X = \\begin{bmatrix}\n",
    "1 & 2 & 1 \\\\\n",
    "4 & 1 & 5 \\\\\n",
    "6 & 8 & 6\n",
    "\\end{bmatrix}\n",
    "\\end{equation*}$\n",
    "\n",
    "Concatenate a 3 X 3 identity matrix on the left of $X$:\n",
    "\n",
    "$\\begin{equation*}\n",
    "I = \\begin{bmatrix}\n",
    "1 & 0 & 0 \\\\\n",
    "0 & 1 & 0 \\\\\n",
    "0 & 0 & 1\n",
    "\\end{bmatrix}\n",
    "\\end{equation*}$\n",
    "\n",
    "$\\begin{equation*}\n",
    "[XI] = \\begin{bmatrix}\n",
    "1 & 2 & 1 & 1 & 0 & 0 \\\\\n",
    "4 & 1 & 5 & 0 & 1 & 0 \\\\\n",
    "6 & 8 & 6 & 0 & 0 & 1\n",
    "\\end{bmatrix}\n",
    "\\end{equation*}$\n",
    "\n",
    "If we perform row operations on $A$ to transform $X$ in $[XI]$ into $I$, then we $I$ will be transformed into $X^{-1}$:\n",
    "\n",
    "$\\begin{equation*}\n",
    "[XI] = \\begin{bmatrix}\n",
    "1 & 2 & 1 & 1 & 0 & 0 \\\\\n",
    "4 & 1 & 5 & 0 & 1 & 0 \\\\\n",
    "6 & 8 & 6 & 0 & 0 & 1\n",
    "\\end{bmatrix}\n",
    "\\end{equation*}$\n",
    "\n",
    "\n",
    "\n",
    "\n",
    "$\\begin{equation*}\n",
    "r_2 - 4r_1:\\begin{bmatrix}\n",
    "1 & 2 & 1 & 1 & 0 & 0 \\\\\n",
    "0 & -7 & 1 & -4 & 1 & 0 \\\\\n",
    "6 & 8 & 6 & 0 & 0 & 1\n",
    "\\end{bmatrix}\n",
    "\\end{equation*}$\n",
    "\n",
    "\n",
    "$\\begin{equation*}\n",
    "r_3 - 6r_1:\\begin{bmatrix}\n",
    "1 & 2 & 1 & 1 & 0 & 0 \\\\\n",
    "0 & -7 & 1 & -4 & 1 & 0 \\\\\n",
    "0 & -4 & 0 & -6 & 0 & 1\n",
    "\\end{bmatrix}\n",
    "\\end{equation*}$\n",
    "\n",
    "\n",
    "$\\begin{equation*}\n",
    "r_2 \\leftrightarrow r_3:\\begin{bmatrix}\n",
    "1 & 2 & 1 & 1 & 0 & 0 \\\\\n",
    "0 & -4 & 0 & -6 & 0 & 1\\\\\n",
    "0 & -7 & 1 & -4 & 1 & 0 \n",
    "\\end{bmatrix}\n",
    "\\end{equation*}$\n",
    "\n",
    "$\\begin{equation*}\n",
    "r_2/{-4}:\\begin{bmatrix}\n",
    "1 & 2 & 1 & 1 & 0 & 0 \\\\\n",
    "0 & 1 & 0 & 3/2 & 0 & -1/4\\\\\n",
    "0 & -7 & 1 & -4 & 1 & 0 \n",
    "\\end{bmatrix}\n",
    "\\end{equation*}$\n",
    "\n",
    "$\\begin{equation*}\n",
    "r_3 + 7r_2:\\begin{bmatrix}\n",
    "1 & 2 & 1 & 1 & 0 & 0 \\\\\n",
    "0 & 1 & 0 & 3/2 & 0 & -1/4\\\\\n",
    "0 & 0 & 1 & 13/2 & 1 & -7/4 \n",
    "\\end{bmatrix}\n",
    "\\end{equation*}$\n",
    "\n",
    "$\\begin{equation*}\n",
    "r_1 + -2r_2 - r_3:\\begin{bmatrix}\n",
    "1 & 0 & 0 & -17/2 & -1 & 9/4 \\\\\n",
    "0 & 1 & 0 & 3/2 & 0 & -1/4\\\\\n",
    "0 & 0 & 1 & 13/2 & 1 & -7/4 \n",
    "\\end{bmatrix}\n",
    "\\end{equation*}$\n",
    "\n",
    "$\\begin{equation*}\n",
    "IX^{-1}=\\begin{bmatrix}\n",
    "1 & 0 & 0 & -8.5 & -1 & 2.25 \\\\\n",
    "0 & 1 & 0 & 1.5 & 0 & -0.25\\\\\n",
    "0 & 0 & 1 & 6.5 & 1 & -1.75 \n",
    "\\end{bmatrix}\n",
    "\\end{equation*}$\n",
    "\n",
    "$\\begin{equation*}\n",
    "X^{-1}=\\begin{bmatrix}\n",
    "-8.5 & -1 & 2.25 \\\\\n",
    "1.5 & 0 & -0.25\\\\\n",
    "6.5 & 1 & -1.75 \n",
    "\\end{bmatrix}\n",
    "\\end{equation*}$\n",
    "\n",
    "By transforming $X$ in matrix $XI$ into an identity matrix, we transform the $I$ matrix into $X^{-1}$. This also confirms that the vectors comprising X are independent, meaning that one vector in the set comprising $X$ cannot be formed from the combination and or transformation of the others. A fundamental assumption of regression analysis is that data generated from factors believed to determine the y-values are independent of one another.\n",
    "\n",
    "### Linear Algebra in _numpy_\n",
    "\n",
    "We can check this using linear algebra functions in numpy. We start by creating numpy arrays that we will transform into vectors in the second step."
   ]
  },
  {
   "cell_type": "code",
   "execution_count": 1,
   "metadata": {},
   "outputs": [
    {
     "name": "stdout",
     "output_type": "stream",
     "text": [
      "[1 2 1]\n",
      "[4 1 5]\n",
      "[6 8 6]\n",
      "[1 2 1]\n",
      "[4 1 5]\n",
      "[6 8 6]\n"
     ]
    }
   ],
   "source": [
    "import numpy as np\n",
    "\n",
    "x1 = np.array([1,2,1])\n",
    "x2 = np.array([4,1,5])\n",
    "x3 = np.array([6,8,6])\n",
    "\n",
    "print(x1, x2, x3, sep ='\\n')"
   ]
  },
  {
   "cell_type": "code",
   "execution_count": 2,
   "metadata": {},
   "outputs": [
    {
     "name": "stdout",
     "output_type": "stream",
     "text": [
      "[[1 2 1]]\n",
      "[[4 1 5]]\n",
      "[[6 8 6]]\n",
      "[[1 2 1]]\n",
      "[[4 1 5]]\n",
      "[[6 8 6]]\n"
     ]
    }
   ],
   "source": [
    "x1 = np.matrix(x1)\n",
    "x2 = np.matrix(x2)\n",
    "x3 = np.matrix(x3)\n",
    "\n",
    "print(x1, x2, x3, sep ='\\n')"
   ]
  },
  {
   "cell_type": "code",
   "execution_count": 3,
   "metadata": {},
   "outputs": [
    {
     "data": {
      "text/plain": [
       "matrix([[1, 2, 1],\n",
       "        [4, 1, 5],\n",
       "        [6, 8, 6]])"
      ]
     },
     "execution_count": 3,
     "metadata": {},
     "output_type": "execute_result"
    },
    {
     "data": {
      "text/plain": [
       "matrix([[1, 2, 1],\n",
       "        [4, 1, 5],\n",
       "        [6, 8, 6]])"
      ]
     },
     "execution_count": 3,
     "metadata": {},
     "output_type": "execute_result"
    }
   ],
   "source": [
    "x = np.concatenate((x1, x2, x3))\n",
    "x"
   ]
  },
  {
   "cell_type": "code",
   "execution_count": 4,
   "metadata": {},
   "outputs": [
    {
     "data": {
      "text/plain": [
       "matrix([[-8.50000000e+00, -1.00000000e+00,  2.25000000e+00],\n",
       "        [ 1.50000000e+00,  5.12410627e-17, -2.50000000e-01],\n",
       "        [ 6.50000000e+00,  1.00000000e+00, -1.75000000e+00]])"
      ]
     },
     "execution_count": 4,
     "metadata": {},
     "output_type": "execute_result"
    },
    {
     "data": {
      "text/plain": [
       "matrix([[-8.50000000e+00, -1.00000000e+00,  2.25000000e+00],\n",
       "        [ 1.50000000e+00,  5.12410627e-17, -2.50000000e-01],\n",
       "        [ 6.50000000e+00,  1.00000000e+00, -1.75000000e+00]])"
      ]
     },
     "execution_count": 4,
     "metadata": {},
     "output_type": "execute_result"
    }
   ],
   "source": [
    "x_inverse = x.getI()\n",
    "x_inverse"
   ]
  },
  {
   "cell_type": "code",
   "execution_count": 5,
   "metadata": {},
   "outputs": [
    {
     "data": {
      "text/plain": [
       "array([[-8.5 , -1.  ,  2.25],\n",
       "       [ 1.5 ,  0.  , -0.25],\n",
       "       [ 6.5 ,  1.  , -1.75]])"
      ]
     },
     "execution_count": 5,
     "metadata": {},
     "output_type": "execute_result"
    },
    {
     "data": {
      "text/plain": [
       "array([[-8.5 , -1.  ,  2.25],\n",
       "       [ 1.5 ,  0.  , -0.25],\n",
       "       [ 6.5 ,  1.  , -1.75]])"
      ]
     },
     "execution_count": 5,
     "metadata": {},
     "output_type": "execute_result"
    }
   ],
   "source": [
    "x_inverse = np.round(x.getI(), 2)\n",
    "x_inverse"
   ]
  },
  {
   "cell_type": "code",
   "execution_count": 6,
   "metadata": {},
   "outputs": [
    {
     "data": {
      "text/plain": [
       "matrix([[1, 4, 6],\n",
       "        [2, 1, 8],\n",
       "        [1, 5, 6]])"
      ]
     },
     "execution_count": 6,
     "metadata": {},
     "output_type": "execute_result"
    },
    {
     "data": {
      "text/plain": [
       "matrix([[1, 4, 6],\n",
       "        [2, 1, 8],\n",
       "        [1, 5, 6]])"
      ]
     },
     "execution_count": 6,
     "metadata": {},
     "output_type": "execute_result"
    }
   ],
   "source": [
    "x_transpose = x.getT()\n",
    "x_transpose"
   ]
  },
  {
   "cell_type": "markdown",
   "metadata": {},
   "source": [
    "## Regression Function\n",
    "\n",
    "Now that we have learned the necessary operations, we can create a regression function. Recall that we estimate the vector of beta parameters for each variable with the equation:\n",
    "\n",
    "$\\beta = (X'X)^{-1}X'Y$\n",
    "\n",
    "In order to estimate the parameters, we will need to import data, define the dependent variable and independent variables, and transform these into matrix objects.\n",
    "\n",
    "Let's use the data from chapter 6 with the addition real GDP per capita. This combined set of data is saved in the repository as a file created in chapter 8."
   ]
  },
  {
   "cell_type": "code",
   "execution_count": 7,
   "metadata": {},
   "outputs": [
    {
     "ename": "SyntaxError",
     "evalue": "Missing parentheses in call to 'print'. Did you mean print(...)? (__init__.py, line 1187)",
     "output_type": "error",
     "traceback": [
      "Traceback \u001b[1;36m(most recent call last)\u001b[0m:\n",
      "  File \u001b[0;32m\"C:\\Users\\akoto\\AppData\\Local\\Programs\\Python\\Python310\\lib\\site-packages\\IPython\\core\\interactiveshell.py\"\u001b[0m, line \u001b[0;32m3553\u001b[0m, in \u001b[0;35mrun_code\u001b[0m\n    exec(code_obj, self.user_global_ns, self.user_ns)\n",
      "  File \u001b[0;32m\"C:\\Users\\akoto\\AppData\\Local\\Temp\\ipykernel_8476\\4162313585.py\"\u001b[0m, line \u001b[0;32m3\u001b[0m, in \u001b[0;35m<cell line: 3>\u001b[0m\n    mgdp = pd.read_excel('mpd2020.xlsx',\n",
      "  File \u001b[0;32m\"C:\\Users\\akoto\\AppData\\Local\\Programs\\Python\\Python310\\lib\\site-packages\\pandas\\io\\excel\\_base.py\"\u001b[0m, line \u001b[0;32m478\u001b[0m, in \u001b[0;35mread_excel\u001b[0m\n    io = ExcelFile(io, storage_options=storage_options, engine=engine)\n",
      "  File \u001b[0;32m\"C:\\Users\\akoto\\AppData\\Local\\Programs\\Python\\Python310\\lib\\site-packages\\pandas\\io\\excel\\_base.py\"\u001b[0m, line \u001b[0;32m1483\u001b[0m, in \u001b[0;35m__init__\u001b[0m\n    if import_optional_dependency(\"xlrd\", errors=\"ignore\") is None:\n",
      "  File \u001b[0;32m\"C:\\Users\\akoto\\AppData\\Local\\Programs\\Python\\Python310\\lib\\site-packages\\pandas\\compat\\_optional.py\"\u001b[0m, line \u001b[0;32m142\u001b[0m, in \u001b[0;35mimport_optional_dependency\u001b[0m\n    module = importlib.import_module(name)\n",
      "  File \u001b[0;32m\"C:\\Users\\akoto\\AppData\\Local\\Programs\\Python\\Python310\\lib\\importlib\\__init__.py\"\u001b[0m, line \u001b[0;32m126\u001b[0m, in \u001b[0;35mimport_module\u001b[0m\n    return _bootstrap._gcd_import(name[level:], package, level)\n",
      "  File \u001b[0;32m\"<frozen importlib._bootstrap>\"\u001b[0m, line \u001b[0;32m1050\u001b[0m, in \u001b[0;35m_gcd_import\u001b[0m\n",
      "  File \u001b[0;32m\"<frozen importlib._bootstrap>\"\u001b[0m, line \u001b[0;32m1027\u001b[0m, in \u001b[0;35m_find_and_load\u001b[0m\n",
      "  File \u001b[0;32m\"<frozen importlib._bootstrap>\"\u001b[0m, line \u001b[0;32m1006\u001b[0m, in \u001b[0;35m_find_and_load_unlocked\u001b[0m\n",
      "  File \u001b[0;32m\"<frozen importlib._bootstrap>\"\u001b[0m, line \u001b[0;32m688\u001b[0m, in \u001b[0;35m_load_unlocked\u001b[0m\n",
      "  File \u001b[0;32m\"<frozen importlib._bootstrap_external>\"\u001b[0m, line \u001b[0;32m879\u001b[0m, in \u001b[0;35mexec_module\u001b[0m\n",
      "  File \u001b[0;32m\"<frozen importlib._bootstrap_external>\"\u001b[0m, line \u001b[0;32m1017\u001b[0m, in \u001b[0;35mget_code\u001b[0m\n",
      "  File \u001b[0;32m\"<frozen importlib._bootstrap_external>\"\u001b[0m, line \u001b[0;32m947\u001b[0m, in \u001b[0;35msource_to_code\u001b[0m\n",
      "\u001b[1;36m  File \u001b[1;32m\"<frozen importlib._bootstrap>\"\u001b[1;36m, line \u001b[1;32m241\u001b[1;36m, in \u001b[1;35m_call_with_frames_removed\u001b[1;36m\u001b[0m\n",
      "\u001b[1;36m  File \u001b[1;32m\"C:\\Users\\akoto\\AppData\\Local\\Programs\\Python\\Python310\\lib\\site-packages\\xlrd\\__init__.py\"\u001b[1;36m, line \u001b[1;32m1187\u001b[0m\n\u001b[1;33m    print \"EXTERNSHEET(b7-):\"\u001b[0m\n\u001b[1;37m    ^\u001b[0m\n\u001b[1;31mSyntaxError\u001b[0m\u001b[1;31m:\u001b[0m Missing parentheses in call to 'print'. Did you mean print(...)?\n"
     ]
    },
    {
     "ename": "SyntaxError",
     "evalue": "Missing parentheses in call to 'print'. Did you mean print(...)? (__init__.py, line 1187)",
     "output_type": "error",
     "traceback": [
      "Traceback \u001b[1;36m(most recent call last)\u001b[0m:\n",
      "  File \u001b[0;32m\"C:\\Users\\akoto\\AppData\\Local\\Programs\\Python\\Python310\\lib\\site-packages\\IPython\\core\\interactiveshell.py\"\u001b[0m, line \u001b[0;32m3553\u001b[0m, in \u001b[0;35mrun_code\u001b[0m\n    exec(code_obj, self.user_global_ns, self.user_ns)\n",
      "  File \u001b[0;32m\"C:\\Users\\akoto\\AppData\\Local\\Temp\\ipykernel_8476\\4162313585.py\"\u001b[0m, line \u001b[0;32m3\u001b[0m, in \u001b[0;35m<cell line: 3>\u001b[0m\n    mgdp = pd.read_excel('mpd2020.xlsx',\n",
      "  File \u001b[0;32m\"C:\\Users\\akoto\\AppData\\Local\\Programs\\Python\\Python310\\lib\\site-packages\\pandas\\io\\excel\\_base.py\"\u001b[0m, line \u001b[0;32m478\u001b[0m, in \u001b[0;35mread_excel\u001b[0m\n    io = ExcelFile(io, storage_options=storage_options, engine=engine)\n",
      "  File \u001b[0;32m\"C:\\Users\\akoto\\AppData\\Local\\Programs\\Python\\Python310\\lib\\site-packages\\pandas\\io\\excel\\_base.py\"\u001b[0m, line \u001b[0;32m1483\u001b[0m, in \u001b[0;35m__init__\u001b[0m\n    if import_optional_dependency(\"xlrd\", errors=\"ignore\") is None:\n",
      "  File \u001b[0;32m\"C:\\Users\\akoto\\AppData\\Local\\Programs\\Python\\Python310\\lib\\site-packages\\pandas\\compat\\_optional.py\"\u001b[0m, line \u001b[0;32m142\u001b[0m, in \u001b[0;35mimport_optional_dependency\u001b[0m\n    module = importlib.import_module(name)\n",
      "  File \u001b[0;32m\"C:\\Users\\akoto\\AppData\\Local\\Programs\\Python\\Python310\\lib\\importlib\\__init__.py\"\u001b[0m, line \u001b[0;32m126\u001b[0m, in \u001b[0;35mimport_module\u001b[0m\n    return _bootstrap._gcd_import(name[level:], package, level)\n",
      "  File \u001b[0;32m\"<frozen importlib._bootstrap>\"\u001b[0m, line \u001b[0;32m1050\u001b[0m, in \u001b[0;35m_gcd_import\u001b[0m\n",
      "  File \u001b[0;32m\"<frozen importlib._bootstrap>\"\u001b[0m, line \u001b[0;32m1027\u001b[0m, in \u001b[0;35m_find_and_load\u001b[0m\n",
      "  File \u001b[0;32m\"<frozen importlib._bootstrap>\"\u001b[0m, line \u001b[0;32m1006\u001b[0m, in \u001b[0;35m_find_and_load_unlocked\u001b[0m\n",
      "  File \u001b[0;32m\"<frozen importlib._bootstrap>\"\u001b[0m, line \u001b[0;32m688\u001b[0m, in \u001b[0;35m_load_unlocked\u001b[0m\n",
      "  File \u001b[0;32m\"<frozen importlib._bootstrap_external>\"\u001b[0m, line \u001b[0;32m879\u001b[0m, in \u001b[0;35mexec_module\u001b[0m\n",
      "  File \u001b[0;32m\"<frozen importlib._bootstrap_external>\"\u001b[0m, line \u001b[0;32m1017\u001b[0m, in \u001b[0;35mget_code\u001b[0m\n",
      "  File \u001b[0;32m\"<frozen importlib._bootstrap_external>\"\u001b[0m, line \u001b[0;32m947\u001b[0m, in \u001b[0;35msource_to_code\u001b[0m\n",
      "\u001b[1;36m  File \u001b[1;32m\"<frozen importlib._bootstrap>\"\u001b[1;36m, line \u001b[1;32m241\u001b[1;36m, in \u001b[1;35m_call_with_frames_removed\u001b[1;36m\u001b[0m\n",
      "\u001b[1;36m  File \u001b[1;32m\"C:\\Users\\akoto\\AppData\\Local\\Programs\\Python\\Python310\\lib\\site-packages\\xlrd\\__init__.py\"\u001b[1;36m, line \u001b[1;32m1187\u001b[0m\n\u001b[1;33m    print \"EXTERNSHEET(b7-):\"\u001b[0m\n\u001b[1;37m    ^\u001b[0m\n\u001b[1;31mSyntaxError\u001b[0m\u001b[1;31m:\u001b[0m Missing parentheses in call to 'print'. Did you mean print(...)?\n"
     ]
    }
   ],
   "source": [
    "import pandas as pd\n",
    "\n",
    "mgdp = pd.read_excel('mpd2020.xlsx',\n",
    "                    index_col = [0, 2],\n",
    "                    parse_dates = True,\n",
    "                    sheet_name = 'Full data')\n",
    "\n",
    "mgdp"
   ]
  },
  {
   "cell_type": "code",
   "execution_count": null,
   "metadata": {},
   "outputs": [],
   "source": []
  },
  {
   "cell_type": "code",
   "execution_count": null,
   "metadata": {},
   "outputs": [],
   "source": []
  }
 ],
 "metadata": {
  "kernelspec": {
   "display_name": "Python 3 (ipykernel)",
   "language": "python",
   "name": "python3"
  },
  "language_info": {
   "codemirror_mode": {
    "name": "ipython",
    "version": 3
   },
   "file_extension": ".py",
   "mimetype": "text/x-python",
   "name": "python",
   "nbconvert_exporter": "python",
   "pygments_lexer": "ipython3",
   "version": "3.10.10"
  }
 },
 "nbformat": 4,
 "nbformat_minor": 2
}
