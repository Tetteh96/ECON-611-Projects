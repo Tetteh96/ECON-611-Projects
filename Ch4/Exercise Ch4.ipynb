{
 "cells": [
  {
   "attachments": {},
   "cell_type": "markdown",
   "metadata": {},
   "source": [
    "# Exercise - Chapter 4\n",
    "\n",
    "## Q1.\n",
    "Create a list of random numbers between 0 and 100 whose length is 1000. (Hint: import random; search \"python random\" to learn more about the library.)"
   ]
  },
  {
   "cell_type": "code",
   "execution_count": 1,
   "metadata": {},
   "outputs": [
    {
     "name": "stdout",
     "output_type": "stream",
     "text": [
      "[73, 86, 90, 27, 29, 46, 4, 32, 43, 43, 34, 25, 62, 15, 91, 1, 48, 77, 85, 18, 81, 89, 79, 27, 54, 65, 68, 50, 90, 82, 33, 51, 90, 76, 17, 100, 62, 28, 16, 40, 67, 82, 31, 95, 20, 60, 2, 14, 96, 95, 66, 4, 89, 91, 70, 18, 40, 72, 4, 97, 60, 49, 78, 23, 76, 43, 91, 30, 52, 90, 28, 83, 38, 42, 7, 19, 30, 43, 8, 75, 70, 26, 7, 56, 91, 52, 81, 17, 26, 21, 87, 51, 60, 89, 23, 97, 62, 99, 58, 72, 52, 29, 1, 0, 69, 13, 86, 13, 52, 16, 23, 57, 21, 94, 6, 41, 54, 100, 20, 3, 61, 56, 48, 5, 95, 27, 71, 24, 77, 100, 93, 73, 1, 38, 91, 4, 23, 21, 43, 45, 39, 63, 83, 42, 42, 15, 87, 71, 61, 89, 88, 26, 91, 30, 28, 61, 66, 100, 15, 18, 1, 71, 83, 10, 46, 96, 75, 2, 43, 9, 19, 33, 26, 36, 48, 18, 34, 44, 86, 34, 50, 35, 69, 43, 44, 36, 47, 4, 99, 62, 40, 28, 8, 1, 52, 51, 46, 72, 90, 46, 97, 59, 15, 74, 90, 17, 37, 41, 61, 34, 83, 2, 16, 90, 83, 98, 71, 47, 75, 95, 12, 82, 75, 40, 21, 21, 92, 77, 63, 53, 62, 96, 51, 76, 83, 85, 98, 97, 88, 51, 0, 99, 16, 100, 88, 30, 31, 39, 84, 4, 55, 40, 78, 14, 96, 12, 57, 86, 56, 80, 83, 39, 20, 27, 25, 34, 40, 2, 26, 63, 96, 36, 95, 60, 0, 48, 84, 54, 60, 61, 94, 15, 35, 28, 57, 69, 87, 50, 22, 31, 93, 75, 4, 90, 88, 87, 7, 58, 94, 91, 53, 32, 32, 4, 90, 91, 27, 84, 84, 61, 45, 32, 4, 74, 59, 46, 87, 62, 85, 89, 91, 38, 62, 18, 12, 66, 42, 42, 78, 29, 41, 78, 55, 39, 36, 40, 76, 77, 70, 98, 33, 37, 42, 23, 58, 33, 40, 18, 5, 98, 44, 30, 87, 95, 63, 77, 84, 21, 35, 23, 31, 10, 18, 42, 1, 72, 99, 0, 30, 57, 70, 54, 89, 90, 50, 100, 26, 47, 92, 87, 11, 25, 84, 38, 35, 20, 66, 80, 28, 81, 85, 54, 53, 58, 85, 87, 75, 49, 20, 2, 65, 7, 1, 42, 71, 13, 11, 22, 41, 46, 87, 83, 84, 10, 26, 98, 75, 76, 86, 17, 38, 11, 28, 57, 25, 47, 53, 55, 76, 34, 80, 62, 1, 32, 23, 50, 66, 30, 0, 77, 67, 54, 53, 92, 92, 40, 46, 62, 75, 1, 9, 34, 82, 87, 15, 60, 30, 58, 41, 82, 25, 36, 22, 86, 54, 9, 36, 94, 6, 94, 1, 76, 82, 47, 48, 46, 74, 5, 91, 20, 58, 20, 14, 69, 12, 24, 83, 90, 70, 74, 21, 44, 25, 28, 5, 20, 59, 0, 37, 77, 63, 91, 44, 30, 32, 62, 1, 37, 82, 30, 60, 32, 20, 31, 2, 59, 13, 4, 99, 93, 23, 58, 90, 6, 11, 79, 73, 89, 78, 35, 59, 95, 59, 18, 6, 44, 35, 16, 6, 18, 2, 31, 43, 28, 58, 6, 64, 58, 63, 47, 86, 47, 36, 90, 80, 98, 26, 92, 42, 40, 49, 10, 75, 92, 36, 5, 60, 39, 52, 15, 89, 98, 12, 91, 19, 84, 24, 56, 21, 32, 21, 17, 63, 70, 52, 3, 76, 75, 83, 44, 93, 84, 75, 97, 32, 44, 27, 89, 39, 58, 37, 100, 84, 53, 85, 79, 81, 8, 7, 59, 37, 11, 62, 53, 50, 92, 63, 9, 93, 84, 60, 95, 18, 89, 60, 48, 69, 44, 44, 15, 91, 63, 64, 61, 66, 42, 71, 6, 41, 59, 18, 61, 55, 15, 76, 28, 2, 11, 12, 32, 41, 75, 36, 61, 25, 54, 89, 16, 27, 70, 90, 87, 100, 26, 80, 32, 80, 7, 24, 35, 3, 59, 59, 44, 89, 49, 67, 14, 21, 82, 6, 74, 36, 53, 87, 68, 25, 30, 99, 53, 78, 50, 35, 99, 55, 94, 82, 91, 87, 54, 15, 92, 3, 67, 60, 99, 94, 51, 1, 51, 37, 52, 81, 73, 43, 83, 37, 77, 61, 67, 47, 63, 2, 33, 35, 98, 16, 26, 39, 85, 30, 74, 12, 50, 29, 95, 57, 55, 28, 17, 68, 38, 46, 8, 36, 47, 0, 82, 52, 44, 26, 71, 21, 73, 85, 71, 64, 45, 13, 87, 4, 65, 71, 18, 91, 7, 16, 30, 62, 44, 62, 63, 80, 92, 87, 72, 23, 93, 42, 69, 61, 10, 70, 66, 23, 82, 19, 71, 42, 86, 3, 84, 60, 25, 7, 42, 6, 42, 73, 30, 96, 90, 23, 37, 3, 21, 98, 61, 11, 71, 36, 91, 74, 44, 54, 37, 3, 51, 31, 24, 19, 10, 25, 24, 6, 17, 0, 25, 1, 40, 0, 9, 80, 80, 66, 33, 88, 44, 15, 70, 63, 70, 82, 54, 40, 85, 14, 66, 31, 48, 95, 60, 60, 28, 48, 79, 72, 90, 5, 86, 99, 3, 6, 91, 93, 63, 78, 57, 96, 76, 72, 71, 99, 32, 67, 93, 28, 71, 67, 100, 6, 77, 95, 23, 94, 6, 2, 54, 66, 7, 71, 45, 50, 13, 79, 80, 21, 45, 0, 44, 68, 43, 67, 67, 39, 8, 25, 20, 89, 35, 56, 14, 19, 1, 26, 50, 93, 48, 74, 41, 4, 98, 49, 89, 55, 34, 74, 60, 89, 6, 78, 44, 43, 28, 55, 69, 32, 38, 4, 83, 51, 4, 63, 16, 78, 89, 55, 64, 88, 87, 60, 68, 40, 44, 78, 12, 94, 39, 19, 82, 59, 94, 89, 91, 30, 56, 67, 29, 3, 77, 52, 85, 56, 21, 97, 25, 44, 67, 84, 72, 4, 92, 79, 73, 95, 82, 44, 3, 26, 58, 48, 87, 15, 27, 24, 14, 36, 29, 28, 28]\n"
     ]
    }
   ],
   "source": [
    "import random\n",
    "\n",
    "random_numbers = []\n",
    "\n",
    "for i in range(1000):\n",
    "    random_numbers.append(random.randint(0, 100))\n",
    "\n",
    "print(random_numbers)"
   ]
  },
  {
   "attachments": {},
   "cell_type": "markdown",
   "metadata": {},
   "source": [
    "## Q2.\n",
    "Use the variance function from the textbook to find the variance of this list. Assume that the list represent a population in whole."
   ]
  },
  {
   "cell_type": "code",
   "execution_count": 2,
   "metadata": {},
   "outputs": [],
   "source": [
    "def total(lst):\n",
    "    total_ = 0\n",
    "    n = len(lst)\n",
    "    for i in range(n):\n",
    "        total_ += lst[i]\n",
    "    return total_"
   ]
  },
  {
   "cell_type": "code",
   "execution_count": 3,
   "metadata": {},
   "outputs": [],
   "source": [
    "def mean(lst):\n",
    "    n = len(lst)\n",
    "    mean_ = total(lst) / n\n",
    "    return mean_"
   ]
  },
  {
   "cell_type": "code",
   "execution_count": 4,
   "metadata": {},
   "outputs": [
    {
     "name": "stdout",
     "output_type": "stream",
     "text": [
      "variance (random_numbers):  853.256\n"
     ]
    }
   ],
   "source": [
    "def variance(lst, sample = True):\n",
    "    # popvar(list) = sum((xi - list_mean)**2) / n for all xi in list\n",
    "    # save mean value of list\n",
    "    list_mean = mean(lst)\n",
    "    # use n to calculate average of sum squared diffs\n",
    "    n = len(lst)\n",
    "    DoF = n - 1\n",
    "    # create value we can add squared diffs to\n",
    "    sum_sq_diff = 0\n",
    "    for val in lst:\n",
    "        # adds each squared diff to sum_sq_diff\n",
    "        sum_sq_diff += (val - list_mean) ** 2\n",
    "    if sample == False:\n",
    "        # normalize result by dividing by n\n",
    "        variance_ = sum_sq_diff / n\n",
    "    else:\n",
    "        # for samples, normalize by dividing by (n-1)\n",
    "        variance_ = sum_sq_diff / DoF\n",
    "    \n",
    "    return variance_\n",
    "\n",
    "\n",
    "variance = variance(random_numbers, sample = False)\n",
    "print(f'variance (random_numbers): {variance: .3f}')"
   ]
  },
  {
   "cell_type": "code",
   "execution_count": 5,
   "metadata": {},
   "outputs": [
    {
     "name": "stdout",
     "output_type": "stream",
     "text": [
      "Variance (random_numbers: 854.111\n"
     ]
    }
   ],
   "source": [
    "import statistics\n",
    "\n",
    "print(f'Variance (random_numbers: {statistics.variance(random_numbers):.3f}')"
   ]
  },
  {
   "attachments": {},
   "cell_type": "markdown",
   "metadata": {},
   "source": [
    "## Q3\n",
    "Create a 9 more lists of the same length whose elements are random numbers between 0 and 100. Use a nested dictionary to house and identify these lists. Keys for the first layer should be the numbers 1 through 10. Lists should be stored using a second key as follows: dict_name[index][\"list\"]. Index represents the particular integer key between 1 and 10 as noted above."
   ]
  },
  {
   "cell_type": "code",
   "execution_count": 6,
   "metadata": {},
   "outputs": [
    {
     "name": "stdout",
     "output_type": "stream",
     "text": [
      "\n",
      "List 1:\n",
      " [72, 87, 59, 38, 1, 71, 71, 74, 23, 3]\n",
      "\n",
      "List 2:\n",
      " [77, 48, 61, 67, 16, 54, 55, 66, 58, 8]\n",
      "\n",
      "List 3:\n",
      " [43, 11, 39, 76, 68, 16, 96, 90, 67, 43]\n",
      "\n",
      "List 4:\n",
      " [22, 69, 4, 22, 85, 42, 77, 63, 100, 40]\n",
      "\n",
      "List 5:\n",
      " [37, 59, 13, 64, 37, 74, 55, 39, 72, 19]\n",
      "\n",
      "List 6:\n",
      " [12, 27, 89, 90, 66, 97, 26, 75, 43, 4]\n",
      "\n",
      "List 7:\n",
      " [23, 35, 88, 59, 86, 24, 13, 64, 44, 36]\n",
      "\n",
      "List 8:\n",
      " [13, 43, 4, 29, 0, 35, 71, 47, 68, 39]\n",
      "\n",
      "List 9:\n",
      " [61, 21, 56, 45, 63, 44, 60, 60, 9, 54]\n"
     ]
    }
   ],
   "source": [
    "# create empty dictionary\n",
    "nested_dict = {}\n",
    "for i in range(1, 10):\n",
    "    nested_dict[i] = {}\n",
    "\n",
    "# populate dictionary with random lists\n",
    "list_length = 10  # set the length of the lists\n",
    "for i in range(1, 10):\n",
    "    nested_dict[i]['list'] = [random.randint(0, 100) for _ in range(list_length)]\n",
    "\n",
    "# print each list in the nested dictionary\n",
    "for i in range(1, 10):\n",
    "    print(f\"\\nList {i}:\\n {nested_dict[i]['list']}\")"
   ]
  },
  {
   "attachments": {},
   "cell_type": "markdown",
   "metadata": {},
   "source": [
    "## Q4.\n",
    "Find the variance of each list and store it as follows: dict_name[index][\"variance\"]."
   ]
  },
  {
   "cell_type": "code",
   "execution_count": 7,
   "metadata": {},
   "outputs": [
    {
     "name": "stdout",
     "output_type": "stream",
     "text": [
      "\n",
      "Variance (List 1):  887.490\n",
      "\n",
      "Variance (List 2):  441.400\n",
      "\n",
      "Variance (List 3):  766.090\n",
      "\n",
      "Variance (List 4):  877.440\n",
      "\n",
      "Variance (List 5):  405.490\n",
      "\n",
      "Variance (List 6):  1084.090\n",
      "\n",
      "Variance (List 7):  616.960\n",
      "\n",
      "Variance (List 8):  531.490\n",
      "\n",
      "Variance (List 9):  305.210\n"
     ]
    }
   ],
   "source": [
    "import numpy as np\n",
    "\n",
    "# calculate variance of each list and store in nested dictionary\n",
    "for i in range(1, 10):\n",
    "    variance = np.var(nested_dict[i]['list'])\n",
    "    nested_dict[i]['variance'] = variance\n",
    "\n",
    "\n",
    "for i in range(1, 10):\n",
    "    print(f'\\nVariance (List {i}): {nested_dict[i][\"variance\"]: .3f}')"
   ]
  },
  {
   "attachments": {},
   "cell_type": "markdown",
   "metadata": {},
   "source": [
    "## Q5.\n",
    "At the end of chapter 2, we used for loops to find min and max values. Create a min() function and max() function and pass the values from the list in question 1 to each of these to determine the min and max values in that list."
   ]
  },
  {
   "cell_type": "code",
   "execution_count": 8,
   "metadata": {},
   "outputs": [],
   "source": [
    "# define min function\n",
    "def my_min(lst):\n",
    "    min_val = lst[0]\n",
    "    for val in lst:\n",
    "        if val < min_val:\n",
    "            min_val = val\n",
    "    return min_val\n",
    "\n",
    "# define max function\n",
    "def my_max(lst):\n",
    "    max_val = lst[0]\n",
    "    for val in lst:\n",
    "        if val > max_val:\n",
    "            max_val = val\n",
    "    return max_val"
   ]
  },
  {
   "cell_type": "code",
   "execution_count": 9,
   "metadata": {},
   "outputs": [
    {
     "name": "stdout",
     "output_type": "stream",
     "text": [
      "Minimum value in list 1: 1\n",
      "Minimum value in list 2: 8\n",
      "Minimum value in list 3: 11\n",
      "Minimum value in list 4: 4\n",
      "Minimum value in list 5: 13\n",
      "Minimum value in list 6: 4\n",
      "Minimum value in list 7: 13\n",
      "Minimum value in list 8: 0\n",
      "Minimum value in list 9: 9\n"
     ]
    }
   ],
   "source": [
    "for i in range(1, 10):\n",
    "    my_min_val = my_min(nested_dict[i]['list'])\n",
    "    print(f'Minimum value in list {i}: {my_min_val}')\n",
    "    "
   ]
  },
  {
   "cell_type": "code",
   "execution_count": 10,
   "metadata": {},
   "outputs": [
    {
     "name": "stdout",
     "output_type": "stream",
     "text": [
      "Maximum value in list 1: 87\n",
      "Maximum value in list 2: 77\n",
      "Maximum value in list 3: 96\n",
      "Maximum value in list 4: 100\n",
      "Maximum value in list 5: 74\n",
      "Maximum value in list 6: 97\n",
      "Maximum value in list 7: 88\n",
      "Maximum value in list 8: 71\n",
      "Maximum value in list 9: 63\n"
     ]
    }
   ],
   "source": [
    "for i in range(1, 10):\n",
    "    my_max_val = my_max(nested_dict[i]['list'])\n",
    "    print(f'Maximum value in list {i}: {my_max_val}')"
   ]
  },
  {
   "attachments": {},
   "cell_type": "markdown",
   "metadata": {},
   "source": [
    "## Q6\n",
    "\n",
    "Explain why it might be advantageous to create a function instead of building all commands from scratch as you create a script.\n",
    "\n",
    "- Reusability: A function can be used again throughout the code once it has been defined, potentially saving time and lowering mistakes. This is particularly helpful for complicated or repetitive actions that happen repeatedly in a script.\n",
    "\n",
    "- Modularity: A function is a self-contained piece of code that carries out a single purpose. A lengthy script can be divided into more manageable sections, making it simpler to understand, maintain, and change the code over time. Also, this may make it simpler for several developers to collaborate on the same codebase.\n",
    "\n",
    "- Encapsulation: By combining several actions, inputs, and outputs into a single function, the code can be more logically ordered and easier to understand. Also, it can assist in isolating potential faults or errors, making it simpler to find and correct them.\n",
    "\n",
    "- Abstraction: Functions have the ability to abstract away the specifics of a complex operation, making it simpler for other portions of the code to use the function without having to be aware of its underlying workings. This may make the code easier to read and maintain in the long run."
   ]
  },
  {
   "cell_type": "code",
   "execution_count": 11,
   "metadata": {},
   "outputs": [],
   "source": [
    "# for i in range(1, 10):\n",
    "#     # check if 0 is in the list\n",
    "#     if 0 in nested_dict[i][\"list\"]:\n",
    "#         print(f\"0 is in list {i}\")\n",
    "#     else:\n",
    "#         print(f\"0 is not in list {i}\")"
   ]
  }
 ],
 "metadata": {
  "kernelspec": {
   "display_name": "Python 3",
   "language": "python",
   "name": "python3"
  },
  "language_info": {
   "codemirror_mode": {
    "name": "ipython",
    "version": 3
   },
   "file_extension": ".py",
   "mimetype": "text/x-python",
   "name": "python",
   "nbconvert_exporter": "python",
   "pygments_lexer": "ipython3",
   "version": "3.9.13"
  },
  "orig_nbformat": 4,
  "vscode": {
   "interpreter": {
    "hash": "a5a5ee79131dd741c11a15297e11137d0fafec1036103241b0ea33c037eb3512"
   }
  }
 },
 "nbformat": 4,
 "nbformat_minor": 2
}
