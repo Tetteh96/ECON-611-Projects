{
 "cells": [
  {
   "attachments": {},
   "cell_type": "markdown",
   "metadata": {},
   "source": [
    "# ECON 611\n",
    "## Exercises"
   ]
  },
  {
   "attachments": {},
   "cell_type": "markdown",
   "metadata": {},
   "source": [
    "### Q1"
   ]
  },
  {
   "cell_type": "code",
   "execution_count": 1,
   "metadata": {},
   "outputs": [
    {
     "name": "stdout",
     "output_type": "stream",
     "text": [
      "Recorded my name and stored it as object x, and\n",
      "stated my interest and stored it as object y \n",
      "\n",
      "Name :\n",
      "Evans Akoto\n",
      "Description :\n",
      "Have interest in data anlytics\n"
     ]
    }
   ],
   "source": [
    "print('''Recorded my name and stored it as object x, and\n",
    "stated my interest and stored it as object y \\n''')\n",
    "\n",
    "x = 'Evans Akoto'\n",
    "\n",
    "y = 'Have interest in data anlytics'\n",
    "\n",
    "\n",
    "print('Name :', x, 'Description :', y, sep='\\n')"
   ]
  },
  {
   "attachments": {},
   "cell_type": "markdown",
   "metadata": {},
   "source": [
    "### Q2"
   ]
  },
  {
   "cell_type": "code",
   "execution_count": 2,
   "metadata": {},
   "outputs": [
    {
     "name": "stdout",
     "output_type": "stream",
     "text": [
      "twoToTheForth =  16\n",
      "\n",
      "x1 = 64\n",
      "\n",
      "<class 'str'>\n"
     ]
    },
    {
     "data": {
      "text/plain": [
       "'16'"
      ]
     },
     "execution_count": 2,
     "metadata": {},
     "output_type": "execute_result"
    }
   ],
   "source": [
    "# Raised 2 to the 4th power and saved the with the name twoToTheFourth\n",
    "twoToTheForth = 2 ** 4\n",
    "print('twoToTheForth = ',twoToTheForth)\n",
    "\n",
    "print()\n",
    "\n",
    "# Created a new value that sums the twice value of twoToTheFourthand stored as x1 \n",
    "x1 = 2 * (twoToTheForth + twoToTheForth)\n",
    "print('x1 =', x1)\n",
    "\n",
    "# Created variable y1 which stores the value of twoToTheFourth as string\n",
    "y1 = (str(twoToTheForth))\n",
    "print()\n",
    "print(type(y1))\n",
    "y1"
   ]
  },
  {
   "cell_type": "code",
   "execution_count": 3,
   "metadata": {},
   "outputs": [
    {
     "data": {
      "text/plain": [
       "'16161616'"
      ]
     },
     "execution_count": 3,
     "metadata": {},
     "output_type": "execute_result"
    }
   ],
   "source": [
    "# Created a new value that sums the twice value of y1 and stored as y2 \n",
    "y2 = 2 * (y1 + y1)\n",
    "y2"
   ]
  },
  {
   "attachments": {},
   "cell_type": "markdown",
   "metadata": {},
   "source": [
    "### Q3"
   ]
  },
  {
   "cell_type": "code",
   "execution_count": 4,
   "metadata": {},
   "outputs": [
    {
     "name": "stdout",
     "output_type": "stream",
     "text": [
      "x2 =  Coding\n",
      " is\\ awesome 'when \"you know \twhat you are doing\n"
     ]
    }
   ],
   "source": [
    "# Created a string that uses at least 4 different escape sequences and stores as x2\n",
    "x2 = 'Coding\\n is\\\\ awesome \\'when \\\"you know \\twhat you are doing'\n",
    "print('x2 = ', x2)"
   ]
  },
  {
   "attachments": {},
   "cell_type": "markdown",
   "metadata": {},
   "source": [
    "### Q4"
   ]
  },
  {
   "cell_type": "code",
   "execution_count": 5,
   "metadata": {},
   "outputs": [
    {
     "name": "stdout",
     "output_type": "stream",
     "text": [
      "<class 'float'>\n"
     ]
    },
    {
     "data": {
      "text/plain": [
       "25.0"
      ]
     },
     "execution_count": 5,
     "metadata": {},
     "output_type": "execute_result"
    }
   ],
   "source": [
    "# Added an integer to a float and stored as x3. The final result is a float\n",
    "x3 = 19 + 6.0\n",
    "\n",
    "print(type(x3))\n",
    "x3"
   ]
  },
  {
   "cell_type": "code",
   "execution_count": 6,
   "metadata": {},
   "outputs": [
    {
     "data": {
      "text/plain": [
       "float"
      ]
     },
     "execution_count": 6,
     "metadata": {},
     "output_type": "execute_result"
    }
   ],
   "source": [
    "type(x3)"
   ]
  },
  {
   "attachments": {},
   "cell_type": "markdown",
   "metadata": {},
   "source": [
    "### Q5"
   ]
  },
  {
   "cell_type": "code",
   "execution_count": 7,
   "metadata": {},
   "outputs": [
    {
     "ename": "OverflowError",
     "evalue": "int too large to convert to float",
     "output_type": "error",
     "traceback": [
      "\u001b[1;31m---------------------------------------------------------------------------\u001b[0m",
      "\u001b[1;31mOverflowError\u001b[0m                             Traceback (most recent call last)",
      "Cell \u001b[1;32mIn[7], line 3\u001b[0m\n\u001b[0;32m      1\u001b[0m \u001b[39m# Performed 2**1024 + 1.5 and had an error.\u001b[39;00m\n\u001b[0;32m      2\u001b[0m \u001b[39m# This is because the result is a float and it exceeds the character limit (if converted to a float)\u001b[39;00m\n\u001b[1;32m----> 3\u001b[0m y3 \u001b[39m=\u001b[39m \u001b[39m2\u001b[39;49m \u001b[39m*\u001b[39;49m\u001b[39m*\u001b[39;49m \u001b[39m1024\u001b[39;49m \u001b[39m+\u001b[39;49m \u001b[39m1.5\u001b[39;49m\n\u001b[0;32m      4\u001b[0m y3\n",
      "\u001b[1;31mOverflowError\u001b[0m: int too large to convert to float"
     ]
    }
   ],
   "source": [
    "# Performed 2**1024 + 1.5 and had an error.\n",
    "# This is because the result is a float and it exceeds the character limit (if converted to a float)\n",
    "y3 = 2 ** 1024 + 1.5\n",
    "y3"
   ]
  },
  {
   "cell_type": "code",
   "execution_count": 8,
   "metadata": {},
   "outputs": [
    {
     "ename": "OverflowError",
     "evalue": "int too large to convert to float",
     "output_type": "error",
     "traceback": [
      "\u001b[1;31m---------------------------------------------------------------------------\u001b[0m",
      "\u001b[1;31mOverflowError\u001b[0m                             Traceback (most recent call last)",
      "Cell \u001b[1;32mIn[8], line 3\u001b[0m\n\u001b[0;32m      1\u001b[0m \u001b[39m# Performed 2**1024 + 0.5 and had an error.\u001b[39;00m\n\u001b[0;32m      2\u001b[0m \u001b[39m# This is because the result is a float and it exceeds the character limit (if converted to a float)\u001b[39;00m\n\u001b[1;32m----> 3\u001b[0m y3 \u001b[39m=\u001b[39m \u001b[39m2\u001b[39;49m \u001b[39m*\u001b[39;49m\u001b[39m*\u001b[39;49m \u001b[39m1024\u001b[39;49m \u001b[39m+\u001b[39;49m \u001b[39m0.5\u001b[39;49m\n\u001b[0;32m      4\u001b[0m y3\n",
      "\u001b[1;31mOverflowError\u001b[0m: int too large to convert to float"
     ]
    }
   ],
   "source": [
    "# Performed 2**1024 + 0.5 and had an error.\n",
    "# This is because the result is a float and it exceeds the character limit (if converted to a float)\n",
    "y3 = 2 ** 1024 + 0.5\n",
    "y3"
   ]
  },
  {
   "cell_type": "code",
   "execution_count": 9,
   "metadata": {},
   "outputs": [
    {
     "data": {
      "text/plain": [
       "179769313486231590772930519078902473361797697894230657273430081157732675805500963132708477322407536021120113879871393357658789768814416622492847430639474124377767893424865485276302219601246094119453082952085005768838150682342462881473913110540827237163350510684586298239947245938479716304835356329624224137217"
      ]
     },
     "execution_count": 9,
     "metadata": {},
     "output_type": "execute_result"
    }
   ],
   "source": [
    "# Performed 2**1024 + 1.5 and stored the value as y3.\n",
    "# There was no error because the result is an integer.\n",
    "# The result does not exceeds the character limit\n",
    "y3 = 2 ** 1024 + 1\n",
    "y3"
   ]
  },
  {
   "cell_type": "code",
   "execution_count": 11,
   "metadata": {},
   "outputs": [
    {
     "ename": "OverflowError",
     "evalue": "int too large to convert to float",
     "output_type": "error",
     "traceback": [
      "\u001b[1;31m---------------------------------------------------------------------------\u001b[0m",
      "\u001b[1;31mOverflowError\u001b[0m                             Traceback (most recent call last)",
      "Cell \u001b[1;32mIn[11], line 3\u001b[0m\n\u001b[0;32m      1\u001b[0m \u001b[39m# Performed 2**1024 + 1.1 and had an error.\u001b[39;00m\n\u001b[0;32m      2\u001b[0m \u001b[39m# This is because the result is a float and it exceeds the character limit (if converted to a float)\u001b[39;00m\n\u001b[1;32m----> 3\u001b[0m y3 \u001b[39m=\u001b[39m \u001b[39m2\u001b[39;49m \u001b[39m*\u001b[39;49m\u001b[39m*\u001b[39;49m \u001b[39m1024\u001b[39;49m \u001b[39m+\u001b[39;49m \u001b[39m1.1\u001b[39;49m\n\u001b[0;32m      4\u001b[0m y3\n",
      "\u001b[1;31mOverflowError\u001b[0m: int too large to convert to float"
     ]
    }
   ],
   "source": [
    "# Performed 2**1024 + 1.1 and had an error.\n",
    "# This is because the result is a float and it exceeds the character limit (if converted to a float)\n",
    "y3 = 2 ** 1024 + 1.1\n",
    "y3"
   ]
  },
  {
   "attachments": {},
   "cell_type": "markdown",
   "metadata": {},
   "source": [
    "### Q6"
   ]
  },
  {
   "cell_type": "code",
   "execution_count": 19,
   "metadata": {},
   "outputs": [
    {
     "name": "stdout",
     "output_type": "stream",
     "text": [
      "{'__name__': 'string', '__doc__': 'A collection of string constants.\\n\\nPublic module variables:\\n\\nwhitespace -- a string containing all ASCII whitespace\\nascii_lowercase -- a string containing all ASCII lowercase letters\\nascii_uppercase -- a string containing all ASCII uppercase letters\\nascii_letters -- a string containing all ASCII letters\\ndigits -- a string containing all ASCII decimal digits\\nhexdigits -- a string containing all ASCII hexadecimal digits\\noctdigits -- a string containing all ASCII octal digits\\npunctuation -- a string containing all ASCII punctuation characters\\nprintable -- a string containing all ASCII characters considered printable\\n\\n', '__package__': '', '__loader__': <_frozen_importlib_external.SourceFileLoader object at 0x000001585B082F50>, '__spec__': ModuleSpec(name='string', loader=<_frozen_importlib_external.SourceFileLoader object at 0x000001585B082F50>, origin='C:\\\\Program Files\\\\WindowsApps\\\\PythonSoftwareFoundation.Python.3.10_3.10.2544.0_x64__qbz5n2kfra8p0\\\\lib\\\\string.py'), '__file__': 'C:\\\\Program Files\\\\WindowsApps\\\\PythonSoftwareFoundation.Python.3.10_3.10.2544.0_x64__qbz5n2kfra8p0\\\\lib\\\\string.py', '__cached__': 'C:\\\\Program Files\\\\WindowsApps\\\\PythonSoftwareFoundation.Python.3.10_3.10.2544.0_x64__qbz5n2kfra8p0\\\\lib\\\\__pycache__\\\\string.cpython-310.pyc', '__builtins__': {'__name__': 'builtins', '__doc__': \"Built-in functions, exceptions, and other objects.\\n\\nNoteworthy: None is the `nil' object; Ellipsis represents `...' in slices.\", '__package__': '', '__loader__': <class '_frozen_importlib.BuiltinImporter'>, '__spec__': ModuleSpec(name='builtins', loader=<class '_frozen_importlib.BuiltinImporter'>, origin='built-in'), '__build_class__': <built-in function __build_class__>, '__import__': <built-in function __import__>, 'abs': <built-in function abs>, 'all': <built-in function all>, 'any': <built-in function any>, 'ascii': <built-in function ascii>, 'bin': <built-in function bin>, 'breakpoint': <built-in function breakpoint>, 'callable': <built-in function callable>, 'chr': <built-in function chr>, 'compile': <built-in function compile>, 'delattr': <built-in function delattr>, 'dir': <built-in function dir>, 'divmod': <built-in function divmod>, 'eval': <built-in function eval>, 'exec': <built-in function exec>, 'format': <built-in function format>, 'getattr': <built-in function getattr>, 'globals': <built-in function globals>, 'hasattr': <built-in function hasattr>, 'hash': <built-in function hash>, 'hex': <built-in function hex>, 'id': <built-in function id>, 'input': <bound method Kernel.raw_input of <ipykernel.ipkernel.IPythonKernel object at 0x000001585E744160>>, 'isinstance': <built-in function isinstance>, 'issubclass': <built-in function issubclass>, 'iter': <built-in function iter>, 'aiter': <built-in function aiter>, 'len': <built-in function len>, 'locals': <built-in function locals>, 'max': <built-in function max>, 'min': <built-in function min>, 'next': <built-in function next>, 'anext': <built-in function anext>, 'oct': <built-in function oct>, 'ord': <built-in function ord>, 'pow': <built-in function pow>, 'print': <built-in function print>, 'repr': <built-in function repr>, 'round': <built-in function round>, 'setattr': <built-in function setattr>, 'sorted': <built-in function sorted>, 'sum': <built-in function sum>, 'vars': <built-in function vars>, 'None': None, 'Ellipsis': Ellipsis, 'NotImplemented': NotImplemented, 'False': False, 'True': True, 'bool': <class 'bool'>, 'memoryview': <class 'memoryview'>, 'bytearray': <class 'bytearray'>, 'bytes': <class 'bytes'>, 'classmethod': <class 'classmethod'>, 'complex': <class 'complex'>, 'dict': <class 'dict'>, 'enumerate': <class 'enumerate'>, 'filter': <class 'filter'>, 'float': <class 'float'>, 'frozenset': <class 'frozenset'>, 'property': <class 'property'>, 'int': <class 'int'>, 'list': <class 'list'>, 'map': <class 'map'>, 'object': <class 'object'>, 'range': <class 'range'>, 'reversed': <class 'reversed'>, 'set': <class 'set'>, 'slice': <class 'slice'>, 'staticmethod': <class 'staticmethod'>, 'str': <class 'str'>, 'super': <class 'super'>, 'tuple': <class 'tuple'>, 'type': <class 'type'>, 'zip': <class 'zip'>, '__debug__': True, 'BaseException': <class 'BaseException'>, 'Exception': <class 'Exception'>, 'TypeError': <class 'TypeError'>, 'StopAsyncIteration': <class 'StopAsyncIteration'>, 'StopIteration': <class 'StopIteration'>, 'GeneratorExit': <class 'GeneratorExit'>, 'SystemExit': <class 'SystemExit'>, 'KeyboardInterrupt': <class 'KeyboardInterrupt'>, 'ImportError': <class 'ImportError'>, 'ModuleNotFoundError': <class 'ModuleNotFoundError'>, 'OSError': <class 'OSError'>, 'EnvironmentError': <class 'OSError'>, 'IOError': <class 'OSError'>, 'WindowsError': <class 'OSError'>, 'EOFError': <class 'EOFError'>, 'RuntimeError': <class 'RuntimeError'>, 'RecursionError': <class 'RecursionError'>, 'NotImplementedError': <class 'NotImplementedError'>, 'NameError': <class 'NameError'>, 'UnboundLocalError': <class 'UnboundLocalError'>, 'AttributeError': <class 'AttributeError'>, 'SyntaxError': <class 'SyntaxError'>, 'IndentationError': <class 'IndentationError'>, 'TabError': <class 'TabError'>, 'LookupError': <class 'LookupError'>, 'IndexError': <class 'IndexError'>, 'KeyError': <class 'KeyError'>, 'ValueError': <class 'ValueError'>, 'UnicodeError': <class 'UnicodeError'>, 'UnicodeEncodeError': <class 'UnicodeEncodeError'>, 'UnicodeDecodeError': <class 'UnicodeDecodeError'>, 'UnicodeTranslateError': <class 'UnicodeTranslateError'>, 'AssertionError': <class 'AssertionError'>, 'ArithmeticError': <class 'ArithmeticError'>, 'FloatingPointError': <class 'FloatingPointError'>, 'OverflowError': <class 'OverflowError'>, 'ZeroDivisionError': <class 'ZeroDivisionError'>, 'SystemError': <class 'SystemError'>, 'ReferenceError': <class 'ReferenceError'>, 'MemoryError': <class 'MemoryError'>, 'BufferError': <class 'BufferError'>, 'Warning': <class 'Warning'>, 'UserWarning': <class 'UserWarning'>, 'EncodingWarning': <class 'EncodingWarning'>, 'DeprecationWarning': <class 'DeprecationWarning'>, 'PendingDeprecationWarning': <class 'PendingDeprecationWarning'>, 'SyntaxWarning': <class 'SyntaxWarning'>, 'RuntimeWarning': <class 'RuntimeWarning'>, 'FutureWarning': <class 'FutureWarning'>, 'ImportWarning': <class 'ImportWarning'>, 'UnicodeWarning': <class 'UnicodeWarning'>, 'BytesWarning': <class 'BytesWarning'>, 'ResourceWarning': <class 'ResourceWarning'>, 'ConnectionError': <class 'ConnectionError'>, 'BlockingIOError': <class 'BlockingIOError'>, 'BrokenPipeError': <class 'BrokenPipeError'>, 'ChildProcessError': <class 'ChildProcessError'>, 'ConnectionAbortedError': <class 'ConnectionAbortedError'>, 'ConnectionRefusedError': <class 'ConnectionRefusedError'>, 'ConnectionResetError': <class 'ConnectionResetError'>, 'FileExistsError': <class 'FileExistsError'>, 'FileNotFoundError': <class 'FileNotFoundError'>, 'IsADirectoryError': <class 'IsADirectoryError'>, 'NotADirectoryError': <class 'NotADirectoryError'>, 'InterruptedError': <class 'InterruptedError'>, 'PermissionError': <class 'PermissionError'>, 'ProcessLookupError': <class 'ProcessLookupError'>, 'TimeoutError': <class 'TimeoutError'>, 'open': <built-in function open>, 'copyright': Copyright (c) 2001-2022 Python Software Foundation.\n",
      "All Rights Reserved.\n",
      "\n",
      "Copyright (c) 2000 BeOpen.com.\n",
      "All Rights Reserved.\n",
      "\n",
      "Copyright (c) 1995-2001 Corporation for National Research Initiatives.\n",
      "All Rights Reserved.\n",
      "\n",
      "Copyright (c) 1991-1995 Stichting Mathematisch Centrum, Amsterdam.\n",
      "All Rights Reserved., 'credits':     Thanks to CWI, CNRI, BeOpen.com, Zope Corporation and a cast of thousands\n",
      "    for supporting Python development.  See www.python.org for more information., 'license': Type license() to see the full license text, 'help': Type help() for interactive help, or help(object) for help about object., 'execfile': <function execfile at 0x000001585E0FE5F0>, 'runfile': <function runfile at 0x000001585E4BD7E0>, '__IPYTHON__': True, 'display': <function display at 0x000001585BB8B370>, 'get_ipython': <bound method InteractiveShell.get_ipython of <ipykernel.zmqshell.ZMQInteractiveShell object at 0x000001585E746530>>}, '__all__': ['ascii_letters', 'ascii_lowercase', 'ascii_uppercase', 'capwords', 'digits', 'hexdigits', 'octdigits', 'printable', 'punctuation', 'whitespace', 'Formatter', 'Template'], '_string': <module '_string' (built-in)>, 'whitespace': ' \\t\\n\\r\\x0b\\x0c', 'ascii_lowercase': 'abcdefghijklmnopqrstuvwxyz', 'ascii_uppercase': 'ABCDEFGHIJKLMNOPQRSTUVWXYZ', 'ascii_letters': 'abcdefghijklmnopqrstuvwxyzABCDEFGHIJKLMNOPQRSTUVWXYZ', 'digits': '0123456789', 'hexdigits': '0123456789abcdefABCDEF', 'octdigits': '01234567', 'punctuation': '!\"#$%&\\'()*+,-./:;<=>?@[\\\\]^_`{|}~', 'printable': '0123456789abcdefghijklmnopqrstuvwxyzABCDEFGHIJKLMNOPQRSTUVWXYZ!\"#$%&\\'()*+,-./:;<=>?@[\\\\]^_`{|}~ \\t\\n\\r\\x0b\\x0c', 'capwords': <function capwords at 0x000001585B092560>, '_re': <module 're' from 'C:\\\\Program Files\\\\WindowsApps\\\\PythonSoftwareFoundation.Python.3.10_3.10.2544.0_x64__qbz5n2kfra8p0\\\\lib\\\\re.py'>, '_ChainMap': <class 'collections.ChainMap'>, '_sentinel_dict': {}, 'Template': <class 'string.Template'>, 'Formatter': <class 'string.Formatter'>}\n"
     ]
    }
   ],
   "source": [
    "# Imported the string library\n",
    "import string\n",
    "\n",
    "# Printed string.__dict__\n",
    "print(string.__dict__)\n",
    "\n",
    "# The opertation converted the string library to a dictionary\n",
    "# __dict__  is a dictionary or other mapping object used to store an object’s (writable) attributes."
   ]
  },
  {
   "cell_type": "code",
   "execution_count": 22,
   "metadata": {},
   "outputs": [
    {
     "name": "stdout",
     "output_type": "stream",
     "text": [
      "abcdefghijklmnopqrstuvwxyzABCDEFGHIJKLMNOPQRSTUVWXYZ\n",
      "0123456789\n",
      "!\"#$%&'()*+,-./:;<=>?@[\\]^_`{|}~\n",
      " \t\n",
      "\u000b\f\n",
      "0123456789abcdefghijklmnopqrstuvwxyzABCDEFGHIJKLMNOPQRSTUVWXYZ!\"#$%&'()*+,-./:;<=>?@[\\]^_`{|}~ \t\n",
      "\u000b\f\n"
     ]
    }
   ],
   "source": [
    "#import string\n",
    "# calling at least 5 of the results from string.__dict__\n",
    "\n",
    "print(string.ascii_letters)\n",
    "print(string.digits)\n",
    "print(string.punctuation)\n",
    "print(string.whitespace)\n",
    "print(string.printable)\n"
   ]
  },
  {
   "cell_type": "code",
   "execution_count": null,
   "metadata": {},
   "outputs": [],
   "source": [
    "# concatenate 3 distinct strings\n",
    "str1 = 'You'\n",
    "str2 = '\" World\"'\n",
    "str3 = \"!\"\n",
    "\n",
    "result = str1 + str2 + str3\n",
    "print(result)\n"
   ]
  },
  {
   "cell_type": "code",
   "execution_count": 13,
   "metadata": {},
   "outputs": [
    {
     "name": "stdout",
     "output_type": "stream",
     "text": [
      "__name__\n",
      "__doc__\n",
      "__package__\n",
      "__loader__\n",
      "__spec__\n",
      "__file__\n",
      "__cached__\n",
      "__builtins__\n",
      "__all__\n",
      "_string\n",
      "whitespace\n",
      "ascii_lowercase\n",
      "ascii_uppercase\n",
      "ascii_letters\n",
      "digits\n",
      "hexdigits\n",
      "octdigits\n",
      "punctuation\n",
      "printable\n",
      "capwords\n",
      "_re\n",
      "_ChainMap\n",
      "_sentinel_dict\n",
      "Template\n",
      "Formatter\n"
     ]
    }
   ],
   "source": [
    "for i in x4:\n",
    "    print(i)"
   ]
  },
  {
   "cell_type": "code",
   "execution_count": 17,
   "metadata": {},
   "outputs": [
    {
     "ename": "AttributeError",
     "evalue": "'dict' object has no attribute '__builtins__'",
     "output_type": "error",
     "traceback": [
      "\u001b[1;31m---------------------------------------------------------------------------\u001b[0m",
      "\u001b[1;31mAttributeError\u001b[0m                            Traceback (most recent call last)",
      "Cell \u001b[1;32mIn[17], line 7\u001b[0m\n\u001b[0;32m      1\u001b[0m \u001b[39m#s = \"Hello, World!\"\u001b[39;00m\n\u001b[0;32m      2\u001b[0m \n\u001b[0;32m      3\u001b[0m \u001b[39m# __add__\u001b[39;00m\n\u001b[0;32m      4\u001b[0m \u001b[39m#print(x4.__add__())\u001b[39;00m\n\u001b[0;32m      5\u001b[0m \n\u001b[0;32m      6\u001b[0m \u001b[39m# __contains__\u001b[39;00m\n\u001b[1;32m----> 7\u001b[0m \u001b[39mprint\u001b[39m(x4\u001b[39m.\u001b[39;49m__builtins__())\n\u001b[0;32m      9\u001b[0m \u001b[39m# __eq__\u001b[39;00m\n\u001b[0;32m     10\u001b[0m \u001b[39mprint\u001b[39m(x4\u001b[39m.\u001b[39m__package__())\n",
      "\u001b[1;31mAttributeError\u001b[0m: 'dict' object has no attribute '__builtins__'"
     ]
    }
   ],
   "source": [
    "#s = \"Hello, World!\"\n",
    "\n",
    "# __add__\n",
    "#print(x4.__add__())\n",
    "\n",
    "# __contains__\n",
    "print(x4.__builtins__())\n",
    "\n",
    "# __eq__\n",
    "print(x4.__package__())\n",
    "\n",
    "# __len__\n",
    "print(x4.__len__())\n",
    "\n",
    "# __repr__\n",
    "print(x4.__repr__())\n"
   ]
  },
  {
   "cell_type": "code",
   "execution_count": null,
   "metadata": {},
   "outputs": [],
   "source": []
  }
 ],
 "metadata": {
  "kernelspec": {
   "display_name": "Python 3",
   "language": "python",
   "name": "python3"
  },
  "language_info": {
   "codemirror_mode": {
    "name": "ipython",
    "version": 3
   },
   "file_extension": ".py",
   "mimetype": "text/x-python",
   "name": "python",
   "nbconvert_exporter": "python",
   "pygments_lexer": "ipython3",
   "version": "3.10.9"
  },
  "orig_nbformat": 4,
  "vscode": {
   "interpreter": {
    "hash": "2dc4c6a692b63101f011a0aa102be2339a2da38695e31b8e74f44edafe8bbd18"
   }
  }
 },
 "nbformat": 4,
 "nbformat_minor": 2
}
