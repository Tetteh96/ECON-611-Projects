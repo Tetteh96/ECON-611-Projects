{
 "cells": [
  {
   "attachments": {},
   "cell_type": "markdown",
   "metadata": {},
   "source": [
    "# Chapter 2 - Exercise\n",
    "\n",
    "\n",
    "## Question 1"
   ]
  },
  {
   "cell_type": "code",
   "execution_count": null,
   "metadata": {},
   "outputs": [
    {
     "name": "stdout",
     "output_type": "stream",
     "text": [
      "[3, 6, 9, 12, 15, 18, 21, 24, 27, 30, 33, 36, 39, 42, 45, 48, 51, 54, 57, 60, 63, 66, 69, 72, 75, 78, 81, 84, 87, 90, 93, 96, 99, 102, 105, 108, 111, 114, 117, 120, 123, 126, 129, 132, 135, 138, 141, 144, 147, 150, 153, 156, 159, 162, 165, 168, 171, 174, 177, 180, 183, 186, 189, 192, 195, 198, 201, 204, 207, 210, 213, 216, 219, 222, 225, 228, 231, 234, 237, 240, 243, 246, 249, 252, 255, 258, 261, 264, 267, 270, 273, 276, 279, 282, 285, 288, 291, 294, 297, 300]\n",
      "\n"
     ]
    },
    {
     "data": {
      "text/plain": [
       "100"
      ]
     },
     "execution_count": 1,
     "metadata": {},
     "output_type": "execute_result"
    }
   ],
   "source": [
    "num_list = []\n",
    "\n",
    "for number in range(3, 301, 3):\n",
    "    number\n",
    "    num_list.append(number)\n",
    "print(num_list)\n",
    "print()\n",
    "len(num_list)"
   ]
  },
  {
   "attachments": {},
   "cell_type": "markdown",
   "metadata": {},
   "source": [
    "## Question 2"
   ]
  },
  {
   "cell_type": "code",
   "execution_count": null,
   "metadata": {},
   "outputs": [
    {
     "name": "stdout",
     "output_type": "stream",
     "text": [
      "['3', '6', '9', '12', '15', '18', '21', '24', '27', '30', '33', '36', '39', '42', '45', '48', '51', '54', '57', '60', '63', '66', '69', '72', '75', '78', '81', '84', '87', '90', '93', '96', '99', '102', '105', '108', '111', '114', '117', '120', '123', '126', '129', '132', '135', '138', '141', '144', '147', '150', '153', '156', '159', '162', '165', '168', '171', '174', '177', '180', '183', '186', '189', '192', '195', '198', '201', '204', '207', '210', '213', '216', '219', '222', '225', '228', '231', '234', '237', '240', '243', '246', '249', '252', '255', '258', '261', '264', '267', '270', '273', '276', '279', '282', '285', '288', '291', '294', '297', '300']\n"
     ]
    }
   ],
   "source": [
    "str_list = []\n",
    "\n",
    "for i in range(3, 301, 3):\n",
    "    i\n",
    "    str_list.append(str(i))\n",
    "print(str_list)"
   ]
  },
  {
   "attachments": {},
   "cell_type": "markdown",
   "metadata": {},
   "source": [
    "## Question 3"
   ]
  },
  {
   "cell_type": "code",
   "execution_count": null,
   "metadata": {},
   "outputs": [
    {
     "name": "stdout",
     "output_type": "stream",
     "text": [
      "369121518212427303336394245485154576063666972757881848790939699102105108111114117120123126129132135138141144147150153156159162165168171174177180183186189192195198201204207210213216219222225228231234237240243246249252255258261264267270273276279282285288291294297300\n"
     ]
    }
   ],
   "source": [
    "concatenated_str = ''\n",
    "\n",
    "for letter in str_list:\n",
    "    concatenated_str += letter\n",
    "\n",
    "print(concatenated_str)"
   ]
  },
  {
   "attachments": {},
   "cell_type": "markdown",
   "metadata": {},
   "source": [
    "## Question 4"
   ]
  },
  {
   "cell_type": "code",
   "execution_count": null,
   "metadata": {},
   "outputs": [
    {
     "name": "stdout",
     "output_type": "stream",
     "text": [
      "[300, 297, 294, 291, 288, 285, 282, 279, 276, 273, 270, 267, 264, 261, 258, 255, 252, 249, 246, 243, 240, 237, 234, 231, 228, 225, 222, 219, 216, 213, 210, 207, 204, 201, 198, 195, 192, 189, 186, 183, 180, 177, 174, 171, 168, 165, 162, 159, 156, 153, 150, 147, 144, 141, 138, 135, 132, 129, 126, 123, 120, 117, 114, 111, 108, 105, 102, 99, 96, 93, 90, 87, 84, 81, 78, 75, 72, 69, 66, 63, 60, 57, 54, 51, 48, 45, 42, 39, 36, 33, 30, 27, 24, 21, 18, 15, 12, 9, 6, 3]\n",
      "100\n"
     ]
    }
   ],
   "source": [
    "reversed_list = []\n",
    "\n",
    "while num_list:\n",
    "    x = num_list.pop()\n",
    "    reversed_list.append(x)\n",
    "\n",
    "print(reversed_list)\n"
   ]
  },
  {
   "attachments": {},
   "cell_type": "markdown",
   "metadata": {},
   "source": [
    "## Question 5"
   ]
  },
  {
   "cell_type": "code",
   "execution_count": null,
   "metadata": {},
   "outputs": [
    {
     "name": "stdout",
     "output_type": "stream",
     "text": [
      "[153, 156, 159, 162, 165, 168, 171, 174, 177, 180, 183, 186, 189, 192, 195, 198, 201, 204, 207, 210, 213, 216, 219, 222, 225, 228, 231, 234, 237, 240, 243, 246, 249, 252, 255, 258, 261, 264, 267, 270, 273, 276, 279, 282, 285, 288, 291, 294, 297, 300]\n"
     ]
    }
   ],
   "source": [
    "num_list = []\n",
    "\n",
    "for number in range(3, 301, 3):\n",
    "    number\n",
    "    num_list.append(number)\n",
    "\n",
    "midpoint = len(num_list) // 2\n",
    "second_half = num_list[midpoint:]\n",
    "print(second_half)\n"
   ]
  },
  {
   "attachments": {},
   "cell_type": "markdown",
   "metadata": {},
   "source": [
    "## Question 6"
   ]
  },
  {
   "cell_type": "code",
   "execution_count": null,
   "metadata": {},
   "outputs": [
    {
     "name": "stdout",
     "output_type": "stream",
     "text": [
      "392581470369258147036925814703690150111172132193153114175135196156117178138199159210271231292252213274234295255216277237298258219270\n"
     ]
    }
   ],
   "source": [
    "concatenated_str\n",
    "new_str = \"\"\n",
    "\n",
    "for i in range(0, len(concatenated_str), 2):\n",
    "    new_str += concatenated_str[i]\n",
    "\n",
    "print(new_str)\n"
   ]
  },
  {
   "attachments": {},
   "cell_type": "markdown",
   "metadata": {},
   "source": [
    "## Question 7\n",
    "\n",
    "\n",
    "In Python, a list is a dynamic collection of elements that are enclosed in square brackets []. Lists are mutable, which means that their elements can be modified, added, or removed after they are created. Lists are very versatile and can be used for different purposes such as storing multiple values, iterating over elements, etc.\n",
    "\n",
    "On the other hand, a tuple is also a collection of elements, but it is enclosed in parentheses () instead of square brackets. Unlike lists, tuples are immutable, which means that their elements cannot be modified, added, or removed after they are created. Once a tuple is created, its elements are fixed and cannot be changed. Another important difference between lists and tuples is that tuples are generally used to store a collection of related values that do not change, such as coordinates, RGB values, etc. Because of their immutability, tuples are also more efficient in terms of memory usage, and they can be used as keys in a dictionary, while lists can not.\n",
    "\n",
    "In summary, the main difference between lists and tuples in Python is that lists are mutable and tuples are immutable, and they are used in different ways depending on the use case. Lists are more versatile and commonly used in Python, while tuples are more efficient in memory usage and can be used as keys in a dictionary."
   ]
  }
 ],
 "metadata": {
  "kernelspec": {
   "display_name": "Python 3",
   "language": "python",
   "name": "python3"
  },
  "language_info": {
   "codemirror_mode": {
    "name": "ipython",
    "version": 3
   },
   "file_extension": ".py",
   "mimetype": "text/x-python",
   "name": "python",
   "nbconvert_exporter": "python",
   "pygments_lexer": "ipython3",
   "version": "3.10.9"
  },
  "orig_nbformat": 4,
  "vscode": {
   "interpreter": {
    "hash": "2dc4c6a692b63101f011a0aa102be2339a2da38695e31b8e74f44edafe8bbd18"
   }
  }
 },
 "nbformat": 4,
 "nbformat_minor": 2
}
