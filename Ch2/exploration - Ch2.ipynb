{
 "cells": [
  {
   "attachments": {},
   "cell_type": "markdown",
   "metadata": {},
   "source": [
    "# Exploration\n",
    "\n",
    "\n",
    "### Question 2"
   ]
  },
  {
   "cell_type": "code",
   "execution_count": 8,
   "metadata": {},
   "outputs": [
    {
     "name": "stdout",
     "output_type": "stream",
     "text": [
      "2\n",
      "3\n",
      "5\n",
      "7\n",
      "11\n",
      "13\n",
      "17\n",
      "19\n",
      "23\n",
      "29\n",
      "31\n",
      "37\n",
      "41\n",
      "43\n",
      "47\n",
      "53\n",
      "59\n",
      "61\n",
      "67\n",
      "71\n",
      "73\n",
      "79\n",
      "83\n",
      "89\n",
      "97\n"
     ]
    }
   ],
   "source": [
    "def primes_generator(n):\n",
    "    primes = []\n",
    "    for i in range(2, n):\n",
    "        for j in primes:\n",
    "            if i % j == 0:\n",
    "                break\n",
    "        else:\n",
    "            primes.append(i)\n",
    "            yield i\n",
    "            \n",
    "for prime in primes_generator(100):\n",
    "    print(prime)\n"
   ]
  },
  {
   "attachments": {},
   "cell_type": "markdown",
   "metadata": {},
   "source": [
    "A generator is a special type of function that can be used to generate a sequence of values, one at a time, on the fly. The 'yield' keyword is used to return a value from the generator, but unlike a normal function, when a generator function is called, it returns a generator object, which can be used to iterate through the sequence of values that the generator produces. Each time the generator's '__next__()' method is called, the function's code is executed from the last point of execution and continues until the next 'yield' statement is encountered, returning the value of the 'yield' expression, or until the end of the function is reached, at which point a 'StopIteration' exception is raised. In the above code, we define a generator function 'primes_generator()' which takes an argument 'n' and returns all the prime numbers between 2 and 'n'. The function iterates through all the numbers between 2 and 'n' and checks if they are prime or not. If they are prime, it yields the number and appends it to the primes list. Finally, we use a for loop to iterate through the primes generator, printing each prime number."
   ]
  },
  {
   "attachments": {},
   "cell_type": "markdown",
   "metadata": {},
   "source": [
    "### Question 2"
   ]
  },
  {
   "cell_type": "code",
   "execution_count": 9,
   "metadata": {},
   "outputs": [
    {
     "name": "stdout",
     "output_type": "stream",
     "text": [
      "[97, 89, 83, 79, 73, 71, 67, 61, 59, 53, 47, 43, 41, 37, 31, 29, 23, 19, 17, 13, 11, 7, 5, 3, 2]\n"
     ]
    }
   ],
   "source": [
    "primes = [2, 3, 5, 7, 11, 13, 17, 19, 23, 29, 31, 37, 41, 43, 47, 53, 59, 61, 67, 71, 73, 79, 83, 89, 97]\n",
    "\n",
    "sorted_primes = []\n",
    "for _ in range(len(primes)):\n",
    "    sorted_primes.append(primes.pop(primes.index(max(primes))))\n",
    "\n",
    "print(sorted_primes)\n"
   ]
  },
  {
   "attachments": {},
   "cell_type": "markdown",
   "metadata": {},
   "source": [
    "### Question 3"
   ]
  },
  {
   "cell_type": "code",
   "execution_count": 10,
   "metadata": {},
   "outputs": [
    {
     "name": "stdout",
     "output_type": "stream",
     "text": [
      "[37, 11, 47, 61, 13, 41, 71, 53, 7, 19, 97, 83, 43, 67, 5, 17, 73, 79, 89, 23, 29, 59, 2, 31, 3]\n"
     ]
    }
   ],
   "source": [
    "import random\n",
    "import copy\n",
    "\n",
    "primes = [2, 3, 5, 7, 11, 13, 17, 19, 23, 29, 31, 37, 41, 43, 47, 53, 59, 61, 67, 71, 73, 79, 83, 89, 97]\n",
    "\n",
    "random_primes = copy.deepcopy(primes)\n",
    "random.shuffle(random_primes)\n",
    "\n",
    "print(random_primes)\n"
   ]
  },
  {
   "attachments": {},
   "cell_type": "markdown",
   "metadata": {},
   "source": [
    "In the above code, we first import the 'random' and 'copy' modules. The random module provides functions for generating random numbers, and the 'copy' module provides functions for creating copies of objects. Created a new list 'random_primes' with the same elements as the original list of prime numbers using the 'deepcopy()' function from the 'copy' module, which creates a new object with the same values as the original object, but with a different memory address, so the original list remains unchanged. Then we use the 'shuffle()' function from the 'random' module to randomly rearrange the elements in the 'random_primes' list. This method is used to shuffle the elements of a list randomly, and it is done in place, meaning it changes the original list and doesn't return a new list. Finally, we print the 'random_primes' list, which will contain the same prime numbers as the original list but in a random order. In this way, we created a new list of prime numbers with the same numbers as the original list but in a random order. This was done using the deepcopy function to create a new list with the same elements, and the shuffle function from the random module to rearrange the elements randomly."
   ]
  },
  {
   "cell_type": "code",
   "execution_count": 11,
   "metadata": {},
   "outputs": [
    {
     "data": {
      "text/plain": [
       "<generator object <genexpr> at 0x0000013E46FA67A0>"
      ]
     },
     "execution_count": 11,
     "metadata": {},
     "output_type": "execute_result"
    }
   ],
   "source": [
    "generator = (prime for prime in range(100))\n",
    "generator"
   ]
  },
  {
   "cell_type": "code",
   "execution_count": 14,
   "metadata": {},
   "outputs": [
    {
     "name": "stdout",
     "output_type": "stream",
     "text": [
      "[2, 3, 5, 7, 11, 13, 17, 19, 23, 29, 31, 37, 41, 43, 47, 53, 59, 61, 67, 71, 73, 79, 83, 89, 97]\n"
     ]
    }
   ],
   "source": [
    "print([i for i in range(2, 100) if 0 not in [i%n for n in range(2, i)]])"
   ]
  },
  {
   "cell_type": "code",
   "execution_count": null,
   "metadata": {},
   "outputs": [],
   "source": []
  }
 ],
 "metadata": {
  "kernelspec": {
   "display_name": "Python 3",
   "language": "python",
   "name": "python3"
  },
  "language_info": {
   "codemirror_mode": {
    "name": "ipython",
    "version": 3
   },
   "file_extension": ".py",
   "mimetype": "text/x-python",
   "name": "python",
   "nbconvert_exporter": "python",
   "pygments_lexer": "ipython3",
   "version": "3.10.9"
  },
  "orig_nbformat": 4,
  "vscode": {
   "interpreter": {
    "hash": "2dc4c6a692b63101f011a0aa102be2339a2da38695e31b8e74f44edafe8bbd18"
   }
  }
 },
 "nbformat": 4,
 "nbformat_minor": 2
}
