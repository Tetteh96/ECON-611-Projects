{
 "cells": [
  {
   "attachments": {},
   "cell_type": "markdown",
   "metadata": {},
   "source": [
    "# ECON 611 PROJECT STATEMENT\n",
    "\n",
    "\n",
    "## Project Title: Quantifying the Impact of Trade Agreements on Economic Growth (with the United States, Canada and Mexico as a Case Study)\n",
    "\n",
    "\n",
    "### Project Statement:\n",
    "\n",
    "The purpose of this project is to conduct a computational analysis of the economic effects of trade agreements, using data on trade flows, GDP, and employment. The project will assess the impact of trade agreements on economic growth, with the United States as a case study based on its trade agreement with Canada (North American Free Trade Agreement) and Mexico (United States-Mexico-Canada Agreement). The project will involve analyzing data on trade agreements signed by the US with these countries and the subsequent economic growth in the countries. The study will use statistical methods such as regression analysis to determine the strength of the relationship between trade agreements and economic growth. The results of this analysis will provide insights into the potential benefits of trade agreements for economic development and help inform policy decisions related to trade. The ultimate goal of the project is to determine the extent to which trade agreements can contribute to sustainable economic growth in countries that participate in these agreements."
   ]
  },
  {
   "cell_type": "code",
   "execution_count": null,
   "metadata": {},
   "outputs": [],
   "source": []
  }
 ],
 "metadata": {
  "kernelspec": {
   "display_name": "Python 3",
   "language": "python",
   "name": "python3"
  },
  "language_info": {
   "name": "python",
   "version": "3.10.10"
  },
  "orig_nbformat": 4,
  "vscode": {
   "interpreter": {
    "hash": "2dc4c6a692b63101f011a0aa102be2339a2da38695e31b8e74f44edafe8bbd18"
   }
  }
 },
 "nbformat": 4,
 "nbformat_minor": 2
}
