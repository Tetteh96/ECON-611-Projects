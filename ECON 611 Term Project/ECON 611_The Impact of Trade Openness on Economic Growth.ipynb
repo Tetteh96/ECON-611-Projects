{
 "cells": [
  {
   "attachments": {},
   "cell_type": "markdown",
   "metadata": {},
   "source": [
    "# CHAPTER ONE\n",
    "\n",
    "## Introduction\n",
    "\n",
    "For a long time, many nations, especially developing nations, have been concerned about trade openness (Zahonogo 2016). Due to the fact that open economies frequently grow more quickly than closed economies (Grossman and Helpman 1991a; Edwards 1993), this is the case. Increased trade openness allows for more efficient production and domestic technological advancement, which raises productivity. In other words, trade openness can significantly contribute to EG stimulation. Due to this, many nations frequently place a high importance on trade openness in order to boost economic growth. Trade openness, however, is not always as effective as anticipated (Singh 2010). In fact, it is challenging to promote Trade Openness's function in promoting Economic Growth if it is not backed by macroeconomic stability and a favourable investment climate (Newfarmer and Sztajerowska 2012).\n",
    "\n",
    "Although studies have produced diverse and contradictory results, the relevance of foreign trade as an engine of economic growth (outward-oriented trade policy) has remained debatable over the past few decades (Zahonogo 2016). On the one hand, an increasing number of researchers have discovered a positive relationship between trade openness and economic growth (Malefane and Odhiambo 2018; Kabuga and Ismail 2018; Keho 2017; Kabuga and Hussaini 2017; Vedia-Jerez and Chasco 2016; Adamu et al. 2015; Zarra-Nezhad et al. 2014; Nowbutsing 2014; Falvey et al. 2012; Das and Paul 2011). However, certain empirical studies (Lawal et al. 2016; Vlastou 2010; Zahonogo 2017; Adhikary 2010; Goh et al. 2017; Eris and Ulasan 2013; Hye and Lau 2015) have discovered that trade openness inhibits economic growth. Contrarily, several research (Musila and Yiheyis 2015; Ulasan 2015) contend that there is no evidence to support the claim that trade openness has an impact on economic growth.\n",
    "\n",
    "Since its creation in 1934, the United States' Gross Domestic Product (GDP) has been one of the most frequently used measures of economic performance. The GDP counts all the products and services that a nation produces in a specific time frame. It is possible to determine whether the economy is expanding or contracting by looking at the GDP growth rate (U.S. Economic Growth 1947–2021, n.d.)\n",
    "\n",
    "The US GDP growth rate has been varying over time, according to Macrotrends. From 2020 to 2021, a growth of 8.71% brought it to 5.95%. It fell by 5.06% to -2.77% in 2020 from 2019 and was at that level in 2020. It fell by 0.65% from 2018 to 2019, reaching 2.29% in 2019. In 2018, it was 2.95%, which was an increase of 0.7% from 2017 (U.S. Real GDP Growth Rate by Year, Compared to Inflation and Unemployment, n.d.)\n",
    "\n",
    "Numerous variables, including inflation, unemployment rates, and governmental policies, have an impact on the GDP growth rate. The Great Depression's economic contraction of -12.9% in 1932 resulted in the largest yearly decline in GDP growth in US history (U.S. Real GDP Growth Rate by Year, Compared to Inflation and Unemployment, n.d.).\n",
    "The GDP growth rate in the United States has fluctuated over the years, but it is still one of the most important measures of economic performance. There hasn't been enough research done to completely understand how trade openness affects the rate of GDP growth in the US. In order to determine how trade openness influences the GDP growth rate in the US, it is necessary to look into the relationship between trade openness and economic growth in the country.\n",
    "\n",
    "The study seeks to answer the following questions based on the objective of the study:\n",
    "1.\tWhat is the relationship between Trade Openness and economic growth in the United States?\n",
    "2.\tTo what extent does Trade Openness affect the GDP growth rate in the United States?\n",
    "3.\tHow have government policies influenced the relationship between Trade Openness and economic growth in the United States over the years?"
   ]
  },
  {
   "attachments": {},
   "cell_type": "markdown",
   "metadata": {},
   "source": [
    "# CHAPTER TWO\n",
    "\n",
    "## Literature Review\n",
    "\n",
    "### Theoretical Literature\n",
    "\n",
    "According to conventional trade theory, specialisation, investments in innovation, increased productivity, and better resource allocation are some ways that trade benefits nations (Zahonogo 2016). This is also evident in the Ricardian– Heckscher–Ohlin theoretical model (Leamer and Levinsohn 1995). International trade openness can therefore improve output since it allows nations to more effectively allocate resources based on their comparative advantages. According to the theory of international trade, trade benefits can come from a variety of fundamental factors, including differences in comparative advantage and a rise in international trade globally (Yanikkaya 2003). The idea of comparative advantage states that because countries can import goods and services rather than investing heavily in domestic production, international trade encourages countries to employ resources more effectively. This demonstrates that imports are equally crucial to economic activity as exports. In other words, imports and exports are two elements that work in tandem and are mutually dependent. As a result, each country's trade openness provides a clear indication of its participation in international trade. The value of exports and imports in relation to GDP is shown by this indicator (Yanikkaya 2003; Fetahi-Vehapi et al. 2015; Zahonogo 2016).\n",
    "\n",
    "The neoclassical growth theory, which is based on Solow's (1957) model, is one of the first ideas that can be used to explain the relationship between Trade Openness and EG. This theory makes the assumption that external technological advancement has a long-term, major impact on EG. Therefore, if trade openness fosters technical advancement, it may have a long-term effect on economic growth. The neoclassical growth theory, in general, has a significant shortcoming since it does not offer a theoretical foundation that suggests that commercial openness can foster technical advancement. To get around this restriction, endogenous growth theories can be used to more precisely describe how trade openness affects economic growth (Grossman and Helpman 1991b; Rivera-Batiz and Romer 1991). As a result, trade openness can offer EG four significant advantages over time: (i) communication impact: opening up trade internationally gives nations the chance to collaborate with foreign partners, which encourages technological transfer; (ii) reduction of duplication: Trade openness promotes nations to develop novel ideas and technologies, which reduces the spread of ideas and technology among nations; (iii) integration effect: Trade Openness broadens the market that businesses can access, increasing both domestic and international competition for those businesses; (iv) allocation effect: Trade Openness encourages countries to specialize in accordance with their comparative advantages, allowing those nations to produce advantageous goods at lower costs than other nations. It is clear that endogenous growth theories, together with other traditional theories, offer a sound theoretical foundation for the long-term effects of trade openness on economic growth. These ideas also provide justifications for why nations ought to widen their trade openings. The fact that certain countries have higher levels of trade openness than others is due to the fact that each country has distinct resources, comparative advantages, and trade openness policies.\n",
    "\n",
    "\n",
    "### Empirical Literature\n",
    "\n",
    "Kong et al. (2021) investigated the impact of exchange rate fluctuations on China's quality of economic growth and Chinese opening up between 1994 and 2018. According to the study, there is a long-term, steady correlation between opening up and the calibre of economic growth. They argued that trade openness can greatly improve the long- and short-term quality of economic growth. They also argued that the quality of economic growth could be maintained through automatic adjustment when the short-term volatility departed from the long-term equilibrium. There was significant geographical variation and non-linear threshold characteristics in the beneficial effect of trade openness on the quality of economic growth.\n",
    "\n",
    "Nguyen and Bui (2021) looked at the nonlinear relationship between trade openness and economic growth in the Asean-6 nations (Indonesia, Malaysia, Thailand, Singapore, Philippines, and Vietnam). The fixed-effect panel threshold approach was used by the authors to estimate the research model in order to meet the predetermined research objectives. According to the study, trade openness has a nonlinear effect on economic growth and has two threshold values. The study's findings demonstrated that high levels of trade openness (beyond the threshold value) without the addition of other complementing policies do not promote high-efficiency economic growth.\n",
    "\n",
    "With data spanning the years 1993 to 2016, Raghutla (2020) examined the effect of trade openness on economic growth in a panel of five developing market economies. The empirical findings supported the long-run relationships between trade openness, economic growth, financial development, inflation, labour force, and technology based on panel estimation methods, whereas the results of long-run elasticities show that trade openness has a significant positive impact on economic growth. According to the heterogeneous panel non-causality tests, there is a short-term unidirectional causal relationship between economic growth and trade openness as well as between economic growth and financial development. There is also a bidirectional relationship between economic growth and inflation. The results indicated that in these five emerging market economies, trade openness significantly contributes to both economic development and growth.\n",
    "\n",
    "Huchet-Bourdon et al. (2018) improved the method for calculating trade openness by accounting for the export quality and diversity, two distinct aspects of a country's integration in the global economy. Their findings revealed that exporting nations grow more quickly, based on the estimate of an endogenous growth model on a panel of 169 countries between 1988 and 2014 using a generalised method of moments estimator. More crucially, they discovered a non-linear relationship between the export ratio and the calibre of the export basket, which suggests that trade openness may have a detrimental effect on growth for nations that specialise in low-quality goods. There was also evidence of a non-linear link between export variety, export ratio, and growth, which suggests that countries with higher export levels may experience faster growth until they had attained a certain level of extensive margin of exports."
   ]
  },
  {
   "attachments": {},
   "cell_type": "markdown",
   "metadata": {},
   "source": [
    "# CHAPTER THREE\n",
    "\n",
    "## Methodology\n",
    "### Data and Variables\n",
    "\n",
    "The study used panel data from 1970 to 2021. This study relied essentially on secondary data from World Bank. Brief explanation of variables follows as:\n",
    "\n",
    "Economic growth: the annual increase or improvement in the real per capita income (real GDP per capita or output per person) in an economy. In this study, annual real GDP is the monetary value of all final goods and services at market prices in US dollars with year 2010 as the base year. This data is sourced from World Bank.\n",
    "\n",
    "Trade openness: Trade between two or more countries. It is measured in this study as total trade expressed as percent of GDP. This data is sourced from World Bank.\n",
    "\n",
    "Foreign Direct Investment: Foreign direct investment are the net inflows of investment to acquire a lasting management interest (10 percent or more of voting stock) in an enterprise operating in an economy other than that of the investor. It is the sum of equity capital, reinvestment of earnings, other long-term capital, and short-term capital as shown in the balance of payments.\n",
    "\n",
    "Government Spending: government final consumption expenditure formerly known as general government consumption. It includes all government current expenditures for purchases of goods and services including compensation of employees and most expenditure on national defense and security. It excludes government military expenditures that are part of government capital formation. This data is sourced from World Bank in current U.S. dollars.\n",
    "\n",
    "Population Growth: Annual population growth rate for year t is the exponential rate of growth of midyear population from year t-1 to t, expressed as a percentage.\n",
    "\n",
    "Inflation: Inflation as measured by the consumer price index reflects the annual percentage change in the cost to the average consumer of acquiring a basket of goods and services that may be fixed or changed at specified intervals, such as yearly.\n",
    "\n",
    "\n",
    "### Model Specification\n",
    "\n",
    "The study used the Ordinary Least Squares (OLS) to estimate the impact of trade openness on economic growth. The study historical data from 1970-2021 (51 years) of the United States. The OLS can be used to derive unbiased and consistent estimates of parameters even when constant time attributes are present (Wiredu et al., 2020; Nketiah et al., 2019).\n",
    "\n",
    "The ordinary linear econometric model that will be used in this study is as follows:\n",
    "\n",
    "                $y_1 = \\beta_0 + \\beta_1 x_{i1} + \\beta_2 x_{i2} + \\dots + \\beta_n x_{in} + \\mu_i$\n",
    "\n"
   ]
  },
  {
   "cell_type": "code",
   "execution_count": null,
   "metadata": {},
   "outputs": [],
   "source": []
  }
 ],
 "metadata": {
  "kernelspec": {
   "display_name": "Python 3",
   "language": "python",
   "name": "python3"
  },
  "language_info": {
   "name": "python",
   "version": "3.10.10"
  },
  "orig_nbformat": 4
 },
 "nbformat": 4,
 "nbformat_minor": 2
}
