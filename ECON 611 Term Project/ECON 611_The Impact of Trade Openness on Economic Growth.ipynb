{
 "cells": [
  {
   "attachments": {},
   "cell_type": "markdown",
   "metadata": {},
   "source": [
    "# CHAPTER ONE\n",
    "\n",
    "## Introduction\n",
    "\n",
    "For a long time, many nations, especially developing nations, have been concerned about trade openness (Zahonogo 2016). Due to the fact that open economies frequently grow more quickly than closed economies (Grossman and Helpman 1991a; Edwards 1993), this is the case. Increased trade openness allows for more efficient production and domestic technological advancement, which raises productivity. In other words, trade openness can significantly contribute to EG stimulation. Due to this, many nations frequently place a high importance on trade openness in order to boost economic growth. Trade openness, however, is not always as effective as anticipated (Singh 2010). In fact, it is challenging to promote Trade Openness's function in promoting Economic Growth if it is not backed by macroeconomic stability and a favourable investment climate (Newfarmer and Sztajerowska 2012).\n",
    "\n",
    "Although studies have produced diverse and contradictory results, the relevance of foreign trade as an engine of economic growth (outward-oriented trade policy) has remained debatable over the past few decades (Zahonogo 2016). On the one hand, an increasing number of researchers have discovered a positive relationship between trade openness and economic growth (Malefane and Odhiambo 2018; Kabuga and Ismail 2018; Keho 2017; Kabuga and Hussaini 2017; Vedia-Jerez and Chasco 2016; Adamu et al. 2015; Zarra-Nezhad et al. 2014; Nowbutsing 2014; Falvey et al. 2012; Das and Paul 2011). However, certain empirical studies (Lawal et al. 2016; Vlastou 2010; Zahonogo 2017; Adhikary 2010; Goh et al. 2017; Eris and Ulasan 2013; Hye and Lau 2015) have discovered that trade openness inhibits economic growth. Contrarily, several research (Musila and Yiheyis 2015; Ulasan 2015) contend that there is no evidence to support the claim that trade openness has an impact on economic growth.\n",
    "\n",
    "Since its creation in 1934, the United States' Gross Domestic Product (GDP) has been one of the most frequently used measures of economic performance. The GDP counts all the products and services that a nation produces in a specific time frame. It is possible to determine whether the economy is expanding or contracting by looking at the GDP growth rate (U.S. Economic Growth 1947–2021, n.d.)\n",
    "\n",
    "The US GDP growth rate has been varying over time, according to Macrotrends. From 2020 to 2021, a growth of 8.71% brought it to 5.95%. It fell by 5.06% to -2.77% in 2020 from 2019 and was at that level in 2020. It fell by 0.65% from 2018 to 2019, reaching 2.29% in 2019. In 2018, it was 2.95%, which was an increase of 0.7% from 2017 (U.S. Real GDP Growth Rate by Year, Compared to Inflation and Unemployment, n.d.)\n",
    "\n",
    "Numerous variables, including inflation, unemployment rates, and governmental policies, have an impact on the GDP growth rate. The Great Depression's economic contraction of -12.9% in 1932 resulted in the largest yearly decline in GDP growth in US history (U.S. Real GDP Growth Rate by Year, Compared to Inflation and Unemployment, n.d.).\n",
    "The GDP growth rate in the United States has fluctuated over the years, but it is still one of the most important measures of economic performance. There hasn't been enough research done to completely understand how trade openness affects the rate of GDP growth in the US. In order to determine how trade openness influences the GDP growth rate in the US, it is necessary to look into the relationship between trade openness and economic growth in the country.\n",
    "\n",
    "To this end, we have formulated null and alternative hypotheses to achieve the study's objective. By testing these hypotheses using empirical data, we hope to contribute to the understanding of the factors that influence economic growth in the United States and to inform policy decisions related to trade policy.\n",
    "\n",
    "- Null hypothesis: There is no significant relationship between Trade Openness and economic growth in the United States.\n",
    "\n",
    "- Alternative hypothesis: There is a significant positive relationship between Trade Openness and economic growth in the United States.\n",
    "\n",
    "The study also seeks to answer the following questions based on the objective of the study:\n",
    "1.\tWhat is the relationship between Trade Openness and economic growth in the United States?\n",
    "2.\tTo what extent does Trade Openness affect the GDP growth rate in the United States?"
   ]
  },
  {
   "attachments": {},
   "cell_type": "markdown",
   "metadata": {},
   "source": [
    "# CHAPTER TWO\n",
    "\n",
    "## Literature Review\n",
    "\n",
    "### Theoretical Literature\n",
    "\n",
    "According to conventional trade theory, specialisation, investments in innovation, increased productivity, and better resource allocation are some ways that trade benefits nations (Zahonogo 2016). This is also evident in the Ricardian– Heckscher–Ohlin theoretical model (Leamer and Levinsohn 1995). International trade openness can therefore improve output since it allows nations to more effectively allocate resources based on their comparative advantages. According to the theory of international trade, trade benefits can come from a variety of fundamental factors, including differences in comparative advantage and a rise in international trade globally (Yanikkaya 2003). The idea of comparative advantage states that because countries can import goods and services rather than investing heavily in domestic production, international trade encourages countries to employ resources more effectively. This demonstrates that imports are equally crucial to economic activity as exports. In other words, imports and exports are two elements that work in tandem and are mutually dependent. As a result, each country's trade openness provides a clear indication of its participation in international trade. The value of exports and imports in relation to GDP is shown by this indicator (Yanikkaya 2003; Fetahi-Vehapi et al. 2015; Zahonogo 2016).\n",
    "\n",
    "The neoclassical growth theory, which is based on Solow's (1957) model, is one of the first ideas that can be used to explain the relationship between Trade Openness and EG. This theory makes the assumption that external technological advancement has a long-term, major impact on EG. Therefore, if trade openness fosters technical advancement, it may have a long-term effect on economic growth. The neoclassical growth theory, in general, has a significant shortcoming since it does not offer a theoretical foundation that suggests that commercial openness can foster technical advancement. To get around this restriction, endogenous growth theories can be used to more precisely describe how trade openness affects economic growth (Grossman and Helpman 1991b; Rivera-Batiz and Romer 1991). As a result, trade openness can offer EG four significant advantages over time: (i) communication impact: opening up trade internationally gives nations the chance to collaborate with foreign partners, which encourages technological transfer; (ii) reduction of duplication: Trade openness promotes nations to develop novel ideas and technologies, which reduces the spread of ideas and technology among nations; (iii) integration effect: Trade Openness broadens the market that businesses can access, increasing both domestic and international competition for those businesses; (iv) allocation effect: Trade Openness encourages countries to specialize in accordance with their comparative advantages, allowing those nations to produce advantageous goods at lower costs than other nations. It is clear that endogenous growth theories, together with other traditional theories, offer a sound theoretical foundation for the long-term effects of trade openness on economic growth. These ideas also provide justifications for why nations ought to widen their trade openings. The fact that certain countries have higher levels of trade openness than others is due to the fact that each country has distinct resources, comparative advantages, and trade openness policies.\n",
    "\n",
    "\n",
    "### Empirical Literature\n",
    "\n",
    "Kong et al. (2021) investigated the impact of exchange rate fluctuations on China's quality of economic growth and Chinese opening up between 1994 and 2018. According to the study, there is a long-term, steady correlation between opening up and the calibre of economic growth. They argued that trade openness can greatly improve the long- and short-term quality of economic growth. They also argued that the quality of economic growth could be maintained through automatic adjustment when the short-term volatility departed from the long-term equilibrium. There was significant geographical variation and non-linear threshold characteristics in the beneficial effect of trade openness on the quality of economic growth.\n",
    "\n",
    "Nguyen and Bui (2021) looked at the nonlinear relationship between trade openness and economic growth in the Asean-6 nations (Indonesia, Malaysia, Thailand, Singapore, Philippines, and Vietnam). The fixed-effect panel threshold approach was used by the authors to estimate the research model in order to meet the predetermined research objectives. According to the study, trade openness has a nonlinear effect on economic growth and has two threshold values. The study's findings demonstrated that high levels of trade openness (beyond the threshold value) without the addition of other complementing policies do not promote high-efficiency economic growth.\n",
    "\n",
    "With data spanning the years 1993 to 2016, Raghutla (2020) examined the effect of trade openness on economic growth in a panel of five developing market economies. The empirical findings supported the long-run relationships between trade openness, economic growth, financial development, inflation, labour force, and technology based on panel estimation methods, whereas the results of long-run elasticities show that trade openness has a significant positive impact on economic growth. According to the heterogeneous panel non-causality tests, there is a short-term unidirectional causal relationship between economic growth and trade openness as well as between economic growth and financial development. There is also a bidirectional relationship between economic growth and inflation. The results indicated that in these five emerging market economies, trade openness significantly contributes to both economic development and growth.\n",
    "\n",
    "Huchet-Bourdon et al. (2018) improved the method for calculating trade openness by accounting for the export quality and diversity, two distinct aspects of a country's integration in the global economy. Their findings revealed that exporting nations grow more quickly, based on the estimate of an endogenous growth model on a panel of 169 countries between 1988 and 2014 using a generalised method of moments estimator. More crucially, they discovered a non-linear relationship between the export ratio and the calibre of the export basket, which suggests that trade openness may have a detrimental effect on growth for nations that specialise in low-quality goods. There was also evidence of a non-linear link between export variety, export ratio, and growth, which suggests that countries with higher export levels may experience faster growth until they had attained a certain level of extensive margin of exports."
   ]
  },
  {
   "attachments": {},
   "cell_type": "markdown",
   "metadata": {},
   "source": [
    "# CHAPTER THREE\n",
    "\n",
    "## Methodology\n",
    "### Data and Variables\n",
    "\n",
    "Data from 1970 through 2021 were used for the study. This study mainly used secondary data from the World Bank. The variables are briefly explained as follows:\n",
    "\n",
    "Economic growth: the annual increase or improvement in the real per capita income (real GDP per capita or output per person) in an economy. In this study, annual real GDP is the monetary value of all final goods and services at market prices in US dollars with year 2010 as the base year. This data is sourced from World Bank.\n",
    "\n",
    "Trade openness: Trade between two or more countries. It is measured in this study as total trade expressed as percent of GDP. This data is sourced from World Bank.\n",
    "\n",
    "Foreign Direct Investment: Foreign direct investment are the net inflows of investment to acquire a lasting management interest (10 percent or more of voting stock) in an enterprise operating in an economy other than that of the investor. It is the sum of equity capital, reinvestment of earnings, other long-term capital, and short-term capital as shown in the balance of payments.\n",
    "\n",
    "Government Spending: government final consumption expenditure formerly known as general government consumption. It includes all government current expenditures for purchases of goods and services including compensation of employees and most expenditure on national defense and security. It excludes government military expenditures that are part of government capital formation. This data is sourced from World Bank in current U.S. dollars.\n",
    "\n",
    "Population Growth: Annual population growth rate for year t is the exponential rate of growth of midyear population from year t-1 to t, expressed as a percentage.\n",
    "\n",
    "Inflation: Inflation as measured by the consumer price index reflects the annual percentage change in the cost to the average consumer of acquiring a basket of goods and services that may be fixed or changed at specified intervals, such as yearly.\n",
    "\n",
    "\n",
    "### Model Specification\n",
    "\n",
    "The study used the OLS to estimate the impact of trade openness on economic growth. The study uses historical data from 1970-2021 (51 years) of the United States. The OLS can be used to derive unbiased and consistent estimates of parameters.\n",
    "\n",
    "The ordinary linear econometric model that will be used in this study is as follows:\n",
    "\n",
    "\n",
    "$log\\_GDP per capita = \\beta_0 + \\beta_1 log\\_FDI(NET) + \\beta_2 log\\_Trade(\\% of GDP) + \\beta_3 log\\_CPI\\_Inflation + \\beta_4 log\\_Pop\\_growth + \\beta_5 log\\_GOVT\\_EXP + \\mu_i$\n",
    "\n",
    "\n",
    "\n",
    "In this equation, the dependent variable($log\\_GDP per capita$) is GDP per capita. $\\beta_0$ is the intercept of the equation and vectors of the equation are $\\beta_1$, $\\beta_2$, $\\beta_3$, $\\beta_4$, and $\\beta_5$ respectively. $\\log\\_Trade(\\% of GDP)$ denotes the trade openness, $log\\_CPI\\_Inflation$ represents CPI inflation in the United States, $log\\_FDI(NET)$ represents net foreign direct investment, $log\\_Pop\\_growth$, represents population growth rate in United States overtime and $log\\_GOVT\\_EXP$ denotes total government expenditure in the United States over the years. \n"
   ]
  },
  {
   "attachments": {},
   "cell_type": "markdown",
   "metadata": {},
   "source": [
    "# CHAPTER FOUR\n",
    "\n",
    "## Data Analysis and Discussion of Results\n"
   ]
  },
  {
   "cell_type": "code",
   "execution_count": 1,
   "metadata": {},
   "outputs": [],
   "source": [
    "import wbdata\n",
    "import pandas as pd\n",
    "import matplotlib.pyplot as plt\n",
    "import seaborn as sns\n",
    "import numpy as np\n",
    "import statsmodels.api as sm\n",
    "from statsmodels.stats.diagnostic import het_breuschpagan\n",
    "from statsmodels.tsa.arima.model import ARIMA\n",
    "from statsmodels.tsa.stattools import adfuller\n",
    "from statsmodels.stats.outliers_influence import variance_inflation_factor\n",
    "from statsmodels.tools.tools import add_constant\n",
    "\n",
    "import warnings\n",
    "warnings.filterwarnings('ignore')"
   ]
  },
  {
   "cell_type": "code",
   "execution_count": 2,
   "metadata": {},
   "outputs": [],
   "source": [
    "# Set the country code\n",
    "country_code = 'USA'\n",
    "\n",
    "# Set the indicators\n",
    "indicators = {\n",
    "    'BX.KLT.DINV.WD.GD.ZS': 'FDI(NET)',\n",
    "    'NE.TRD.GNFS.ZS': 'Trade (% of GDP)',\n",
    "    'NY.GDP.PCAP.CD': 'GDP per capita',\n",
    "    'FP.CPI.TOTL.ZG': 'CPI_Inflation',\n",
    "    'SP.POP.GROW': 'Pop_growth',\n",
    "    'NE.CON.GOVT.ZS': 'GOVT_EXP'\n",
    "}\n",
    "\n",
    "# Get the data\n",
    "data = wbdata.get_dataframe(indicators, country=country_code, convert_date=True)\n",
    "\n",
    "# Reorder the rows with 1960 as the first index\n",
    "data = data.reindex(index=data.index[::-1])"
   ]
  },
  {
   "cell_type": "code",
   "execution_count": 3,
   "metadata": {},
   "outputs": [],
   "source": [
    "# Slice the data to only include years 1990 to 2019\n",
    "data = data.loc['1970-01-01':'2021-01-01']"
   ]
  },
  {
   "attachments": {},
   "cell_type": "markdown",
   "metadata": {},
   "source": [
    "### Descriptive statistics"
   ]
  },
  {
   "cell_type": "code",
   "execution_count": 4,
   "metadata": {},
   "outputs": [
    {
     "data": {
      "text/html": [
       "<div>\n",
       "<style scoped>\n",
       "    .dataframe tbody tr th:only-of-type {\n",
       "        vertical-align: middle;\n",
       "    }\n",
       "\n",
       "    .dataframe tbody tr th {\n",
       "        vertical-align: top;\n",
       "    }\n",
       "\n",
       "    .dataframe thead th {\n",
       "        text-align: right;\n",
       "    }\n",
       "</style>\n",
       "<table border=\"1\" class=\"dataframe\">\n",
       "  <thead>\n",
       "    <tr style=\"text-align: right;\">\n",
       "      <th></th>\n",
       "      <th>count</th>\n",
       "      <th>mean</th>\n",
       "      <th>std</th>\n",
       "      <th>min</th>\n",
       "      <th>25%</th>\n",
       "      <th>50%</th>\n",
       "      <th>75%</th>\n",
       "      <th>max</th>\n",
       "    </tr>\n",
       "  </thead>\n",
       "  <tbody>\n",
       "    <tr>\n",
       "      <th>FDI(NET)</th>\n",
       "      <td>52.0</td>\n",
       "      <td>1.164</td>\n",
       "      <td>0.849</td>\n",
       "      <td>0.066</td>\n",
       "      <td>0.537</td>\n",
       "      <td>1.066</td>\n",
       "      <td>1.695</td>\n",
       "      <td>3.406</td>\n",
       "    </tr>\n",
       "    <tr>\n",
       "      <th>Trade (% of GDP)</th>\n",
       "      <td>52.0</td>\n",
       "      <td>21.718</td>\n",
       "      <td>5.309</td>\n",
       "      <td>10.757</td>\n",
       "      <td>17.533</td>\n",
       "      <td>22.370</td>\n",
       "      <td>25.842</td>\n",
       "      <td>30.842</td>\n",
       "    </tr>\n",
       "    <tr>\n",
       "      <th>GDP per capita</th>\n",
       "      <td>52.0</td>\n",
       "      <td>31953.038</td>\n",
       "      <td>18882.495</td>\n",
       "      <td>5234.297</td>\n",
       "      <td>15266.367</td>\n",
       "      <td>29329.294</td>\n",
       "      <td>48180.179</td>\n",
       "      <td>70248.629</td>\n",
       "    </tr>\n",
       "    <tr>\n",
       "      <th>CPI_Inflation</th>\n",
       "      <td>52.0</td>\n",
       "      <td>3.958</td>\n",
       "      <td>2.869</td>\n",
       "      <td>-0.356</td>\n",
       "      <td>2.174</td>\n",
       "      <td>3.185</td>\n",
       "      <td>4.730</td>\n",
       "      <td>13.549</td>\n",
       "    </tr>\n",
       "    <tr>\n",
       "      <th>Pop_growth</th>\n",
       "      <td>52.0</td>\n",
       "      <td>0.948</td>\n",
       "      <td>0.227</td>\n",
       "      <td>0.118</td>\n",
       "      <td>0.874</td>\n",
       "      <td>0.951</td>\n",
       "      <td>1.106</td>\n",
       "      <td>1.387</td>\n",
       "    </tr>\n",
       "    <tr>\n",
       "      <th>GOVT_EXP</th>\n",
       "      <td>52.0</td>\n",
       "      <td>15.573</td>\n",
       "      <td>1.077</td>\n",
       "      <td>13.963</td>\n",
       "      <td>14.832</td>\n",
       "      <td>15.635</td>\n",
       "      <td>16.165</td>\n",
       "      <td>17.962</td>\n",
       "    </tr>\n",
       "  </tbody>\n",
       "</table>\n",
       "</div>"
      ],
      "text/plain": [
       "                  count       mean        std       min        25%        50%  \\\n",
       "FDI(NET)           52.0      1.164      0.849     0.066      0.537      1.066   \n",
       "Trade (% of GDP)   52.0     21.718      5.309    10.757     17.533     22.370   \n",
       "GDP per capita     52.0  31953.038  18882.495  5234.297  15266.367  29329.294   \n",
       "CPI_Inflation      52.0      3.958      2.869    -0.356      2.174      3.185   \n",
       "Pop_growth         52.0      0.948      0.227     0.118      0.874      0.951   \n",
       "GOVT_EXP           52.0     15.573      1.077    13.963     14.832     15.635   \n",
       "\n",
       "                        75%        max  \n",
       "FDI(NET)              1.695      3.406  \n",
       "Trade (% of GDP)     25.842     30.842  \n",
       "GDP per capita    48180.179  70248.629  \n",
       "CPI_Inflation         4.730     13.549  \n",
       "Pop_growth            1.106      1.387  \n",
       "GOVT_EXP             16.165     17.962  "
      ]
     },
     "execution_count": 4,
     "metadata": {},
     "output_type": "execute_result"
    }
   ],
   "source": [
    "data.describe().T.round(3)"
   ]
  },
  {
   "attachments": {},
   "cell_type": "markdown",
   "metadata": {},
   "source": [
    "For the descriptive statistics analysis, the raw data has been taken into account. In this data set, there are 52 observations,that is, 52 year period from 1970 to 2021. In the descriptive statistics, GDP per capita's mean is 237 billion USD and the median is 112 billion USD. The maximum value of GDP is 31953.038, in contrast, the minimum value is 5234.297. The standard deviation of the GDP per capita is 18882.495."
   ]
  },
  {
   "cell_type": "code",
   "execution_count": 5,
   "metadata": {},
   "outputs": [
    {
     "data": {
      "text/plain": [
       "FDI(NET)            0.733700\n",
       "Trade (% of GDP)   -0.140288\n",
       "GDP per capita      0.270545\n",
       "CPI_Inflation       1.574007\n",
       "Pop_growth         -0.930988\n",
       "GOVT_EXP            0.363604\n",
       "dtype: float64"
      ]
     },
     "execution_count": 5,
     "metadata": {},
     "output_type": "execute_result"
    }
   ],
   "source": [
    "skewness = data.skew()\n",
    "skewness"
   ]
  },
  {
   "attachments": {},
   "cell_type": "markdown",
   "metadata": {},
   "source": [
    "- With a positive skewness score of 0.733700, the FDI (NET) variable indicates that the distribution is skewed to the right. This shows that the distribution may have more lower values overall while having fewer higher values.\n",
    "\n",
    "- The Trade (% of GDP) variable, in contrast, has a negative skewness score of -0.140288, which suggests that the distribution is skewed to the left. This shows that the distribution may have more higher values overall while having fewer lower values.\n",
    "\n",
    "- The distribution of the GDP per capita variable is significantly skewed to the right, although not as much as the FDI (NET) variable, with a positive skewness value of 0.270545.\n",
    "\n",
    "- The distribution is strongly skewed to the right, according to the CPI_Inflation variable, which has a bigger positive skewness value of 1.574007 than other variables. This shows that the distribution may contain a sizable proportion of lower inflation numbers and very few higher values.\n",
    "\n",
    "- The distribution of the Pop_growth variable appears to be substantially skewed to the left, as indicated by its negative skewness value of -0.930988. This suggests that the distribution may contain a sizable number of greater population growth values and very few lower values.\n",
    "\n",
    "- A positive skewness score of 0.363604 for the GOVT_EXP variable indicates that the distribution is somewhat skewed to the right. This shows that the distribution of government expenditure values may have more lower values and fewer higher values."
   ]
  },
  {
   "cell_type": "code",
   "execution_count": 6,
   "metadata": {},
   "outputs": [
    {
     "data": {
      "text/plain": [
       "FDI(NET)            0.019075\n",
       "Trade (% of GDP)   -0.679777\n",
       "GDP per capita     -1.123760\n",
       "CPI_Inflation       2.498040\n",
       "Pop_growth          2.615605\n",
       "GOVT_EXP           -0.460442\n",
       "dtype: float64"
      ]
     },
     "execution_count": 6,
     "metadata": {},
     "output_type": "execute_result"
    }
   ],
   "source": [
    "kurtosis = data.kurt()\n",
    "kurtosis"
   ]
  },
  {
   "attachments": {},
   "cell_type": "markdown",
   "metadata": {},
   "source": [
    "- The positive kurtosis value for the FDI (NET) variable is 0.019075, which is near to 0, and indicating that the distribution is roughly normal.\n",
    "\n",
    "- With a negative kurtosis value of -0.679777, the Trade (% of GDP) variable's distribution is flatter than a normal distribution and has shorter tails. This indicates that this variable's values are more dispersed than would be predicted under a normal distribution.\n",
    "\n",
    "- The distribution of the GDP per capita variable is even flatter than the Trade (% of GDP) variable, with a greater negative kurtosis value of -1.123760. This implies that this variable's values are considerably more dispersed than would be predicted from a normal distribution.\n",
    "\n",
    "- The CPI_Inflation variable has a significant positive kurtosis value of 2.498040, which indicates that the distribution has a larger peak and fatter tails than a normal distribution. This implies that the distribution contains more extreme values than would be predicted from a normal distribution.\n",
    "\n",
    "- The Pop_growth variable also shows a significant positive kurtosis value of 2.615605, which denotes a distribution that is more pronounced and has fatter tails than a normal distribution. This implies that the distribution contains more extreme values than would be predicted from a normal distribution.\n",
    "\n",
    "- The distribution of the GOVT_EXP variable is flatter than a normal distribution, with thinner tails, as shown by a negative kurtosis value of -0.460442 for the variable. This indicates that this variable's values are more dispersed than would be predicted under a normal distribution."
   ]
  },
  {
   "cell_type": "code",
   "execution_count": 7,
   "metadata": {},
   "outputs": [
    {
     "data": {
      "text/html": [
       "<div>\n",
       "<style scoped>\n",
       "    .dataframe tbody tr th:only-of-type {\n",
       "        vertical-align: middle;\n",
       "    }\n",
       "\n",
       "    .dataframe tbody tr th {\n",
       "        vertical-align: top;\n",
       "    }\n",
       "\n",
       "    .dataframe thead th {\n",
       "        text-align: right;\n",
       "    }\n",
       "</style>\n",
       "<table border=\"1\" class=\"dataframe\">\n",
       "  <thead>\n",
       "    <tr style=\"text-align: right;\">\n",
       "      <th></th>\n",
       "      <th>FDI(NET)</th>\n",
       "      <th>Trade (% of GDP)</th>\n",
       "      <th>GDP per capita</th>\n",
       "      <th>CPI_Inflation</th>\n",
       "      <th>Pop_growth</th>\n",
       "      <th>GOVT_EXP</th>\n",
       "    </tr>\n",
       "  </thead>\n",
       "  <tbody>\n",
       "    <tr>\n",
       "      <th>FDI(NET)</th>\n",
       "      <td>1.000000</td>\n",
       "      <td>0.750737</td>\n",
       "      <td>0.684826</td>\n",
       "      <td>-0.489094</td>\n",
       "      <td>-0.275733</td>\n",
       "      <td>-0.699456</td>\n",
       "    </tr>\n",
       "    <tr>\n",
       "      <th>Trade (% of GDP)</th>\n",
       "      <td>0.750737</td>\n",
       "      <td>1.000000</td>\n",
       "      <td>0.898165</td>\n",
       "      <td>-0.502316</td>\n",
       "      <td>-0.473472</td>\n",
       "      <td>-0.681242</td>\n",
       "    </tr>\n",
       "    <tr>\n",
       "      <th>GDP per capita</th>\n",
       "      <td>0.684826</td>\n",
       "      <td>0.898165</td>\n",
       "      <td>1.000000</td>\n",
       "      <td>-0.639109</td>\n",
       "      <td>-0.615948</td>\n",
       "      <td>-0.692791</td>\n",
       "    </tr>\n",
       "    <tr>\n",
       "      <th>CPI_Inflation</th>\n",
       "      <td>-0.489094</td>\n",
       "      <td>-0.502316</td>\n",
       "      <td>-0.639109</td>\n",
       "      <td>1.000000</td>\n",
       "      <td>0.160736</td>\n",
       "      <td>0.423385</td>\n",
       "    </tr>\n",
       "    <tr>\n",
       "      <th>Pop_growth</th>\n",
       "      <td>-0.275733</td>\n",
       "      <td>-0.473472</td>\n",
       "      <td>-0.615948</td>\n",
       "      <td>0.160736</td>\n",
       "      <td>1.000000</td>\n",
       "      <td>0.308853</td>\n",
       "    </tr>\n",
       "    <tr>\n",
       "      <th>GOVT_EXP</th>\n",
       "      <td>-0.699456</td>\n",
       "      <td>-0.681242</td>\n",
       "      <td>-0.692791</td>\n",
       "      <td>0.423385</td>\n",
       "      <td>0.308853</td>\n",
       "      <td>1.000000</td>\n",
       "    </tr>\n",
       "  </tbody>\n",
       "</table>\n",
       "</div>"
      ],
      "text/plain": [
       "                  FDI(NET)  Trade (% of GDP)  GDP per capita  CPI_Inflation  \\\n",
       "FDI(NET)          1.000000          0.750737        0.684826      -0.489094   \n",
       "Trade (% of GDP)  0.750737          1.000000        0.898165      -0.502316   \n",
       "GDP per capita    0.684826          0.898165        1.000000      -0.639109   \n",
       "CPI_Inflation    -0.489094         -0.502316       -0.639109       1.000000   \n",
       "Pop_growth       -0.275733         -0.473472       -0.615948       0.160736   \n",
       "GOVT_EXP         -0.699456         -0.681242       -0.692791       0.423385   \n",
       "\n",
       "                  Pop_growth  GOVT_EXP  \n",
       "FDI(NET)           -0.275733 -0.699456  \n",
       "Trade (% of GDP)   -0.473472 -0.681242  \n",
       "GDP per capita     -0.615948 -0.692791  \n",
       "CPI_Inflation       0.160736  0.423385  \n",
       "Pop_growth          1.000000  0.308853  \n",
       "GOVT_EXP            0.308853  1.000000  "
      ]
     },
     "execution_count": 7,
     "metadata": {},
     "output_type": "execute_result"
    }
   ],
   "source": [
    "corr = data.corr()\n",
    "corr"
   ]
  },
  {
   "cell_type": "code",
   "execution_count": 8,
   "metadata": {},
   "outputs": [],
   "source": [
    "for col in data.columns:\n",
    "    new_col = 'log_' + col\n",
    "    data[new_col] = data[col].apply(np.log)"
   ]
  },
  {
   "cell_type": "code",
   "execution_count": 9,
   "metadata": {},
   "outputs": [],
   "source": [
    "data['log_GDP per capita(-1)'] = data['log_GDP per capita'].shift()"
   ]
  },
  {
   "cell_type": "code",
   "execution_count": 10,
   "metadata": {},
   "outputs": [],
   "source": [
    "data = data.loc[:, data.columns.str.contains('log')]"
   ]
  },
  {
   "cell_type": "code",
   "execution_count": 11,
   "metadata": {},
   "outputs": [],
   "source": [
    "data = data.dropna()"
   ]
  },
  {
   "attachments": {},
   "cell_type": "markdown",
   "metadata": {},
   "source": [
    "#### OLS Regression Analysis"
   ]
  },
  {
   "cell_type": "code",
   "execution_count": 12,
   "metadata": {},
   "outputs": [
    {
     "name": "stdout",
     "output_type": "stream",
     "text": [
      "                            OLS Regression Results                            \n",
      "==============================================================================\n",
      "Dep. Variable:     log_GDP per capita   R-squared:                       1.000\n",
      "Model:                            OLS   Adj. R-squared:                  1.000\n",
      "Method:                 Least Squares   F-statistic:                 2.197e+04\n",
      "Date:                Sun, 23 Apr 2023   Prob (F-statistic):           2.87e-73\n",
      "Time:                        22:22:33   Log-Likelihood:                 146.86\n",
      "No. Observations:                  50   AIC:                            -279.7\n",
      "Df Residuals:                      43   BIC:                            -266.3\n",
      "Df Model:                           6                                         \n",
      "Covariance Type:            nonrobust                                         \n",
      "==========================================================================================\n",
      "                             coef    std err          t      P>|t|      [0.025      0.975]\n",
      "------------------------------------------------------------------------------------------\n",
      "const                      1.0080      0.168      6.015      0.000       0.670       1.346\n",
      "log_FDI(NET)               0.0019      0.005      0.408      0.685      -0.008       0.011\n",
      "log_Trade (% of GDP)       0.0443      0.024      1.839      0.073      -0.004       0.093\n",
      "log_CPI_Inflation          0.0041      0.004      1.064      0.293      -0.004       0.012\n",
      "log_Pop_growth            -0.0361      0.006     -5.802      0.000      -0.049      -0.024\n",
      "log_GOVT_EXP              -0.1786      0.050     -3.545      0.001      -0.280      -0.077\n",
      "log_GDP per capita(-1)     0.9397      0.010     93.737      0.000       0.919       0.960\n",
      "==============================================================================\n",
      "Omnibus:                        1.838   Durbin-Watson:                   1.890\n",
      "Prob(Omnibus):                  0.399   Jarque-Bera (JB):                1.188\n",
      "Skew:                          -0.365   Prob(JB):                        0.552\n",
      "Kurtosis:                       3.191   Cond. No.                         981.\n",
      "==============================================================================\n",
      "\n",
      "Notes:\n",
      "[1] Standard Errors assume that the covariance matrix of the errors is correctly specified.\n"
     ]
    }
   ],
   "source": [
    "y = data['log_GDP per capita']\n",
    "X = data.drop(columns= 'log_GDP per capita')\n",
    "model_ols = sm.OLS(y, sm.add_constant(X))\n",
    "results = model_ols.fit()\n",
    "print(results.summary())"
   ]
  },
  {
   "attachments": {},
   "cell_type": "markdown",
   "metadata": {},
   "source": [
    "At the 10% level of significance, the variable log_FDI(NET) is found to be statistically insignificant. This implies that there is insufficient data to draw the conclusion that FDI significantly affects economic growth in the US. This is similar to the results od Nath (2009) and  Pandya and Sisombat (2017).\n",
    "\n",
    "\n",
    "The results show that the coefficient of log_Trade (% of GDP) is statistically significant at the 10% level. With the coefficient of 0.0443, trade openness and GDP per capita have a significant positive relationship, which means that when trade openness rises by a dollar, GDP per capita tends to follow suit increasing by 0.0443 dollars (see Nguyen & Bui, 2021; Raghutla, 2020; Mizan, 2019). As a result, policymakers may want to take into account measures that encourage greater trade openness to boost economic development. This shows that trade openness can be a significant driver of economic growth in the United States.\n",
    "\n",
    "We cannot draw the conclusion that there is a substantial relationship between CPI inflation and economic growth in the United States since the coefficient for log_CPI_Inflation is not statistically significant at the 10% significance level. In other words, changes in the CPI inflation rate do not seem to significantly affect changes in the rate of growth in the US economy.\n",
    "\n",
    "With a negative coefficient of -0.0361, the variable log_Pop_growth is discovered to be statistically significant at the 1% level. This suggests that, in the United States, there is a large inverse relationship between population growth and economic growth (see Heady & Hodge, 2009). The coefficient specifically shows that economic growth slows down as population growth rate rises. This might be the result of things like heightened competition for resources and employment openings, which might cause an economic slowdown. Therefore, to encourage long-term sustainable economic growth, policymakers may need to take into account measures that address population growth.\n",
    "\n",
    "Indicating a strong relationship between government expenditure and economic growth, the coefficient of log_GOVT_EXP is statistically significant at the 1% level of significance. A negative coefficient of -0.1786 suggests that an increase in government expenditure leads to a decrease in economic growth (see Lupu et al., 2018; M.P. Sáez et al., 2017; A.G. Hasnul, 2015). This could be as a result of the fact that increased government spending frequently results in greater taxes, which could lower disposable income and investment. Additionally, government spending may crowd out private investment and reduce economic efficiency. Therefore, controlling government expenditure is important for promoting economic growth in the United States.\n",
    "\n",
    "According to the findings, previous economic growth in the United States is a substantial driver of current economic growth due to the lagged dependent variable's significant coefficient, log_GDP per capita(-1). The idea that economic growth is a path-dependent process, where previous economic outcomes and investments influence the present and future growth trajectory, is supported by this. This study suggests that while determining the direction of future economic policies and investments, investors and policymakers should consider previous trends in economic growth. Additionally, it implies that consistent economic growth is necessary for long-term economic prosperity since it paves the way for further growth and development."
   ]
  },
  {
   "attachments": {},
   "cell_type": "markdown",
   "metadata": {},
   "source": [
    "The log-likelihood value of 146.86 indicates a better fit of the model to the data.\n",
    "\n",
    "The AIC value of -279.7 and BIC value of -266.3 indicate that the model is a good fit.\n",
    "\n",
    "The Omnibus value is 1.838, which suggests that the residuals are close to normally distributed.\n",
    "\n",
    "The p-value (Prob(Omnibus)) is 0.399, thus, greater than 0.05 indicates that there is not enough evidence to reject the null hypothesis of normality.\n",
    "\n",
    "The Durbin-Watson value is 1.890, which suggests that there is no significant autocorrelation in the residuals.\n",
    "\n",
    "The JB value is 1.188, which suggests that the residuals are close to normally distributed.\n",
    "\n",
    "The Prob(JB), p-value, is 0.552, which indicates that there is not enough evidence to reject the null hypothesis of normality."
   ]
  },
  {
   "cell_type": "code",
   "execution_count": 13,
   "metadata": {},
   "outputs": [
    {
     "data": {
      "image/png": "[encoded data removed]",
      "text/plain": [
       "<Figure size 1000x600 with 1 Axes>"
      ]
     },
     "metadata": {},
     "output_type": "display_data"
    }
   ],
   "source": [
    "# Plot the distribution of the residuals\n",
    "fig, ax = plt.subplots(figsize=(10, 6))\n",
    "sns.distplot(results.resid,\n",
    "            hist=True,\n",
    "            kde=True,\n",
    "            kde_kws={'shade': True})\n",
    "ax.set_xlabel('Residuals')\n",
    "ax.set_ylabel('Density')\n",
    "ax.set_title('Distribution of Residuals')\n",
    "ax.axvline(0, color='black', linestyle='--')\n",
    "plt.show()"
   ]
  },
  {
   "cell_type": "code",
   "execution_count": 14,
   "metadata": {},
   "outputs": [
    {
     "name": "stdout",
     "output_type": "stream",
     "text": [
      "Breusch-Pagan test results:\n",
      "Test statistic: 5.249165652562482\n",
      "p-value: 0.5122758420420357\n",
      "F-statistic: 0.8406328297247768\n",
      "F p-value: 0.5456429618250693\n",
      "The Breusch-Pagan test indicates that there is no evidence of heteroscedasticity in the residuals.\n"
     ]
    }
   ],
   "source": [
    "# Define the response variable and predictor variables\n",
    "y = data['log_GDP per capita']\n",
    "X = data.drop(columns= 'log_GDP per capita')\n",
    "\n",
    "# Fit a linear regression model\n",
    "model = sm.OLS(y, sm.add_constant(X)).fit()\n",
    "\n",
    "# Compute the Breusch-Pagan test\n",
    "bp_test = het_breuschpagan(model.resid, model.model.exog)\n",
    "\n",
    "# Print the test results\n",
    "print('Breusch-Pagan test results:')\n",
    "print('Test statistic:', bp_test[0])\n",
    "print('p-value:', bp_test[1])\n",
    "print('F-statistic:', bp_test[2])\n",
    "print('F p-value:', bp_test[3])\n",
    "\n",
    "# Check for heteroscedasticity\n",
    "if bp_test[1] < 0.05:\n",
    "    print('The Breusch-Pagan test indicates that there is heteroscedasticity in the residuals.')\n",
    "else:\n",
    "    print('The Breusch-Pagan test indicates that there is no evidence of heteroscedasticity in the residuals.')"
   ]
  },
  {
   "attachments": {},
   "cell_type": "markdown",
   "metadata": {},
   "source": [
    "# CHAPTER FIVE\n",
    "\n",
    "## Conclusion"
   ]
  },
  {
   "attachments": {},
   "cell_type": "markdown",
   "metadata": {},
   "source": [
    "In this research paper, the main objective was to analyze the effects of different factors on economic growth in the United States. The study used data from 1970 to 2021 and examined the impacts of trade openness, net FDI, CPI inflation, population growth rate, and government expenditure on economic growth. The empirical results showed that trade openness and previous economic growth have a positive and significant impact on current economic growth. This implies that an increase in trade openness and sustained economic growth in previous periods can enhance economic growth in the US.\n",
    "\n",
    "Furthermore, the study found that population growth rate and government expenditure have a negative impact on economic growth. This suggests that as the population growth rate increases, economic growth tends to decrease. Similarly, as government expenditure increases, economic growth tends to decrease. These findings highlight the importance of managing population growth rate and government expenditure to maintain a healthy economic growth rate. To achieve sustainable economic growth, policies that promote population control should be considered, while government expenditure should be monitored to ensure that it is targeted towards productive activities.\n",
    "\n",
    "However, the study did not find a significant relationship between net FDI and CPI inflation with economic growth in the United States. This implies that net FDI and CPI inflation do not have a significant impact on economic growth in the country. Overall, the study provides important insights into the factors that can influence economic growth in the United States and can be useful for policymakers and researchers in the field of economics.\n",
    "\n",
    "Net FDI and CPI inflation were found not to contribute significantly to economic growth. Although there is some modicum of evidence that in the United States, net FDI and CPI inflaiton contribute to economic growth. Policy makers should focus on strategies to attract more foreign direct investment (FDI) and maintain stable inflation to further promote economic growth. By adopting these measures, the United States can enhance its economic growth and remain competitive in the global economy.\n",
    "\n",
    "Furthermore, we recommend that policy makers continue to monitor trends in trade openness and the previous period's economic growth rate, and implement policies that promote economic openness and enhance the country's economic resilience. This may involve promoting free trade agreements and reducing trade barriers to enhance international trade, promoting research and development to spur innovation, and creating a favorable investment climate to attract both domestic and foreign investors.\n",
    "\n",
    "The findings provide insights into the key drivers of economic growth in the United States, and can serve as a guide for policy makers as they strive to promote sustainable economic growth and development in the country."
   ]
  },
  {
   "attachments": {},
   "cell_type": "markdown",
   "metadata": {},
   "source": [
    "# References\n",
    "\n",
    "Adamu, A. M., Kabuga, N. A., & Suleiman, H. H. (2015). Remittance, aid, foreign direct investment, financial development and economic growth in Nigeria: a time series analysis. In Proceedings of 1st international conference and doctoral colloquium on the theme:“development in africa: perspectives, issues and trends”, faculty of social and management sciences, Bayero University Kano, Nigeria held between 17th–18th November (pp. 720-733).\n",
    "\n",
    "Adhikary, B. K. (2011). FDI, trade openness, capital formation, and economic growth in Bangladesh: a linkage analysis. International Journal of Business and Management, 6(1), 16.\n",
    "\n",
    "Barro, R. J., & Sala-i-Martin, X. (1997). Technological Diffusion. Convergence, and Growth, rJournal of Economic Growth, 2(1), 26.\n",
    "\n",
    "Cooke, D. (2010). Openness and inflation. Journal of Money, Credit and Banking, 42(2‐3), 267-287.\n",
    "\n",
    "Das, A., & Paul, B. P. (2011). Openness and growth in emerging Asian economies: Evidence from GMM estimations of a dynamic panel. Economics Bulletin, 31(3), 2219-2228.\n",
    "\n",
    "Edwards, S. (1993). Openness, trade liberalization, and growth in developing countries. Journal of economic Literature, 31(3), 1358-1393.\n",
    "\n",
    "Eriṣ, M. N., & Ulaṣan, B. (2013). Trade openness and economic growth: Bayesian model averaging estimate of cross-country growth regressions. Economic Modelling, 33, 867-883.\n",
    "\n",
    "Falvey, R., Foster, N., & Greenaway, D. (2012). Trade liberalization, economic crises, and growth. World Development, 40(11), 2177-2193.\n",
    "\n",
    "Fetahi-Vehapi, M., Sadiku, L., & Petkovski, M. (2015). Empirical analysis of the effects of trade openness on economic growth: An evidence for South East European countries. Procedia Economics and Finance, 19, 17-26.\n",
    "\n",
    "Gabriel, A. A., & David, A. O. (2021). Effect of Trade Openness and Financial Openness on Economic Growth in Sub-Saharan African Countries. African Journal of Economic Review, 9(1), 109-130.\n",
    "\n",
    "Goh, S. K., Sam, C. Y., & McNown, R. (2017). Re-examining foreign direct investment, exports, and economic growth in Asian economies using a bootstrap ARDL test for cointegration. Journal of Asian Economics, 51, 12-22.\n",
    "\n",
    "Gross Domestic Product. (2019). Stlouisfed.org. https://fred.stlouisfed.org/series/GDP/\n",
    "\n",
    "Grossman, G. M., & Helpman, E. (1991). Quality ladders in the theory of growth. The review of economic studies, 58(1), 43-61.\n",
    "\n",
    "Grossman, G. M., & Helpman, E. (1993). Innovation and growth in the global economy. MIT press.\n",
    "\n",
    "Hasnul, A. G. (2015). The effects of government expenditure on economic growth: the case of Malaysia.\n",
    "\n",
    "Hausmann, R., Hwang, J., & Rodrik, D. (2007). What you export matters. Journal of economic growth, 12, 1-25.\n",
    "\n",
    "Headey, D. D., & Hodge, A. (2009). The effect of population growth on economic growth: A meta‐regression analysis of the macroeconomic literature. Population and development review, 35(2), 221-248.\n",
    "\n",
    "Huchet‐Bourdon, M., Le Mouël, C., & Vijil, M. (2018). The relationship between trade openness and economic growth: Some new insights on the openness measurement issue. The World Economy, 41(1), 59-76.\n",
    "\n",
    "Hye, Q. M. A., & Lau, W. Y. (2015). Trade openness and economic growth: empirical evidence from India. Journal of Business Economics and Management, 16(1), 188-205.\n",
    "\n",
    "Ijirshar, V. U. (2019). Impact of trade openness on economic growth among ECOWAS Countries: 1975-2017. CBN Journal of Applied Statistics (JAS), 10(1), 4.\n",
    "\n",
    "Kabuga, N. A., & Hussaini, M. (2017). Government spending on education and economic growth in Nigeria: An empirical investigation. Kano Journal of Educational Studies, 4(3), 225-236.\n",
    "\n",
    "Kabuga, N. A., & Ismail, A. A. (2018). Does trade openness promote long run economic growth in Nigeria? An empirical insight. Journal of economics and development, 1(1), 25-36.\n",
    "\n",
    "Keho, Y. (2017). The impact of trade openness on economic growth: The case of Cote d’Ivoire. Cogent Economics & Finance, 5(1), 1332820.\n",
    "\n",
    "Kong, Q., Peng, D., Ni, Y., Jiang, X., & Wang, Z. (2021). Trade openness and economic growth quality of China: Empirical analysis using ARDL model. Finance Research Letters, 38, 101488.\n",
    "\n",
    "Lawal, A. I., Nwanji, T. I., Asaleye, A., & Ahmed, V. (2016). Economic growth, financial development and trade openness in Nigeria: An application of the ARDL bound testing approach. Cogent Economics & Finance, 4(1), 1258810.\n",
    "\n",
    "Leamer, E. E., & Levinsohn, J. (1995). International trade theory: the evidence. Handbook of international economics, 3, 1339-1394.\n",
    "\n",
    "Lupu, D., Petrisor, M. B., Bercu, A., & Tofan, M. (2018). The impact of public expenditures on economic growth: A case study of Central and Eastern European countries. Emerging markets finance and trade, 54(3), 552-570.\n",
    "\n",
    "Malefane, M. R. (2018). Impact of trade openness on economic growth: Empirical evidence from South Africa.\n",
    "\n",
    "Mizan, A. N. Trade Openness and Economic Growth-A Panel Data Analysis on Selected Developing Countries From 1998-2017.\n",
    "\n",
    "Mundial, B. (1993). The East Asian miracle: economic growth and public policy. World Bank.\n",
    "\n",
    "Musila, J. W., & Yiheyis, Z. (2015). The impact of trade openness on growth: The case of Kenya. Journal of Policy Modeling, 37(2), 342-354.\n",
    "\n",
    "Nath, H. K. (2009). Trade, foreign direct investment, and growth: Evidence from transition economies. Comparative Economic Studies, 51, 20-50.\n",
    "\n",
    "Newfarmer, R., & Sztajerowska, M. (2012). Trade and employment in a fast-changing world. Policy priorities for international trade and jobs, 7-73.\n",
    "\n",
    "Nguyen, M. L. T., & Bui, T. N. (2021). Trade openness and economic growth: A study on Asean-6. Economies, 9(3), 113.\n",
    "\n",
    "Nowbutsing, B. M. (2014). The impact of openness on economic growth: Case of Indian Ocean rim countries. Journal of Economics and Development Studies, 2(2), 407-427.\n",
    "\n",
    "Pandya, V., & Sisombat, S. (2017). Impacts of foreign direct investment on economic growth: empirical evidence from Australian economy. International Journal of Economics and Finance, 9(5), 121-131.\n",
    "\n",
    "Raghutla, C. (2020). The effect of trade openness on economic growth: Some empirical evidence from emerging market economies. Journal of Public Affairs, 20(3), e2081.\n",
    "\n",
    "Rivera-Batiz, L. A., & Romer, P. M. (1991). International trade with endogenous technological change. European economic review, 35(4), 971-1001.\n",
    "\n",
    "Rivera-Batiz, L. A., & Romer, P. M. (1991). International trade with endogenous technological change. European economic review, 35(4), 971-1001.\n",
    "\n",
    "Romer, P. (1986). Increasing Returns and Long (run Growth, Journal of Political Economy (94). 1002-1037; Romer PM (1990)\" Endogenous technical change\". Journal of Political Economy, 98, S71.\n",
    "\n",
    "Sáez, M. P., Álvarez-García, S., & Rodríguez, D. C. (2017). Government expenditure and economic growth in the European Union countries: New evidence. Bulletin of Geography. Socio-Economic Series, (36), 127-133.\n",
    "\n",
    "Singh, T. (2010). Does international trade cause economic growth? A survey. The World Economy, 33(11), 1517-1564.\n",
    "\n",
    "Solow, R. M. (1957). Technical change and the aggregate production function. The review of Economics and Statistics, 312-320.\n",
    "\n",
    "Stiglitz, J. E. (1996). Some lessons from the East Asian miracle. The world Bank research observer, 11(2), 151-177.\n",
    "\n",
    "U.S. Economic Growth 1947-2021. (n.d.). Www.macrotrends.net. https://www.macrotrends.net/countries/USA/united-states/economic-growth-rate\n",
    "\n",
    "U.S. Real GDP Growth Rate by Year, Compared to Inflation and Unemployment. (n.d.). The Balance. https://www.thebalancemoney.com/u-s-gdp-growth-3306008\n",
    "\n",
    "Ulaşan, B. (2015). Trade openness and economic growth: panel evidence. Applied Economics Letters, 22(2), 163-167.\n",
    "\n",
    "Vedia-Jerez, D. H., & Chasco, C. (2016). Long-run determinants of economic growth in South America. Journal of Applied Economics, 19(1), 169-192.\n",
    "\n",
    "Vlastou, I. (2010). Forcing Africa to open up to trade: Is it worth it?. The Journal of Developing Areas, 25-39.\n",
    "\n",
    "Yanikkaya, H. (2003). Trade openness and economic growth: a cross-country empirical investigation. Journal of Development economics, 72(1), 57-89.\n",
    "\n",
    "Young, A. (1991). Learning by doing and the dynamic effects of international trade. The quarterly journal of economics, 106(2), 369-405.\n",
    "\n",
    "Zahonogo, P. (2016). Trade and economic growth in developing countries: Evidence from sub-Saharan Africa. Journal of African Trade, 3(1-2), 41-56.\n",
    "\n",
    "Zarra-Nezhad, M., Hosseinpour, F., & Arman, S. A. (2014). Trade-growth nexus in developing and developed countries: An application of extreme bounds analysis. Asian Economic and Financial Review, 4(7), 915-929.\n",
    "\n"
   ]
  }
 ],
 "metadata": {
  "kernelspec": {
   "display_name": "Python 3",
   "language": "python",
   "name": "python3"
  },
  "language_info": {
   "codemirror_mode": {
    "name": "ipython",
    "version": 3
   },
   "file_extension": ".py",
   "mimetype": "text/x-python",
   "name": "python",
   "nbconvert_exporter": "python",
   "pygments_lexer": "ipython3",
   "version": "3.10.10"
  },
  "orig_nbformat": 4
 },
 "nbformat": 4,
 "nbformat_minor": 2
}
